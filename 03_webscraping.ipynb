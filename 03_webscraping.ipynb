{
 "cells": [
  {
   "cell_type": "code",
   "execution_count": 1,
   "metadata": {},
   "outputs": [],
   "source": [
    "# Now loop through each game link and get data for each game"
   ]
  },
  {
   "cell_type": "code",
   "execution_count": 339,
   "metadata": {},
   "outputs": [],
   "source": [
    "# Import packages\n",
    "import time, random\n",
    "import requests\n",
    "from bs4 import BeautifulSoup as bs\n",
    "import pandas as pd"
   ]
  },
  {
   "cell_type": "code",
   "execution_count": 3,
   "metadata": {},
   "outputs": [],
   "source": [
    "#Loading in the links to be scraped\n",
    "\n",
    "links=[]\n",
    "# open file and read the content in a list\n",
    "with open(r'game_links.txt', 'r') as fp:\n",
    "    for line in fp:\n",
    "        # remove linebreak from a current name\n",
    "        # linebreak is the last character of each line\n",
    "        x = line[:-1]\n",
    "\n",
    "        # add current item to the list\n",
    "        links.append(x)"
   ]
  },
  {
   "cell_type": "code",
   "execution_count": 293,
   "metadata": {},
   "outputs": [
    {
     "data": {
      "text/plain": [
       "'/app/1761390'"
      ]
     },
     "execution_count": 293,
     "metadata": {},
     "output_type": "execute_result"
    }
   ],
   "source": [
    "# Figure out how to get information from one page first\n",
    "links[777]"
   ]
  },
  {
   "cell_type": "code",
   "execution_count": 313,
   "metadata": {},
   "outputs": [
    {
     "name": "stdout",
     "output_type": "stream",
     "text": [
      "200\n"
     ]
    }
   ],
   "source": [
    "# Get html from one link\n",
    "\n",
    "url='https://store.steampowered.com/app/730'\n",
    "\n",
    "# Scraping single base link\n",
    "time.sleep(1+2*random.random())\n",
    "response=requests.get(url)\n",
    "time.sleep(1+2*random.random())\n",
    "print(response.status_code)\n",
    "html=response.text\n",
    "soup=bs(html)\n"
   ]
  },
  {
   "cell_type": "code",
   "execution_count": 335,
   "metadata": {},
   "outputs": [
    {
     "name": "stdout",
     "output_type": "stream",
     "text": [
      "Counter-Strike: Global Offensive\n"
     ]
    }
   ],
   "source": [
    "# Find game title\n",
    "\n",
    "title=soup.find('div',{'id':'appHubAppName'}).text.replace('\\u200b','')\n",
    "print(title)"
   ]
  },
  {
   "cell_type": "code",
   "execution_count": 334,
   "metadata": {},
   "outputs": [
    {
     "name": "stdout",
     "output_type": "stream",
     "text": [
      "Counter-Strike: Global Offensive (CS: GO) expands upon the team-based action gameplay that it pioneered when it was launched 19 years ago. CS: GO features new maps, characters, weapons, and game modes, and delivers updated versions of the classic CS content (de_dust2, etc.).\n"
     ]
    }
   ],
   "source": [
    "# Find game description snippet\n",
    "\n",
    "snippet=soup.find('div',{'class':'game_description_snippet'}).get_text(strip=True).replace('\\u200b','')\n",
    "print(snippet)"
   ]
  },
  {
   "cell_type": "code",
   "execution_count": 326,
   "metadata": {},
   "outputs": [
    {
     "name": "stdout",
     "output_type": "stream",
     "text": [
      "['Valve', 'Hidden Path Entertainment']\n",
      "['Valve']\n"
     ]
    }
   ],
   "source": [
    "# Find developer and publisher\n",
    "dev_pub_tags=soup.find('div',{'class':'glance_ctn_responsive_left'}).find_all('div',{'class':'dev_row'})\n",
    "\n",
    "dev_tags=dev_pub_tags[0]\n",
    "pub_tags=dev_pub_tags[1]\n",
    "\n",
    "dev_anchors=dev_tags.find_all('a')\n",
    "pub_anchors=pub_tags.find_all('a')\n",
    "\n",
    "developers=[]\n",
    "publishers=[]\n",
    "for anchor in dev_anchors:\n",
    "    developers.append(anchor.text.replace('\\u200b',''))\n",
    "\n",
    "for anchor in pub_anchors:\n",
    "    publishers.append(anchor.text.replace('\\u200b',''))\n",
    "\n",
    "print(developers)\n",
    "print(publishers)\n",
    "    "
   ]
  },
  {
   "cell_type": "code",
   "execution_count": 327,
   "metadata": {},
   "outputs": [
    {
     "name": "stdout",
     "output_type": "stream",
     "text": [
      "['FPS', 'Shooter', 'Multiplayer', 'Competitive', 'Action', 'Team-Based', 'eSports', 'Tactical', 'First-Person', 'PvP', 'Online Co-Op', 'Co-op', 'Strategy', 'Military', 'War', 'Difficult', 'Trading', 'Realistic', 'Fast-Paced', 'Moddable']\n"
     ]
    }
   ],
   "source": [
    "# Find popular tags\n",
    "pop_tag_anchors=soup.find('div',{'class':'glance_tags popular_tags'}).find_all('a')\n",
    "pop_tags=[]\n",
    "for tag in pop_tag_anchors:\n",
    "    pop_tags.append(tag.get_text(strip=True).replace('\\u200b',''))\n",
    "\n",
    "print(pop_tags)"
   ]
  },
  {
   "cell_type": "code",
   "execution_count": 328,
   "metadata": {},
   "outputs": [
    {
     "name": "stdout",
     "output_type": "stream",
     "text": [
      "['Steam Achievements', 'Full controller support', 'Steam Trading Cards', 'Steam Workshop', 'In-App Purchases', 'Valve Anti-Cheat enabled', 'Stats', 'Remote Play on Phone', 'Remote Play on Tablet', 'Remote Play on TV']\n"
     ]
    }
   ],
   "source": [
    "# Find game features\n",
    "game_feature_anchors=soup.find('div',{'class':'game_area_features_list_ctn'}).find_all('a')\n",
    "game_features=[]\n",
    "for tag in game_feature_anchors:\n",
    "    game_features.append(tag.get_text(strip=True).replace('\\u200b',''))\n",
    "\n",
    "print(game_features)"
   ]
  },
  {
   "cell_type": "code",
   "execution_count": 329,
   "metadata": {},
   "outputs": [
    {
     "name": "stdout",
     "output_type": "stream",
     "text": [
      "['Action', 'Free to Play']\n"
     ]
    }
   ],
   "source": [
    "# Find game genre\n",
    "\n",
    "game_genre_anchors=soup.find('div',{'id':'genresAndManufacturer'}).find('span').find_all('a')\n",
    "game_genres=[]\n",
    "for tag in game_genre_anchors:\n",
    "    game_genres.append(tag.get_text(strip=True).replace('\\u200b',''))\n",
    "\n",
    "print(game_genres)"
   ]
  },
  {
   "cell_type": "code",
   "execution_count": 332,
   "metadata": {},
   "outputs": [
    {
     "name": "stdout",
     "output_type": "stream",
     "text": [
      "About This Game Counter-Strike: Global Offensive (CS: GO) expands upon the team-based action gameplay that it pioneered when it was launched 19 years ago. CS: GO features new maps, characters, weapons, and game modes, and delivers updated versions of the classic CS content (de_dust2, etc.). \"Counter-Strike took the gaming industry by surprise when the unlikely MOD became the most played online PC action game in the world almost immediately after its release in August 1999,\" said Doug Lombardi at Valve. \"For the past 12 years, it has continued to be one of the most-played games in the world, headline competitive gaming tournaments and selling over 25 million units worldwide across the franchise. CS: GO promises to expand on CS' award-winning gameplay and deliver it to gamers on the PC as well as the next gen consoles and the Mac.\" Mature Content Description The developers describe the content like this: Includes intense violence and blood. \n"
     ]
    }
   ],
   "source": [
    "# Find game description\n",
    "\n",
    "description_words=[]\n",
    "for tag in soup.find_all('div',{'class':'game_area_description'}):\n",
    "    for item in tag:\n",
    "        if item.get_text(strip=True).replace('\\u200b','')=='':\n",
    "            continue\n",
    "        description_words.append(item.get_text(strip=True).replace('\\u200b',''))\n",
    "\n",
    "\n",
    "\n",
    "# Combine all text from description into one string\n",
    "description=\"\"\n",
    "for item in description_words:\n",
    "    description+=item+' '\n",
    "\n",
    "print(description)"
   ]
  },
  {
   "cell_type": "code",
   "execution_count": null,
   "metadata": {},
   "outputs": [],
   "source": []
  },
  {
   "cell_type": "code",
   "execution_count": null,
   "metadata": {},
   "outputs": [],
   "source": []
  },
  {
   "cell_type": "code",
   "execution_count": 177,
   "metadata": {},
   "outputs": [],
   "source": [
    "text_file = open(\"html/testhtml.txt\", \"w\")\n",
    "n = text_file.write(html)\n",
    "text_file.close()"
   ]
  },
  {
   "cell_type": "code",
   "execution_count": 337,
   "metadata": {},
   "outputs": [],
   "source": [
    "row=[title,snippet,description,developers,publishers,pop_tags,game_features,game_genres]"
   ]
  },
  {
   "cell_type": "code",
   "execution_count": 353,
   "metadata": {},
   "outputs": [],
   "source": [
    "df=pd.DataFrame(columns=['Title','Desc_Snippet','Description','Developers','Publishers','Tags','Features','Genres'])"
   ]
  },
  {
   "cell_type": "code",
   "execution_count": 356,
   "metadata": {},
   "outputs": [],
   "source": [
    "df.loc[len(df)] = row"
   ]
  },
  {
   "cell_type": "code",
   "execution_count": 383,
   "metadata": {},
   "outputs": [
    {
     "data": {
      "text/html": [
       "<div>\n",
       "<style scoped>\n",
       "    .dataframe tbody tr th:only-of-type {\n",
       "        vertical-align: middle;\n",
       "    }\n",
       "\n",
       "    .dataframe tbody tr th {\n",
       "        vertical-align: top;\n",
       "    }\n",
       "\n",
       "    .dataframe thead th {\n",
       "        text-align: right;\n",
       "    }\n",
       "</style>\n",
       "<table border=\"1\" class=\"dataframe\">\n",
       "  <thead>\n",
       "    <tr style=\"text-align: right;\">\n",
       "      <th></th>\n",
       "      <th>Title</th>\n",
       "      <th>Desc_Snippet</th>\n",
       "      <th>Description</th>\n",
       "      <th>Developers</th>\n",
       "      <th>Publishers</th>\n",
       "      <th>Tags</th>\n",
       "      <th>Features</th>\n",
       "      <th>Genres</th>\n",
       "    </tr>\n",
       "  </thead>\n",
       "  <tbody>\n",
       "    <tr>\n",
       "      <th>0</th>\n",
       "      <td>Counter-Strike: Global Offensive</td>\n",
       "      <td>Counter-Strike: Global Offensive (CS: GO) expa...</td>\n",
       "      <td>About This Game Counter-Strike: Global Offensi...</td>\n",
       "      <td>[Valve, Hidden Path Entertainment]</td>\n",
       "      <td>[Valve]</td>\n",
       "      <td>[FPS, Shooter, Multiplayer, Competitive, Actio...</td>\n",
       "      <td>[Steam Achievements, Full controller support, ...</td>\n",
       "      <td>[Action, Free to Play]</td>\n",
       "    </tr>\n",
       "  </tbody>\n",
       "</table>\n",
       "</div>"
      ],
      "text/plain": [
       "                              Title  \\\n",
       "0  Counter-Strike: Global Offensive   \n",
       "\n",
       "                                        Desc_Snippet  \\\n",
       "0  Counter-Strike: Global Offensive (CS: GO) expa...   \n",
       "\n",
       "                                         Description  \\\n",
       "0  About This Game Counter-Strike: Global Offensi...   \n",
       "\n",
       "                           Developers Publishers  \\\n",
       "0  [Valve, Hidden Path Entertainment]    [Valve]   \n",
       "\n",
       "                                                Tags  \\\n",
       "0  [FPS, Shooter, Multiplayer, Competitive, Actio...   \n",
       "\n",
       "                                            Features                  Genres  \n",
       "0  [Steam Achievements, Full controller support, ...  [Action, Free to Play]  "
      ]
     },
     "execution_count": 383,
     "metadata": {},
     "output_type": "execute_result"
    }
   ],
   "source": [
    "df"
   ]
  },
  {
   "cell_type": "code",
   "execution_count": 391,
   "metadata": {},
   "outputs": [
    {
     "data": {
      "text/html": [
       "<div>\n",
       "<style scoped>\n",
       "    .dataframe tbody tr th:only-of-type {\n",
       "        vertical-align: middle;\n",
       "    }\n",
       "\n",
       "    .dataframe tbody tr th {\n",
       "        vertical-align: top;\n",
       "    }\n",
       "\n",
       "    .dataframe thead th {\n",
       "        text-align: right;\n",
       "    }\n",
       "</style>\n",
       "<table border=\"1\" class=\"dataframe\">\n",
       "  <thead>\n",
       "    <tr style=\"text-align: right;\">\n",
       "      <th></th>\n",
       "      <th>Title</th>\n",
       "      <th>Desc_Snippet</th>\n",
       "      <th>Description</th>\n",
       "      <th>Developers</th>\n",
       "      <th>Publishers</th>\n",
       "      <th>Tags</th>\n",
       "      <th>Features</th>\n",
       "      <th>Genres</th>\n",
       "    </tr>\n",
       "  </thead>\n",
       "  <tbody>\n",
       "    <tr>\n",
       "      <th>0</th>\n",
       "      <td>Counter-Strike: Global Offensive</td>\n",
       "      <td>Counter-Strike: Global Offensive (CS: GO) expa...</td>\n",
       "      <td>About This Game Counter-Strike: Global Offensi...</td>\n",
       "      <td>[Valve, Hidden Path Entertainment]</td>\n",
       "      <td>[Valve]</td>\n",
       "      <td>[FPS, Shooter, Multiplayer, Competitive, Actio...</td>\n",
       "      <td>[Steam Achievements, Full controller support, ...</td>\n",
       "      <td>[Action, Free to Play]</td>\n",
       "    </tr>\n",
       "  </tbody>\n",
       "</table>\n",
       "</div>"
      ],
      "text/plain": [
       "                              Title  \\\n",
       "0  Counter-Strike: Global Offensive   \n",
       "\n",
       "                                        Desc_Snippet  \\\n",
       "0  Counter-Strike: Global Offensive (CS: GO) expa...   \n",
       "\n",
       "                                         Description  \\\n",
       "0  About This Game Counter-Strike: Global Offensi...   \n",
       "\n",
       "                           Developers Publishers  \\\n",
       "0  [Valve, Hidden Path Entertainment]    [Valve]   \n",
       "\n",
       "                                                Tags  \\\n",
       "0  [FPS, Shooter, Multiplayer, Competitive, Actio...   \n",
       "\n",
       "                                            Features                  Genres  \n",
       "0  [Steam Achievements, Full controller support, ...  [Action, Free to Play]  "
      ]
     },
     "execution_count": 391,
     "metadata": {},
     "output_type": "execute_result"
    }
   ],
   "source": [
    "df[df['Publishers'].apply(lambda x: 'Valve' in x)]"
   ]
  },
  {
   "cell_type": "code",
   "execution_count": 392,
   "metadata": {},
   "outputs": [
    {
     "data": {
      "text/plain": [
       "0    None\n",
       "Name: Description, dtype: object"
      ]
     },
     "execution_count": 392,
     "metadata": {},
     "output_type": "execute_result"
    }
   ],
   "source": [
    "test_list=[]\n",
    "df['Description'].apply(lambda x: test_list.append(x))"
   ]
  },
  {
   "cell_type": "code",
   "execution_count": null,
   "metadata": {},
   "outputs": [],
   "source": []
  },
  {
   "cell_type": "code",
   "execution_count": null,
   "metadata": {},
   "outputs": [],
   "source": []
  }
 ],
 "metadata": {
  "kernelspec": {
   "display_name": "Python 3 (unsupervised)",
   "language": "python",
   "name": "unsupervised"
  },
  "language_info": {
   "codemirror_mode": {
    "name": "ipython",
    "version": 3
   },
   "file_extension": ".py",
   "mimetype": "text/x-python",
   "name": "python",
   "nbconvert_exporter": "python",
   "pygments_lexer": "ipython3",
   "version": "3.9.12"
  },
  "orig_nbformat": 4,
  "vscode": {
   "interpreter": {
    "hash": "31f2aee4e71d21fbe5cf8b01ff0e069b9275f58929596ceb00d14d90e3e16cd6"
   }
  }
 },
 "nbformat": 4,
 "nbformat_minor": 2
}
