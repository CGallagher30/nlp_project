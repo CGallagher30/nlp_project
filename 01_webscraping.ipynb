{
 "cells": [
  {
   "cell_type": "code",
   "execution_count": 1,
   "metadata": {},
   "outputs": [],
   "source": [
    "# Web Scraping Game Link Gathering\n",
    "# Import Packages\n",
    "import time, random\n",
    "import requests\n",
    "from bs4 import BeautifulSoup as bs"
   ]
  },
  {
   "cell_type": "code",
   "execution_count": 2,
   "metadata": {},
   "outputs": [],
   "source": [
    "# Base link\n",
    "\n",
    "url='https://steamcharts.com/top/p.1'\n",
    "\n",
    "# Change out p.1 with p.#\n",
    "# 40 = 1000 games\n",
    "# 80 = 2000 games"
   ]
  },
  {
   "cell_type": "code",
   "execution_count": 3,
   "metadata": {},
   "outputs": [
    {
     "name": "stdout",
     "output_type": "stream",
     "text": [
      "200\n"
     ]
    }
   ],
   "source": [
    "# Scraping single base link\n",
    "time.sleep(1+2*random.random())\n",
    "response=requests.get(url)\n",
    "time.sleep(1+2*random.random())\n",
    "print(response.status_code)\n",
    "html=response.text\n",
    "soup=bs(html)"
   ]
  },
  {
   "cell_type": "code",
   "execution_count": 13,
   "metadata": {},
   "outputs": [],
   "source": [
    "# Find the main table that lists all the games on the page\n",
    "find_table=soup.find('table',{'class':'common-table'})"
   ]
  },
  {
   "cell_type": "code",
   "execution_count": 23,
   "metadata": {},
   "outputs": [],
   "source": [
    "# Find all anchors/links for the games in the table\n",
    "find_anchors=find_table.find_all('a')"
   ]
  },
  {
   "cell_type": "code",
   "execution_count": 24,
   "metadata": {},
   "outputs": [],
   "source": [
    "# Add the links to a list\n",
    "links=[]\n",
    "for tag in find_anchors:\n",
    "    link=tag['href']\n",
    "    links.append(link)"
   ]
  },
  {
   "cell_type": "code",
   "execution_count": null,
   "metadata": {},
   "outputs": [],
   "source": [
    "# Need to repeat the above for every https://steamcharts.com/top/p.1 link\n",
    "# Will have a list to a links for every game that lead to something like this: https://steamcharts.com/app/730\n",
    "# Now need to scrap those pages to get the link to the steam store page of each game\n",
    "\n",
    "\n",
    "# As discovered below, using the the above we will have every link needed for links like: https://store.steampowered.com/app/730/\n"
   ]
  },
  {
   "cell_type": "code",
   "execution_count": 26,
   "metadata": {},
   "outputs": [],
   "source": [
    "# Scraping a page like : https://steamcharts.com/app/730\n",
    "\n",
    "\n",
    "# Base link\n",
    "\n",
    "url='https://steamcharts.com/app/730'\n",
    "\n",
    "# Change /app/730 with ends of links to all other games"
   ]
  },
  {
   "cell_type": "code",
   "execution_count": 27,
   "metadata": {},
   "outputs": [
    {
     "name": "stdout",
     "output_type": "stream",
     "text": [
      "200\n"
     ]
    }
   ],
   "source": [
    "# Scraping single base link\n",
    "time.sleep(1+2*random.random())\n",
    "response=requests.get(url)\n",
    "time.sleep(1+2*random.random())\n",
    "print(response.status_code)\n",
    "html=response.text\n",
    "soup=bs(html)"
   ]
  },
  {
   "cell_type": "code",
   "execution_count": 33,
   "metadata": {},
   "outputs": [],
   "source": [
    "find_links=soup.find('div',{'id':'app-links'})"
   ]
  },
  {
   "cell_type": "code",
   "execution_count": 34,
   "metadata": {},
   "outputs": [
    {
     "data": {
      "text/plain": [
       "<div id=\"app-links\">\n",
       "<a href=\"http://store.steampowered.com/app/730/\">Store</a>\n",
       "\t|\n",
       "\t<a href=\"http://steamcommunity.com/app/730\">Hub</a>\n",
       "</div>"
      ]
     },
     "execution_count": 34,
     "metadata": {},
     "output_type": "execute_result"
    }
   ],
   "source": [
    "find_links"
   ]
  },
  {
   "cell_type": "code",
   "execution_count": 35,
   "metadata": {},
   "outputs": [],
   "source": [
    "# Turns out that the /app/730 that was found earlier can just be applied to links like: https://store.steampowered.com/app/730/\n",
    "# Saves some time"
   ]
  },
  {
   "cell_type": "code",
   "execution_count": 36,
   "metadata": {},
   "outputs": [
    {
     "data": {
      "text/plain": [
       "['/app/730',\n",
       " '/app/570',\n",
       " '/app/578080',\n",
       " '/app/1172470',\n",
       " '/app/1599340',\n",
       " '/app/271590',\n",
       " '/app/1203220',\n",
       " '/app/431960',\n",
       " '/app/440',\n",
       " '/app/252490',\n",
       " '/app/105600',\n",
       " '/app/381210',\n",
       " '/app/1091500',\n",
       " '/app/304930',\n",
       " '/app/1811260',\n",
       " '/app/346110',\n",
       " '/app/236390',\n",
       " '/app/1085660',\n",
       " '/app/359550',\n",
       " '/app/1569040',\n",
       " '/app/289070',\n",
       " '/app/230410',\n",
       " '/app/1190340',\n",
       " '/app/1222680',\n",
       " '/app/394360']"
      ]
     },
     "execution_count": 36,
     "metadata": {},
     "output_type": "execute_result"
    }
   ],
   "source": [
    "links"
   ]
  },
  {
   "cell_type": "code",
   "execution_count": null,
   "metadata": {},
   "outputs": [],
   "source": []
  }
 ],
 "metadata": {
  "kernelspec": {
   "display_name": "Python 3 (unsupervised)",
   "language": "python",
   "name": "unsupervised"
  },
  "language_info": {
   "codemirror_mode": {
    "name": "ipython",
    "version": 3
   },
   "file_extension": ".py",
   "mimetype": "text/x-python",
   "name": "python",
   "nbconvert_exporter": "python",
   "pygments_lexer": "ipython3",
   "version": "3.9.12"
  },
  "orig_nbformat": 4
 },
 "nbformat": 4,
 "nbformat_minor": 2
}
