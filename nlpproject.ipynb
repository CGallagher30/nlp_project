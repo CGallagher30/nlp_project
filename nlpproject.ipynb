{
 "cells": [
  {
   "cell_type": "code",
   "execution_count": 1,
   "metadata": {},
   "outputs": [],
   "source": [
    "# Load in the data\n",
    "import pandas as pd\n",
    "\n",
    "df=pd.read_csv('steam_games.csv',index_col=0)"
   ]
  },
  {
   "cell_type": "code",
   "execution_count": 2,
   "metadata": {},
   "outputs": [
    {
     "data": {
      "text/plain": [
       "0       None\n",
       "1       None\n",
       "2       None\n",
       "3       None\n",
       "4       None\n",
       "        ... \n",
       "1910    None\n",
       "1911    None\n",
       "1912    None\n",
       "1913    None\n",
       "1914    None\n",
       "Name: Description, Length: 1915, dtype: object"
      ]
     },
     "execution_count": 2,
     "metadata": {},
     "output_type": "execute_result"
    }
   ],
   "source": [
    "# Create the corpus of descriptions\n",
    "corpus=[]\n",
    "df['Description'].map(lambda x: corpus.append(x))"
   ]
  },
  {
   "cell_type": "code",
   "execution_count": 3,
   "metadata": {},
   "outputs": [],
   "source": [
    "# Clean the corpus data\n",
    "import re\n",
    "\n",
    "\n",
    "clean_corpus=[]\n",
    "for doc in corpus:\n",
    "    text=doc\n",
    "    text=re.sub(r'http\\S+','',text)\n",
    "    text=re.sub(r'[0-9]', '', text)\n",
    "    text=re.sub(r'_', '', text)\n",
    "    \n",
    "\n",
    "\n",
    "    clean_corpus.append(text)\n",
    "\n",
    "corpus=clean_corpus\n"
   ]
  },
  {
   "cell_type": "code",
   "execution_count": null,
   "metadata": {},
   "outputs": [],
   "source": []
  },
  {
   "cell_type": "code",
   "execution_count": null,
   "metadata": {},
   "outputs": [],
   "source": []
  },
  {
   "cell_type": "code",
   "execution_count": 4,
   "metadata": {},
   "outputs": [],
   "source": [
    "from sklearn.feature_extraction import text\n",
    "custom_stop_words=['game','new','world','play','players','content','time','experience','features','unique','like','player','mode','use','games','different','way','gameplay','edition','best','based','including','just','set','choose','real','join','ll','steam','available','reviews','want','series','special','work','using','pc','includes','open','original','complete','modes','need','key','turn','ultimate','style','high','enjoy','single','developers','classic','start','great','various','access','op','ve','playing','description','version','long','appropriate','end','graphics','years','come','deluxe','multiple','fully','don','options','development','additional','better','allows','types','path','elsword','th','noah','included','event','total','windows','update','dmark','gundam','iracing','seed','ending','orochi','britannia','ops','check','os','january','regarding','black','notice','thank','idle','note','updates']"
   ]
  },
  {
   "cell_type": "code",
   "execution_count": 5,
   "metadata": {},
   "outputs": [
    {
     "name": "stderr",
     "output_type": "stream",
     "text": [
      "/Users/colingallagher/opt/anaconda3/lib/python3.9/site-packages/sklearn/utils/deprecation.py:87: FutureWarning: Function get_feature_names is deprecated; get_feature_names is deprecated in 1.0 and will be removed in 1.2. Please use get_feature_names_out instead.\n",
      "  warnings.warn(msg, category=FutureWarning)\n",
      "/Users/colingallagher/opt/anaconda3/lib/python3.9/site-packages/sklearn/utils/deprecation.py:87: FutureWarning: Function get_feature_names is deprecated; get_feature_names is deprecated in 1.0 and will be removed in 1.2. Please use get_feature_names_out instead.\n",
      "  warnings.warn(msg, category=FutureWarning)\n"
     ]
    },
    {
     "data": {
      "text/html": [
       "<div>\n",
       "<style scoped>\n",
       "    .dataframe tbody tr th:only-of-type {\n",
       "        vertical-align: middle;\n",
       "    }\n",
       "\n",
       "    .dataframe tbody tr th {\n",
       "        vertical-align: top;\n",
       "    }\n",
       "\n",
       "    .dataframe thead th {\n",
       "        text-align: right;\n",
       "    }\n",
       "</style>\n",
       "<table border=\"1\" class=\"dataframe\">\n",
       "  <thead>\n",
       "    <tr style=\"text-align: right;\">\n",
       "      <th></th>\n",
       "      <th>Total</th>\n",
       "    </tr>\n",
       "  </thead>\n",
       "  <tbody>\n",
       "    <tr>\n",
       "      <th>build</th>\n",
       "      <td>1131</td>\n",
       "    </tr>\n",
       "    <tr>\n",
       "      <th>battle</th>\n",
       "      <td>1112</td>\n",
       "    </tr>\n",
       "    <tr>\n",
       "      <th>make</th>\n",
       "      <td>1051</td>\n",
       "    </tr>\n",
       "    <tr>\n",
       "      <th>story</th>\n",
       "      <td>958</td>\n",
       "    </tr>\n",
       "    <tr>\n",
       "      <th>combat</th>\n",
       "      <td>956</td>\n",
       "    </tr>\n",
       "    <tr>\n",
       "      <th>...</th>\n",
       "      <td>...</td>\n",
       "    </tr>\n",
       "    <tr>\n",
       "      <th>base</th>\n",
       "      <td>281</td>\n",
       "    </tr>\n",
       "    <tr>\n",
       "      <th>universe</th>\n",
       "      <td>280</td>\n",
       "    </tr>\n",
       "    <tr>\n",
       "      <th>mechanics</th>\n",
       "      <td>280</td>\n",
       "    </tr>\n",
       "    <tr>\n",
       "      <th>order</th>\n",
       "      <td>277</td>\n",
       "    </tr>\n",
       "    <tr>\n",
       "      <th>class</th>\n",
       "      <td>276</td>\n",
       "    </tr>\n",
       "  </tbody>\n",
       "</table>\n",
       "<p>100 rows × 1 columns</p>\n",
       "</div>"
      ],
      "text/plain": [
       "           Total\n",
       "build       1131\n",
       "battle      1112\n",
       "make        1051\n",
       "story        958\n",
       "combat       956\n",
       "...          ...\n",
       "base         281\n",
       "universe     280\n",
       "mechanics    280\n",
       "order        277\n",
       "class        276\n",
       "\n",
       "[100 rows x 1 columns]"
      ]
     },
     "execution_count": 5,
     "metadata": {},
     "output_type": "execute_result"
    }
   ],
   "source": [
    "#pd.set_option('display.max_rows', None)\n",
    "# Use Count Vectorizer on Description Corpus\n",
    "from sklearn.feature_extraction.text import CountVectorizer\n",
    "\n",
    "cv = CountVectorizer(stop_words=text.ENGLISH_STOP_WORDS.union(custom_stop_words))\n",
    "X = cv.fit_transform(corpus)\n",
    "cv_doc_term=X\n",
    "cv_doc_term_df=pd.DataFrame(X.toarray(),index=df.Title,columns=cv.get_feature_names())\n",
    "\n",
    "\n",
    "# Find common words\n",
    "common_words_df=pd.DataFrame(X.toarray(),index=df.Title,columns=cv.get_feature_names())\n",
    "common_words_df.loc[\"Total\"] = common_words_df.sum()\n",
    "common_words_df=pd.DataFrame(common_words_df.loc['Total'])\n",
    "common_words_df.sort_values(by='Total',ascending=False).head(100)"
   ]
  },
  {
   "cell_type": "code",
   "execution_count": 6,
   "metadata": {},
   "outputs": [
    {
     "name": "stderr",
     "output_type": "stream",
     "text": [
      "/Users/colingallagher/opt/anaconda3/lib/python3.9/site-packages/sklearn/utils/deprecation.py:87: FutureWarning: Function get_feature_names is deprecated; get_feature_names is deprecated in 1.0 and will be removed in 1.2. Please use get_feature_names_out instead.\n",
      "  warnings.warn(msg, category=FutureWarning)\n"
     ]
    }
   ],
   "source": [
    "# Use TF-IDF Vectorizer on Description Corpus\n",
    "from sklearn.feature_extraction.text import TfidfVectorizer\n",
    "\n",
    "tfidf = TfidfVectorizer(stop_words=text.ENGLISH_STOP_WORDS.union(custom_stop_words))\n",
    "X = tfidf.fit_transform(corpus).toarray()\n",
    "tfidf_doc_term=X\n",
    "tfidf_doc_term_df=pd.DataFrame(X, index=df.Title,columns=tfidf.get_feature_names())"
   ]
  },
  {
   "cell_type": "code",
   "execution_count": 7,
   "metadata": {},
   "outputs": [],
   "source": [
    "# Cosine Similarities\n",
    "from sklearn.metrics.pairwise import cosine_similarity\n",
    "\n",
    "# Find Cosine Similarity of CV matrix\n",
    "cv_cos_sim=cosine_similarity(cv_doc_term)\n",
    "cv_cos_sim_df=pd.DataFrame(cv_cos_sim,index=df.Title,columns=df.Title)\n",
    "\n",
    "\n",
    "# Find Cosine Similarity of tfidf matrix\n",
    "tfidf_cos_sim=cosine_similarity(tfidf_doc_term)\n",
    "tfidf_cos_sim_df=pd.DataFrame(tfidf_cos_sim,index=df.Title,columns=df.Title)\n",
    "\n",
    "# Sort the cosine similarity matrix to find similar games\n",
    "sorted_cv_cos_sim_df=cv_cos_sim_df.sort_values(by=['Team Fortress 2'])\n",
    "\n",
    "sorted_tfidf_cos_sim_df=tfidf_cos_sim_df.sort_values(by=['Team Fortress 2'])\n",
    "\n"
   ]
  },
  {
   "cell_type": "code",
   "execution_count": 8,
   "metadata": {},
   "outputs": [
    {
     "name": "stderr",
     "output_type": "stream",
     "text": [
      "/Users/colingallagher/opt/anaconda3/lib/python3.9/site-packages/sklearn/utils/deprecation.py:87: FutureWarning: Function get_feature_names is deprecated; get_feature_names is deprecated in 1.0 and will be removed in 1.2. Please use get_feature_names_out instead.\n",
      "  warnings.warn(msg, category=FutureWarning)\n",
      "/Users/colingallagher/opt/anaconda3/lib/python3.9/site-packages/sklearn/utils/deprecation.py:87: FutureWarning: Function get_feature_names is deprecated; get_feature_names is deprecated in 1.0 and will be removed in 1.2. Please use get_feature_names_out instead.\n",
      "  warnings.warn(msg, category=FutureWarning)\n"
     ]
    }
   ],
   "source": [
    "# Topic Modeling\n",
    "number_of_topics=10\n",
    "\n",
    "\n",
    "# Latent Semantic Analysis (LSA)\n",
    "from sklearn.decomposition import TruncatedSVD\n",
    "\n",
    "# CV\n",
    "cv_lsa = TruncatedSVD(n_components=number_of_topics,random_state=40)\n",
    "cv_lsa.fit(cv_doc_term)\n",
    "cv_topic_term_lsa=cv_lsa.components_\n",
    "cv_topic_term_lsa_df=pd.DataFrame(cv_topic_term_lsa,columns=cv.get_feature_names())\n",
    "cv_doc_topic_lsa=cv_lsa.transform(cv_doc_term)\n",
    "cv_doc_topic_lsa_df=pd.DataFrame(cv_doc_topic_lsa,index=df.Title)\n",
    "\n",
    "# tfidf\n",
    "tfidf_lsa = TruncatedSVD(n_components=number_of_topics,random_state=40)\n",
    "tfidf_lsa.fit(tfidf_doc_term)\n",
    "tfidf_topic_term_lsa=tfidf_lsa.components_\n",
    "tfidf_topic_term_lsa_df=pd.DataFrame(tfidf_topic_term_lsa,columns=tfidf.get_feature_names())\n",
    "tfidf_doc_topic_lsa=tfidf_lsa.transform(tfidf_doc_term)\n",
    "tfidf_doc_topic_lsa_df=pd.DataFrame(tfidf_doc_topic_lsa,index=df.Title)\n"
   ]
  },
  {
   "cell_type": "code",
   "execution_count": 9,
   "metadata": {},
   "outputs": [],
   "source": [
    "# Function to display the top n terms in each topic\n",
    "def display_topics(model, feature_names, no_top_words, topic_names = None): \n",
    "    for ix, topic in enumerate(model.components_):\n",
    "        if not topic_names or not topic_names[ix]:\n",
    "            print(\"\\nTopic \", ix + 1)\n",
    "        else:\n",
    "            print(\"\\nTopic: \", topic_names[ix])\n",
    "        print(\", \".join([feature_names[i]\n",
    "                        for i in topic.argsort()[:-no_top_words - 1:-1]]))\n",
    "    print(\"\\n\")\n",
    "    return model, feature_names, no_top_words"
   ]
  },
  {
   "cell_type": "code",
   "execution_count": 10,
   "metadata": {},
   "outputs": [
    {
     "name": "stdout",
     "output_type": "stream",
     "text": [
      "\n",
      "Topic  1\n",
      "speedway, build, racing, battle, character\n",
      "\n",
      "Topic  2\n",
      "speedway, racing, cars, car, gt\n",
      "\n",
      "Topic  3\n",
      "character, events, rewards, power, master\n",
      "\n",
      "Topic  4\n",
      "warriors, dynasty, battle, sun, battles\n",
      "\n",
      "Topic  5\n",
      "war, units, campaign, army, forces\n",
      "\n",
      "Topic  6\n",
      "team, online, multiplayer, support, maps\n",
      "\n",
      "Topic  7\n",
      "build, space, simulator, war, create\n",
      "\n",
      "Topic  8\n",
      "weapons, forces, army, space, ship\n",
      "\n",
      "Topic  9\n",
      "viking, army, rpg, city, forces\n",
      "\n",
      "Topic  10\n",
      "team, viking, football, manager, season\n",
      "\n",
      "\n"
     ]
    },
    {
     "name": "stderr",
     "output_type": "stream",
     "text": [
      "/Users/colingallagher/opt/anaconda3/lib/python3.9/site-packages/sklearn/utils/deprecation.py:87: FutureWarning: Function get_feature_names is deprecated; get_feature_names is deprecated in 1.0 and will be removed in 1.2. Please use get_feature_names_out instead.\n",
      "  warnings.warn(msg, category=FutureWarning)\n"
     ]
    }
   ],
   "source": [
    "# CV LSA Top Topic Words\n",
    "cv_topics=display_topics(cv_lsa,cv.get_feature_names(),5)\n"
   ]
  },
  {
   "cell_type": "code",
   "execution_count": 11,
   "metadata": {},
   "outputs": [
    {
     "name": "stdout",
     "output_type": "stream",
     "text": [
      "\n",
      "Topic  1\n",
      "battle, build, war, combat, weapons\n",
      "\n",
      "Topic  2\n",
      "war, units, duty, campaign, multiplayer\n",
      "\n",
      "Topic  3\n",
      "car, cars, simulator, racing, build\n",
      "\n",
      "Topic  4\n",
      "space, build, resources, ship, war\n",
      "\n",
      "Topic  5\n",
      "heroes, strategy, battle, build, support\n",
      "\n",
      "Topic  6\n",
      "support, company, products, guidance, city\n",
      "\n",
      "Topic  7\n",
      "space, star, galaxy, ship, universe\n",
      "\n",
      "Topic  8\n",
      "space, support, ship, galaxy, software\n",
      "\n",
      "Topic  9\n",
      "football, manager, team, club, soccer\n",
      "\n",
      "Topic  10\n",
      "car, cars, heroes, city, racing\n",
      "\n",
      "\n"
     ]
    }
   ],
   "source": [
    "# TFIDF LSA Top Topic Words\n",
    "tfidf_topics=display_topics(tfidf_lsa,tfidf.get_feature_names(),5)"
   ]
  },
  {
   "cell_type": "code",
   "execution_count": 12,
   "metadata": {},
   "outputs": [
    {
     "name": "stderr",
     "output_type": "stream",
     "text": [
      "/Users/colingallagher/opt/anaconda3/lib/python3.9/site-packages/sklearn/decomposition/_nmf.py:289: FutureWarning: The 'init' value, when 'init=None' and n_components is less than n_samples and n_features, will be changed from 'nndsvd' to 'nndsvda' in 1.1 (renaming of 0.26).\n",
      "  warnings.warn(\n",
      "/Users/colingallagher/opt/anaconda3/lib/python3.9/site-packages/sklearn/utils/deprecation.py:87: FutureWarning: Function get_feature_names is deprecated; get_feature_names is deprecated in 1.0 and will be removed in 1.2. Please use get_feature_names_out instead.\n",
      "  warnings.warn(msg, category=FutureWarning)\n",
      "/Users/colingallagher/opt/anaconda3/lib/python3.9/site-packages/sklearn/decomposition/_nmf.py:289: FutureWarning: The 'init' value, when 'init=None' and n_components is less than n_samples and n_features, will be changed from 'nndsvd' to 'nndsvda' in 1.1 (renaming of 0.26).\n",
      "  warnings.warn(\n",
      "/Users/colingallagher/opt/anaconda3/lib/python3.9/site-packages/sklearn/utils/deprecation.py:87: FutureWarning: Function get_feature_names is deprecated; get_feature_names is deprecated in 1.0 and will be removed in 1.2. Please use get_feature_names_out instead.\n",
      "  warnings.warn(msg, category=FutureWarning)\n"
     ]
    }
   ],
   "source": [
    "# Topic Modeling\n",
    "# Non-Negative Matrix Factorization (NMF)\n",
    "from sklearn.decomposition import NMF\n",
    "\n",
    "\n",
    "# CV\n",
    "cv_nmf = NMF(n_components=number_of_topics,random_state=40)\n",
    "cv_nmf.fit(cv_doc_term)\n",
    "cv_topic_term_nmf=cv_nmf.components_\n",
    "cv_topic_term_nmf_df=pd.DataFrame(cv_topic_term_nmf,columns=cv.get_feature_names())\n",
    "cv_doc_topic_nmf=cv_nmf.transform(cv_doc_term)\n",
    "cv_doc_topic_nmf_df=pd.DataFrame(cv_doc_topic_nmf,index=df.Title)\n",
    "\n",
    "\n",
    "# tfidf\n",
    "tfidf_nmf = NMF(n_components=number_of_topics,random_state=40)\n",
    "tfidf_nmf.fit(tfidf_doc_term)\n",
    "tfidf_topic_term_nmf=tfidf_nmf.components_\n",
    "tfidf_topic_term_nmf_df=pd.DataFrame(tfidf_topic_term_nmf,columns=tfidf.get_feature_names())\n",
    "tfidf_doc_topic_nmf=tfidf_nmf.transform(tfidf_doc_term)\n",
    "tfidf_doc_topic_nmf_df=pd.DataFrame(tfidf_doc_topic_nmf,index=df.Title)"
   ]
  },
  {
   "cell_type": "code",
   "execution_count": 13,
   "metadata": {},
   "outputs": [
    {
     "name": "stdout",
     "output_type": "stream",
     "text": [
      "\n",
      "Topic  1\n",
      "story, combat, characters, adventure, enemies\n",
      "\n",
      "Topic  2\n",
      "speedway, racing, cars, car, gt\n",
      "\n",
      "Topic  3\n",
      "character, events, rewards, power, characters\n",
      "\n",
      "Topic  4\n",
      "warriors, dynasty, battle, battles, sun\n",
      "\n",
      "Topic  5\n",
      "war, units, battle, campaign, battles\n",
      "\n",
      "Topic  6\n",
      "support, simulator, create, make, free\n",
      "\n",
      "Topic  7\n",
      "build, space, resources, ship, explore\n",
      "\n",
      "Topic  8\n",
      "forces, army, weapons, maps, vietnam\n",
      "\n",
      "Topic  9\n",
      "viking, faction, king, leader, army\n",
      "\n",
      "Topic  10\n",
      "team, online, multiplayer, teams, season\n",
      "\n",
      "\n"
     ]
    },
    {
     "name": "stderr",
     "output_type": "stream",
     "text": [
      "/Users/colingallagher/opt/anaconda3/lib/python3.9/site-packages/sklearn/utils/deprecation.py:87: FutureWarning: Function get_feature_names is deprecated; get_feature_names is deprecated in 1.0 and will be removed in 1.2. Please use get_feature_names_out instead.\n",
      "  warnings.warn(msg, category=FutureWarning)\n"
     ]
    }
   ],
   "source": [
    "# CV NMF Top Topic Words\n",
    "cv_topics_nmf=display_topics(cv_nmf,cv.get_feature_names(),5)"
   ]
  },
  {
   "cell_type": "code",
   "execution_count": 14,
   "metadata": {},
   "outputs": [
    {
     "name": "stdout",
     "output_type": "stream",
     "text": [
      "\n",
      "Topic  1\n",
      "heroes, monsters, characters, character, adventure\n",
      "\n",
      "Topic  2\n",
      "war, units, strategy, command, campaign\n",
      "\n",
      "Topic  3\n",
      "car, cars, racing, race, simulator\n",
      "\n",
      "Topic  4\n",
      "build, resources, island, craft, building\n",
      "\n",
      "Topic  5\n",
      "mature, weapons, combat, violence, story\n",
      "\n",
      "Topic  6\n",
      "support, company, products, guidance, warriors\n",
      "\n",
      "Topic  7\n",
      "space, ship, galaxy, star, ships\n",
      "\n",
      "Topic  8\n",
      "city, batman, lego, marvel, arkham\n",
      "\n",
      "Topic  9\n",
      "football, manager, team, club, soccer\n",
      "\n",
      "Topic  10\n",
      "duty, multiplayer, warfare, modern, wwii\n",
      "\n",
      "\n"
     ]
    }
   ],
   "source": [
    "# tfidf NMF Top Topic Words\n",
    "tfidf_topics_nmf=display_topics(tfidf_nmf,tfidf.get_feature_names(),5)"
   ]
  },
  {
   "cell_type": "code",
   "execution_count": 15,
   "metadata": {},
   "outputs": [],
   "source": [
    "# Topic Modeling\n",
    "# Latent Dirichlet Allocation (LDA)\n",
    "from gensim import corpora, models, matutils\n",
    "\n",
    "cv_term_doc=cv_doc_term.transpose()\n",
    "lda_corpus = matutils.Sparse2Corpus(cv_term_doc)\n",
    "id2word = dict((v, k) for k, v in cv.vocabulary_.items())\n",
    "lda = models.LdaModel(corpus=lda_corpus, num_topics=number_of_topics, id2word=id2word)"
   ]
  },
  {
   "cell_type": "code",
   "execution_count": 16,
   "metadata": {},
   "outputs": [
    {
     "data": {
      "text/plain": [
       "[(0,\n",
       "  '0.004*\"make\" + 0.003*\"combat\" + 0.003*\"free\" + 0.003*\"support\" + 0.003*\"enemies\" + 0.003*\"battle\" + 0.003*\"create\" + 0.002*\"powerful\" + 0.002*\"build\" + 0.002*\"online\"'),\n",
       " (1,\n",
       "  '0.004*\"build\" + 0.003*\"team\" + 0.003*\"combat\" + 0.003*\"make\" + 0.003*\"battle\" + 0.003*\"weapons\" + 0.003*\"create\" + 0.002*\"items\" + 0.002*\"online\" + 0.002*\"control\"'),\n",
       " (2,\n",
       "  '0.004*\"story\" + 0.003*\"team\" + 0.003*\"free\" + 0.003*\"explore\" + 0.003*\"combat\" + 0.003*\"action\" + 0.003*\"friends\" + 0.002*\"characters\" + 0.002*\"life\" + 0.002*\"multiplayer\"'),\n",
       " (3,\n",
       "  '0.003*\"battle\" + 0.003*\"city\" + 0.003*\"online\" + 0.003*\"combat\" + 0.003*\"build\" + 0.003*\"multiplayer\" + 0.002*\"fight\" + 0.002*\"story\" + 0.002*\"action\" + 0.002*\"skills\"'),\n",
       " (4,\n",
       "  '0.003*\"character\" + 0.003*\"build\" + 0.003*\"items\" + 0.003*\"story\" + 0.003*\"team\" + 0.003*\"enemies\" + 0.003*\"characters\" + 0.003*\"make\" + 0.002*\"powerful\" + 0.002*\"life\"'),\n",
       " (5,\n",
       "  '0.004*\"battle\" + 0.003*\"explore\" + 0.003*\"character\" + 0.003*\"adventure\" + 0.003*\"online\" + 0.003*\"build\" + 0.003*\"create\" + 0.003*\"combat\" + 0.003*\"team\" + 0.003*\"skills\"'),\n",
       " (6,\n",
       "  '0.004*\"war\" + 0.004*\"story\" + 0.003*\"battle\" + 0.003*\"weapons\" + 0.003*\"online\" + 0.003*\"make\" + 0.003*\"characters\" + 0.003*\"build\" + 0.003*\"free\" + 0.003*\"skills\"'),\n",
       " (7,\n",
       "  '0.005*\"build\" + 0.003*\"make\" + 0.003*\"create\" + 0.003*\"battle\" + 0.003*\"life\" + 0.003*\"free\" + 0.003*\"multiplayer\" + 0.003*\"team\" + 0.002*\"friends\" + 0.002*\"war\"'),\n",
       " (8,\n",
       "  '0.005*\"multiplayer\" + 0.003*\"explore\" + 0.003*\"create\" + 0.003*\"story\" + 0.003*\"skills\" + 0.003*\"combat\" + 0.002*\"make\" + 0.002*\"war\" + 0.002*\"online\" + 0.002*\"weapons\"'),\n",
       " (9,\n",
       "  '0.004*\"battle\" + 0.004*\"build\" + 0.003*\"make\" + 0.003*\"life\" + 0.003*\"weapons\" + 0.003*\"combat\" + 0.003*\"friends\" + 0.003*\"create\" + 0.002*\"fight\" + 0.002*\"explore\"')]"
      ]
     },
     "execution_count": 16,
     "metadata": {},
     "output_type": "execute_result"
    }
   ],
   "source": [
    "lda.print_topics()"
   ]
  },
  {
   "cell_type": "code",
   "execution_count": 17,
   "metadata": {},
   "outputs": [],
   "source": [
    "#[doc for doc in lda[lda_corpus]]"
   ]
  },
  {
   "cell_type": "code",
   "execution_count": 18,
   "metadata": {},
   "outputs": [],
   "source": [
    "# for item in cv_doc_term_df.columns:\n",
    "#     print(item)"
   ]
  },
  {
   "cell_type": "code",
   "execution_count": 19,
   "metadata": {},
   "outputs": [
    {
     "data": {
      "text/html": [
       "<div>\n",
       "<style scoped>\n",
       "    .dataframe tbody tr th:only-of-type {\n",
       "        vertical-align: middle;\n",
       "    }\n",
       "\n",
       "    .dataframe tbody tr th {\n",
       "        vertical-align: top;\n",
       "    }\n",
       "\n",
       "    .dataframe thead th {\n",
       "        text-align: right;\n",
       "    }\n",
       "</style>\n",
       "<table border=\"1\" class=\"dataframe\">\n",
       "  <thead>\n",
       "    <tr style=\"text-align: right;\">\n",
       "      <th></th>\n",
       "      <th>0</th>\n",
       "      <th>1</th>\n",
       "      <th>2</th>\n",
       "      <th>3</th>\n",
       "      <th>4</th>\n",
       "      <th>5</th>\n",
       "      <th>6</th>\n",
       "      <th>7</th>\n",
       "      <th>8</th>\n",
       "      <th>9</th>\n",
       "    </tr>\n",
       "    <tr>\n",
       "      <th>Title</th>\n",
       "      <th></th>\n",
       "      <th></th>\n",
       "      <th></th>\n",
       "      <th></th>\n",
       "      <th></th>\n",
       "      <th></th>\n",
       "      <th></th>\n",
       "      <th></th>\n",
       "      <th></th>\n",
       "      <th></th>\n",
       "    </tr>\n",
       "  </thead>\n",
       "  <tbody>\n",
       "    <tr>\n",
       "      <th>Counter-Strike: Global Offensive</th>\n",
       "      <td>0.000000</td>\n",
       "      <td>0.009180</td>\n",
       "      <td>0.004736</td>\n",
       "      <td>0.000000</td>\n",
       "      <td>0.048706</td>\n",
       "      <td>0.018281</td>\n",
       "      <td>0.000000</td>\n",
       "      <td>0.000000</td>\n",
       "      <td>0.016196</td>\n",
       "      <td>0.055059</td>\n",
       "    </tr>\n",
       "    <tr>\n",
       "      <th>Dota 2</th>\n",
       "      <td>0.074174</td>\n",
       "      <td>0.002148</td>\n",
       "      <td>0.012795</td>\n",
       "      <td>0.005477</td>\n",
       "      <td>0.000000</td>\n",
       "      <td>0.000000</td>\n",
       "      <td>0.000000</td>\n",
       "      <td>0.019387</td>\n",
       "      <td>0.000960</td>\n",
       "      <td>0.004991</td>\n",
       "    </tr>\n",
       "    <tr>\n",
       "      <th>PUBG: BATTLEGROUNDS</th>\n",
       "      <td>0.000000</td>\n",
       "      <td>0.005131</td>\n",
       "      <td>0.000000</td>\n",
       "      <td>0.000857</td>\n",
       "      <td>0.108682</td>\n",
       "      <td>0.005976</td>\n",
       "      <td>0.000000</td>\n",
       "      <td>0.000000</td>\n",
       "      <td>0.004713</td>\n",
       "      <td>0.000000</td>\n",
       "    </tr>\n",
       "    <tr>\n",
       "      <th>Apex Legends™</th>\n",
       "      <td>0.084572</td>\n",
       "      <td>0.023376</td>\n",
       "      <td>0.000000</td>\n",
       "      <td>0.000000</td>\n",
       "      <td>0.008766</td>\n",
       "      <td>0.000000</td>\n",
       "      <td>0.014598</td>\n",
       "      <td>0.033231</td>\n",
       "      <td>0.039191</td>\n",
       "      <td>0.000000</td>\n",
       "    </tr>\n",
       "    <tr>\n",
       "      <th>Lost Ark</th>\n",
       "      <td>0.084193</td>\n",
       "      <td>0.000867</td>\n",
       "      <td>0.000000</td>\n",
       "      <td>0.000000</td>\n",
       "      <td>0.098555</td>\n",
       "      <td>0.000000</td>\n",
       "      <td>0.012973</td>\n",
       "      <td>0.000000</td>\n",
       "      <td>0.000000</td>\n",
       "      <td>0.000000</td>\n",
       "    </tr>\n",
       "    <tr>\n",
       "      <th>...</th>\n",
       "      <td>...</td>\n",
       "      <td>...</td>\n",
       "      <td>...</td>\n",
       "      <td>...</td>\n",
       "      <td>...</td>\n",
       "      <td>...</td>\n",
       "      <td>...</td>\n",
       "      <td>...</td>\n",
       "      <td>...</td>\n",
       "      <td>...</td>\n",
       "    </tr>\n",
       "    <tr>\n",
       "      <th>SpongeBob SquarePants: Battle for Bikini Bottom - Rehydrated</th>\n",
       "      <td>0.025259</td>\n",
       "      <td>0.009268</td>\n",
       "      <td>0.013983</td>\n",
       "      <td>0.002091</td>\n",
       "      <td>0.007297</td>\n",
       "      <td>0.003111</td>\n",
       "      <td>0.000385</td>\n",
       "      <td>0.004970</td>\n",
       "      <td>0.000000</td>\n",
       "      <td>0.019258</td>\n",
       "    </tr>\n",
       "    <tr>\n",
       "      <th>The Wild Eight</th>\n",
       "      <td>0.011805</td>\n",
       "      <td>0.000000</td>\n",
       "      <td>0.002494</td>\n",
       "      <td>0.070636</td>\n",
       "      <td>0.055423</td>\n",
       "      <td>0.000000</td>\n",
       "      <td>0.000000</td>\n",
       "      <td>0.000000</td>\n",
       "      <td>0.000000</td>\n",
       "      <td>0.000000</td>\n",
       "    </tr>\n",
       "    <tr>\n",
       "      <th>American Truck Simulator</th>\n",
       "      <td>0.000000</td>\n",
       "      <td>0.000000</td>\n",
       "      <td>0.186642</td>\n",
       "      <td>0.000000</td>\n",
       "      <td>0.000000</td>\n",
       "      <td>0.012388</td>\n",
       "      <td>0.000000</td>\n",
       "      <td>0.000000</td>\n",
       "      <td>0.000000</td>\n",
       "      <td>0.000000</td>\n",
       "    </tr>\n",
       "    <tr>\n",
       "      <th>GUNS UP!</th>\n",
       "      <td>0.044322</td>\n",
       "      <td>0.108854</td>\n",
       "      <td>0.000000</td>\n",
       "      <td>0.015022</td>\n",
       "      <td>0.000000</td>\n",
       "      <td>0.013397</td>\n",
       "      <td>0.001463</td>\n",
       "      <td>0.000000</td>\n",
       "      <td>0.000712</td>\n",
       "      <td>0.000000</td>\n",
       "    </tr>\n",
       "    <tr>\n",
       "      <th>Crysis Remastered</th>\n",
       "      <td>0.000000</td>\n",
       "      <td>0.054911</td>\n",
       "      <td>0.018272</td>\n",
       "      <td>0.016972</td>\n",
       "      <td>0.070005</td>\n",
       "      <td>0.000000</td>\n",
       "      <td>0.018309</td>\n",
       "      <td>0.000000</td>\n",
       "      <td>0.000000</td>\n",
       "      <td>0.000000</td>\n",
       "    </tr>\n",
       "  </tbody>\n",
       "</table>\n",
       "<p>1915 rows × 10 columns</p>\n",
       "</div>"
      ],
      "text/plain": [
       "                                                           0         1  \\\n",
       "Title                                                                    \n",
       "Counter-Strike: Global Offensive                    0.000000  0.009180   \n",
       "Dota 2                                              0.074174  0.002148   \n",
       "PUBG: BATTLEGROUNDS                                 0.000000  0.005131   \n",
       "Apex Legends™                                       0.084572  0.023376   \n",
       "Lost Ark                                            0.084193  0.000867   \n",
       "...                                                      ...       ...   \n",
       "SpongeBob SquarePants: Battle for Bikini Bottom...  0.025259  0.009268   \n",
       "The Wild Eight                                      0.011805  0.000000   \n",
       "American Truck Simulator                            0.000000  0.000000   \n",
       "GUNS UP!                                            0.044322  0.108854   \n",
       "Crysis Remastered                                   0.000000  0.054911   \n",
       "\n",
       "                                                           2         3  \\\n",
       "Title                                                                    \n",
       "Counter-Strike: Global Offensive                    0.004736  0.000000   \n",
       "Dota 2                                              0.012795  0.005477   \n",
       "PUBG: BATTLEGROUNDS                                 0.000000  0.000857   \n",
       "Apex Legends™                                       0.000000  0.000000   \n",
       "Lost Ark                                            0.000000  0.000000   \n",
       "...                                                      ...       ...   \n",
       "SpongeBob SquarePants: Battle for Bikini Bottom...  0.013983  0.002091   \n",
       "The Wild Eight                                      0.002494  0.070636   \n",
       "American Truck Simulator                            0.186642  0.000000   \n",
       "GUNS UP!                                            0.000000  0.015022   \n",
       "Crysis Remastered                                   0.018272  0.016972   \n",
       "\n",
       "                                                           4         5  \\\n",
       "Title                                                                    \n",
       "Counter-Strike: Global Offensive                    0.048706  0.018281   \n",
       "Dota 2                                              0.000000  0.000000   \n",
       "PUBG: BATTLEGROUNDS                                 0.108682  0.005976   \n",
       "Apex Legends™                                       0.008766  0.000000   \n",
       "Lost Ark                                            0.098555  0.000000   \n",
       "...                                                      ...       ...   \n",
       "SpongeBob SquarePants: Battle for Bikini Bottom...  0.007297  0.003111   \n",
       "The Wild Eight                                      0.055423  0.000000   \n",
       "American Truck Simulator                            0.000000  0.012388   \n",
       "GUNS UP!                                            0.000000  0.013397   \n",
       "Crysis Remastered                                   0.070005  0.000000   \n",
       "\n",
       "                                                           6         7  \\\n",
       "Title                                                                    \n",
       "Counter-Strike: Global Offensive                    0.000000  0.000000   \n",
       "Dota 2                                              0.000000  0.019387   \n",
       "PUBG: BATTLEGROUNDS                                 0.000000  0.000000   \n",
       "Apex Legends™                                       0.014598  0.033231   \n",
       "Lost Ark                                            0.012973  0.000000   \n",
       "...                                                      ...       ...   \n",
       "SpongeBob SquarePants: Battle for Bikini Bottom...  0.000385  0.004970   \n",
       "The Wild Eight                                      0.000000  0.000000   \n",
       "American Truck Simulator                            0.000000  0.000000   \n",
       "GUNS UP!                                            0.001463  0.000000   \n",
       "Crysis Remastered                                   0.018309  0.000000   \n",
       "\n",
       "                                                           8         9  \n",
       "Title                                                                   \n",
       "Counter-Strike: Global Offensive                    0.016196  0.055059  \n",
       "Dota 2                                              0.000960  0.004991  \n",
       "PUBG: BATTLEGROUNDS                                 0.004713  0.000000  \n",
       "Apex Legends™                                       0.039191  0.000000  \n",
       "Lost Ark                                            0.000000  0.000000  \n",
       "...                                                      ...       ...  \n",
       "SpongeBob SquarePants: Battle for Bikini Bottom...  0.000000  0.019258  \n",
       "The Wild Eight                                      0.000000  0.000000  \n",
       "American Truck Simulator                            0.000000  0.000000  \n",
       "GUNS UP!                                            0.000712  0.000000  \n",
       "Crysis Remastered                                   0.000000  0.000000  \n",
       "\n",
       "[1915 rows x 10 columns]"
      ]
     },
     "execution_count": 19,
     "metadata": {},
     "output_type": "execute_result"
    }
   ],
   "source": [
    "# tfidf NMF\n",
    "tfidf_doc_topic_nmf_df"
   ]
  },
  {
   "cell_type": "code",
   "execution_count": 20,
   "metadata": {},
   "outputs": [],
   "source": [
    "# Recommender\n",
    "# PCA\n",
    "from sklearn.decomposition import PCA\n",
    "pca = PCA(n_components = 3)\n",
    "rec_coords = pca.fit_transform(tfidf_doc_topic_nmf_df)\n",
    "rec_coords_df=pd.DataFrame(rec_coords,index=tfidf_doc_topic_nmf_df.index)\n",
    "\n",
    "from numpy.linalg import norm\n",
    "from sklearn.metrics import pairwise_distances\n",
    "distances = pairwise_distances(rec_coords[8].reshape(1, -1), rec_coords)\n",
    "\n",
    "game_index_df=pd.DataFrame(rec_coords,index=tfidf_doc_topic_nmf_df.index)\n",
    "game_index_df['index'] = range(0, len(rec_coords_df))\n",
    "game_index_df.drop(columns=[0,1,2],inplace=True)\n",
    "\n"
   ]
  },
  {
   "cell_type": "code",
   "execution_count": 21,
   "metadata": {},
   "outputs": [],
   "source": [
    "closest_games=distances.argsort()"
   ]
  },
  {
   "cell_type": "code",
   "execution_count": 22,
   "metadata": {},
   "outputs": [
    {
     "data": {
      "text/plain": [
       "'Call of Duty®: WWII'"
      ]
     },
     "execution_count": 22,
     "metadata": {},
     "output_type": "execute_result"
    }
   ],
   "source": [
    "tfidf_doc_topic_nmf_df.iloc[906].name"
   ]
  },
  {
   "cell_type": "code",
   "execution_count": 23,
   "metadata": {},
   "outputs": [
    {
     "data": {
      "text/plain": [
       "8"
      ]
     },
     "execution_count": 23,
     "metadata": {},
     "output_type": "execute_result"
    }
   ],
   "source": [
    "game_index_df.loc['Rust','index']"
   ]
  },
  {
   "cell_type": "code",
   "execution_count": 24,
   "metadata": {},
   "outputs": [],
   "source": [
    "def recommend_games(game,x):\n",
    "    recommended_games=[]\n",
    "    index_num=game_index_df.loc[game,'index']\n",
    "    distances = pairwise_distances(rec_coords[index_num].reshape(1, -1), rec_coords)\n",
    "    closest_games=distances.argsort()\n",
    "    for i in closest_games[0][:x]:\n",
    "        recommended_games.append(rec_coords_df.iloc[i].name)\n",
    "\n",
    "    return recommended_games\n",
    "\n",
    "\n",
    "    "
   ]
  },
  {
   "cell_type": "code",
   "execution_count": 25,
   "metadata": {},
   "outputs": [
    {
     "data": {
      "text/plain": [
       "['DayZ',\n",
       " 'Dead Maze',\n",
       " 'Night of the Dead',\n",
       " 'Kenshi',\n",
       " 'Green Hell',\n",
       " 'Project Zomboid',\n",
       " 'The Isle',\n",
       " 'Graveyard Keeper',\n",
       " 'Stranded: Alien Dawn',\n",
       " 'The Wild Eight']"
      ]
     },
     "execution_count": 25,
     "metadata": {},
     "output_type": "execute_result"
    }
   ],
   "source": [
    "recommend_games(\"DayZ\",10)"
   ]
  },
  {
   "cell_type": "code",
   "execution_count": 26,
   "metadata": {},
   "outputs": [
    {
     "data": {
      "text/plain": [
       "<mpl_toolkits.mplot3d.art3d.Path3DCollection at 0x7fcf5d8c33d0>"
      ]
     },
     "execution_count": 26,
     "metadata": {},
     "output_type": "execute_result"
    },
    {
     "data": {
      "application/vnd.jupyter.widget-view+json": {
       "model_id": "a6fa757875504b47b7372f976c891575",
       "version_major": 2,
       "version_minor": 0
      },
      "image/png": "[encoded data removed]",
      "text/html": [
       "\n",
       "            <div style=\"display: inline-block;\">\n",
       "                <div class=\"jupyter-widgets widget-label\" style=\"text-align: center;\">\n",
       "                    Figure\n",
       "                </div>\n",
       "                <img src='data:image/png;base64,iVBORw0KGgoAAAANSUhEUgAAAoAAAAHgCAYAAAA10dzkAAAAOXRFWHRTb2Z0d2FyZQBNYXRwbG90bGliIHZlcnNpb24zLjUuMSwgaHR0cHM6Ly9tYXRwbG90bGliLm9yZy/YYfK9AAAACXBIWXMAAA9hAAAPYQGoP6dpAAEAAElEQVR4nOy9d3xkd3nv/zlnmkajqepdWpVdbfF6+0qLgUCuadfUBAeIDTemOCYQAjc/cHIBX4dgAjGYGzAYQnAcwIHcwAUS29gB9+5V773XKSrT55TfH7PneGY0kqacKVo979drX/ZKc873jEY75zOf5/t8HkYURREEQRAEQRDEgYHN9QUQBEEQBEEQ2YUEIEEQBEEQxAGDBCBBEARBEMQBgwQgQRAEQRDEAYMEIEEQBEEQxAGDBCBBEARBEMQBgwQgQRAEQRDEAYMEIEEQBEEQxAGDBCBBEARBEMQBgwQgQRAEQRDEAYMEIEEQBEEQxAGDBCBBEARBEMQBgwQgQRAEQRDEAYMEIEEQBEEQxAGDBCBBEARBEMQBgwQgQRAEQRDEAYMEIEEQBEEQxAGDBCBBEARBEMQBgwQgQRAEQRDEAYMEIEEQBEEQxAGDBCBBEARBEMQBgwQgQRAEQRDEAYMEIEEQBEEQxAGDBCBBEARBEMQBgwQgQRAEQRDEAYMEIEEQBEEQxAGDBCBBEARBEMQBgwQgQRAEQRDEAYMEIEEQBEEQxAGDBCBBEARBEMQBgwQgQRAEQRDEAYMEIEEQBEEQxAGDBCBBEARBEMQBgwQgQRAEQRDEAYMEIEEQBEEQxAGDBCBBEARBEMQBgwQgQRAEQRDEAYMEIEEQBEEQxAGDBCBBEARBEMQBgwQgQRAEQRDEAYMEIEEQBEEQxAGDBCBBEARBEMQBgwQgQRAEQRDEAYMEIEEQBEEQxAGDBCBBEARBEMQBgwQgQRAEQRDEAYMEIEEQBEEQxAGDBCBBEARBEMQBgwQgQRAEQRDEAYMEIEEQBEEQxAGDBCBBEARBEMQBgwQgQRAEQRDEAYMEIEEQBEEQxAGDBCBBEARBEMQBgwQgQRAEQRDEAYMEIEEQBEEQxAGDBCBBEARBEMQBgwQgQRAEQRDEAYMEIEEQBEEQxAGDBCBBEARBEMQBgwQgQRAEQRDEAYMEIEEQBEEQxAGDBCBBEARBEMQBgwQgQRAEQRDEAYMEIEEQBEEQxAGDBCBBEARBEMQBgwQgQRAEQRDEAYMEIEEQBEEQxAGDBCBBEARBEMQBgwQgQRAEQRDEAYMEIEEQBEEQxAGDBCBBEARBEMQBgwQgQRAEQRDEAYMEIEEQBEEQxAGDBCBBEARBEMQBgwQgQRAEQRDEAYMEIEEQBEEQxAGDBCBBEARBEMQBgwQgQRAEQRDEAYMEIEEQBEEQxAGDBCBBEARBEMQBgwQgQRAEQRDEAYMEIEEQBEEQxAGDBCBBEARBEMQBQ53rCyAIghBFETzPAwBUKhUYhsnxFREEQVzdkAAkCCKnCIKAUCgEn88HURTBsiw0Gg1UKhXUajVYliVBSBAEoTCMKIpiri+CIIiDh+T6cRwni0Dp7UgQBAAAwzCyIFSr1VCpVCQICYIgFIAEIEEQWUcURYRCIbnsyzAMgsGg/P/SY6Q/JAgJgiCUhQQgQRBZRRAEBINBCIIgizdRFLcJwFh2EoRSqZgEIUEQROKQACQIIitIJV+p1Bsp1CRHUBTFhMVbpCCU/rAsC5ZlSRASBEHsAQlAgiAyjiAI4DguquQbKcpSEYCxxLqD0jokCAmCILZDXcAEQWQMSZBFirtMiS/p3CzLymtHNppI35dKxtJ/M3lNBEEQ+Qo5gARBZARRFMFxHAYHB2E0GlFVVbXr/r50HcBErkcSpJFilGEYqNVqaLVaOYOQBCFBEFc75AASBKE4kuvH8zy8Xi8KCgpyLqp2cggnJiYQCoXQ2toqO4RSDqFUMiYIgrjaIAFIEIRixGb7SU0Z+VhoiBSELMtCpVLJrmUoFAKAbfsHSRASBHG1QAKQIAhFiM32k5otGIaJasyIB8dxmJ2dhU6ng9VqhVarzcYlA4AcQ7OTQxgKheSIGhKEBEFcLZAAJAgibeJl+0nsVfrd2tpCd3c3WJaFIAgYGBiAwWCA1WqF1WqFxWKBRqPJ9FPYRjxBKJW2JYdQ2j9IgpAgiP0GCUCCIFJmt2w/iZ0cQFEUMTc3h5GRETQ0NKCurg4AEAqFsL6+DpfLhYmJCXi9XhiNRlkQms1mqNXZf+uS9gdGXv9eglDqMiYIgsg3SAASBJESO5V8Y5FKrJGEQiH09/djfX0dp0+fhs1mQygUgiAI0Gq1KCsrQ1lZGQAgEAjA5XLB5XJhZGQEgUAAJpNJdgfNZnOUMMsWuwnCYDAou4exk0pIEBIEkQ+QACQIImkk1y9eyTeWWAG4vr6Onp4eGAwGXLp0CVqtdtcmEZ1Oh4qKClRUVAAAfD4fXC4X1tfXMTQ0hFAoJAtCq9UKk8mUkzJsooKQYRhotVoShARB5BQSgARBJIzUJctxHICdXb9IJAEoiiKmp6cxPj6O5uZmNDQ0pCR+9Ho99Ho9qqqqIIqiLAhdLhfm5+fB8zwsFossCIuKinYVhPEcSiWIFITS+QVBwLPPPotjx47JQjV2DyEJQoIgsgEJQIIgEkJys6T9fIkGJjMMA47jcPnyZXg8Hpw7dw4Wi0WRa2IYBoWFhSgsLER1dTVEUYTH45EF4czMDERRjGooKSoqyrrIktaTBKEk+KTmmUAgEHdsHQlCgiAyBQlAgiB2RXL9AoGAnJmXjCjx+/2w2+0oLS1FR0dHRjt6GYZBUVERioqKUFtbC1EU4Xa74XK54HQ6MTk5CZZloxzCXGQURo6lA6IdwkAgsGvsDAlCgiCUgAQgQRA7IjV6zM7OYnl5GWfPnk1YgAiCgImJCayursJiseDkyZM5cd6MRiOMRiPq6uogCAK2trbgcrmwtraG8fFxMAwDjUaDxcVFWK3WjE8tiSc4Ix1CKZBa+hMrCKUpJWq1OmkxThAEIUECkCCIuESOc4sMS04Ev9+Pnp4eBINBVFdXA9g7DzAbsCwLs9kMs9mMhoYGCIKA4eFhbG1tYWlpCSMjI9DpdFEOYUFBQdavM7K8HisI/X6//BhJEEoOIQlCgiAShQQgQRBR7DTOba9pHhKrq6vo6+tDWVkZzpw5g6mpKVm05Bssy6KwsBCiKOLYsWPgeR4bGxtwuVxYWFjA8PAwCgoKZDGo1JSSZEUaCUKCIJSGBCBBEDI7ZfslMs9XEASMjIxgfn4ex44dQ1VVFYDEumwTbSjJNCqVCjabDTabDUB4RJ0USj0zM6PIlBIl9hwmKghjMwhJEBIEIUECkCAIALtn++0l4rxeL7q7uwEAHR0dMBgMCR+bz6jVapSUlKCkpARAOMBa6jCenJyEx+OB0WiUS8YWiyVnU0riCUJBEPD000+jra0tbuwMCUKCOLiQACSIA05ktl+y49wAYGlpCQMDA6iursbhw4e3Ze7tZwEYi0aj2TalRHIIx8bG4Pf7t42ty9WUEuk15DhOHknH8zx4nt8xdoYEIUEcHEgAEsQBRhAEcBy35zi3eCVgnucxNDSElZUVnDhxAuXl5XHXuJoEYCw6nQ7l5eXyc/f7/bJDODQ0hGAwCLPZHDW2DshuQ4zUvCPt5ZS+Ju31jBSEUsk4co4xCUKCuDohAUgQB5DIMWWSQEhmnNvW1hZ6enqgVqvR0dEBvV6f8LH5hpICp6CgAJWVlaisrNw2pWRhYUFurFlYWEB5eTmMRmPGx9bF696WXu9YQchxHEKhUFROYewcYxKEBHF1QAKQIA4YsY0eidzUpRKwKIqYn5/H8PAw6uvr0dzcvKeASVQA5lJYZGoUXOyUEq/Xi5deegkejwc9PT0QRXHb2LpM/BwSeX0TFYRSDqFUMiYIYn9CApAgDhCR2X7J7PeSYmB6enrgdDpx6tQpuTFiLxIVgPnsEioBwzAwGAxgGAaHDx+GXq+Xp5S4XC5MTU2BYZioDmPp8emQTH5j5LWSICSIqxsSgARxABBFUZ45m8oECY/Hg2AwiFAohEuXLkGn0yV8bCIRMgcJ6WeRyJQStVod5RDq9fqkxVwqAjCWvQQhEH9sHQlCgshfSAASxFWOVPKdmZnB2toazpw5k7AgEEURMzMzGB0dBcuySY2Ciz1PvpIve9riTSnZ3NyEy+XCysoKRkdHodVqo0Kp95pSEik2lWQnQSj9nomiiJqaGhKEBJHHkAAkiKsYQRAQDAYhCIKcD5eoGAgGg+jr68PW1haOHz+OgYGBlIQEOYDbSeTnyLIsLBYLLBYLGhsbd5xSEukQxjqz2fq5RwrCQCAgrxsKhWSHkGGYKEEodRkTBJEbSAASxFWIFPEhdfkmO87N6XSip6cHZrMZHR0d8nlSId+7gIH8digldppSsr6+jrm5OQwODqKwsDDKIZQct2zHzrAsG5V/GNl1HgwGZcEoCcLILmOCILIDCUCCuMrYKdsvESEmiiImJiYwNTWF1tZW1NXVgWEYOSQ6FfaDAMwmSv0s4k0pkUKpp6am0N/fL09kcTqdKCkpycqUEsltjkRqGJGIJwgl0RjZVEKCkCAyBwlAgrhK2Cvbby8H0O/3o7e3F36/HxcuXIDJZIo6VtrnlUpHab7HwFwNaDQalJaWorS0FEC4hO9wODA0NISpqSkMDQ1tG1uXiSklifyORApC6XcjniCM3UNIvyMEoRwkAAniKiBynBsQP9tvNwG4traGvr4+lJSU4PTp09ucIulcmRSAuSIXoiIba2q1WtkdPH/+vDzHeH19HcPDwwgGgzCZTHK52GQyKSIIpRJwokTOMJaOB17dv7rT2DoShASRHiQACWKfE5ntF9mZGUs8ISYIAsbGxjA7O4ujR4+iurp6x2OB1MqX+S4As0m2fw6R68VOKYkcW7e4uAiO4+SxdVarNeUpJYIgpCXM9hKEwWAQQPzYGRKEBJE4JAAJYp8iNXpI48X2yvaLdQC9Xi96enogCALa29tRVFS067FA/P1de7EfSsDZFmbZeq47xcAwDAO9Xg+9Xo+qqip5SokkCOfm5iAIgtyFLAnCRK47WQdwL+IJQulPIBBAMBjE6uoqjEYjzGYzCUKCSBASgASxD4kd55ZIsHOkEFteXkZ/fz8qKytx5MiRPUUdOYDKkKufQyK/GwaDAQaDATU1NRBFER6PRxaE09PTYBgmKnJmpyklSgRP73WtkaJQFEUsLi6iuroaBQUFUSVjjUYjC8Jkw88J4mqHBCBB7DMis/2SHefG8zwGBgawtLSE48ePo6KiIqFjSQDuT1INgmYYBkVFRSgqKkJtbS1EUZSnlDgcDkxMTEClUkVFzkhTStItASeL9PsldRBHOoR+v19+DAlCgoiGBCBB7BPiZfslcwPz+/0IhULY3NxER0cHCgsLEz5WWifRHMHYYxMVgLkQilezCFDKjWMYBiaTCSaTCfX19dumlIyNjUGtVsNqtcLv98vNSNlC+jAkXWusQxhPEEph1CQIiYMKCUCC2AdIJd/Ozk5UVFSgoqIiqXFuCwsLGBoaAsMwuHDhQtJ7tBLNEdzp2ESOO0guYTb3AGZirXhTSiRBaLfbMTExgYWFhSiHMJn50ckSKQBj2UkQCoIgC0IpKJ0EIXGQIAFIEHmO5PpFBjwnemPiOA6Dg4Ow2+1oa2vDwMBAyhv0MykApbFzfr9fnnahVCxJImRLfOayCziTRJaDnU4nqqqqoNPp5IaS2CklFosFWq1WsfV3E4Cx7CQIeZ4Hz/Pw+/0kCIkDAQlAgshTYrP9kh3ntrm5ie7ubhQUFKCjo0M+Z6qukLS/K5XjdhMiLpcLPT09MBqNqKqqwsbGBgYGBuRYEpvNllQXKvEqmW7I2GlNjUaD4uJiFBcXA4ieUjI9PQ232w2DwRAlCDUaTVprpvPBJjI+KVYQxjaVRM4xpt9HYj9DApAg8hAp208SXJE3qb1EmCiKmJ2dxejoKA4dOoRDhw6BYRgEAgH5+6ncuKRpIMmykwAURREzMzMYGxtDS0sLqqurwXEcqquro2JJnE4nZmZmAABWq1UWhFLTwX4k200S2STe71e8KSWSIJyYmIDX64XRaJQFoRTnkijJOIB7sZsg5DguSvhpNBpotVo5cma//j4SBxMSgASRR0SOc4vX5buXAAwGg+jv78fm5ibOnDkDm80WdSyQ+s1SyRJwKBRCf38/NjY2cO7cOVgslqjGgdhYEkEQ4Ha74XQ6sbq6itHRUWi1WlkM2my2lEuK2bxp56IEnG1RkkgXsFarRVlZGcrKygAAgUBAjpwZGRlBIBCAyWSSY2fMZvOu2wGUFICx7CQIx8bGAABNTU1yU0nkHONMXQ9BKAUJQILIExLJ9ttNAEaWUjs6OrYJonQ6eaXjlSgBb25uoqurCwaDIe51xoNlWbkLtaGhATzPY2NjA06nU95jZjAYZEFosViScpCuVnJVAk5W/Oh0Orm5CQB8Pp8sCAcHB8Fx3LaxdZGCLJvRM5ENUZLgk7ZrhEIh+fskCIl8h94hCSIPiBzntttm83gCUBRFTE5OYnJyEi0tLaivr497fOQNMxXSLQGLooi5uTmMjIxElaZTQaVSyc0iAOQ5ty6XC2NjY/D7/VGCwWw273oDvtongWQTJcRY7JSSSEE4Pz8Pnuej3EEAWWsYkpCm4uzkEEqCEIg/to4EIZFrSAASRA5Jd5xbIBBAb28vfD4fzp8/L98M46GEA5iOAOzt7YXD4cDp06fl5oB415cKGo0mqqTo9/vhdDqj5txaLBbZISwqKjoQ+7Vy5QAquSbDMCgsLERhYaG8PzRySom0P3RwcDCrr6/0YS3e9cYThKFQCMFgUP4+CUIi15AAJIgckco4N2maBwDY7Xb09vaiuLgYp06d2rPkmU6Wn3R8KuLR6/UCCIuyS5cuZTQPTqKgoABVVVWygyQJBqfTiampKbAsK7uDwWAw49cjcRD2ACo9CziW2CklgUAAzz77LCwWC1wul/z6Ro6tKywsVPznkOhc7HiCUHL8JYcwVhBKXcYEkUlIABJEDojM9kt2nFswGMTo6ChmZmbQ1taG6urqpI5P1QFMpQS8uLiIgYEBAMCZM2dysi8vVjAIgoCtrS04nU6srKxgfX0dLMtieHhYFgxKZtTlmnxsAskE0tYH6fV1uVxYW1vD+Pi4PKVE+lNQUJD2Ne7kAO6FtD9QIlIQxnMIJVFIgpBQGhKABJFFIrP9UhnnxvM8VldXodPpcPHiRRiNxqTWT3UfH5BcCZjneQwNDWFlZQXHjx9HT0/Pns8zWzc4lmVhNpthNpvR2NiI+fl5LC4uQqVSYWZmBgMDAygqKpK7iy0Wi+L7y/b7JJB8WlMKRpfWjHx9pYYhaUrJ0tISRkZGoNVqtwnCZEnUAdyLRAQhy7LbmkpIEBLpQgKQILKEIAhwOBzwer0oKytLWvytrKxgdnYWOp0O7e3tKd18Ui3jSscmIgC9Xi+6urrAsiw6Ojpk1y+RY3NxU5MCfltaWgCEo3RiI0nMZrMsCI1GY8olTioBZ3+9yCklQFgwrq+vY319HQsLCxgeHkZBQUGUIEzEAc5U9EyigvCJJ54Ay7K44YYbFL8G4mBAApAgMkzkG7jT6YTD4ZDjLhJBEAQMDw9jcXERFRUV4Hk+Zech3RLwXscuLy+jv78f1dXVOHz4MFiWlfP99susX61Wi/LycpSXlwMIR5JIDSXz8/MQBCGqocRgMOStG5MLwZlt0ZmsEFOpVFFTSjiOk0OpJQc4kSklqZaAkyVSEEqvpyAI+PWvfw2TyUQCkEgZEoAEkUFiGz1UKlVSAszj8aCnpwcA0NHRAbvdjrW1tZSvJ1MOoCAIGBkZwcLCAo4fPx4lcCUxsF8EYCx6vR7V1dVyB6rb7YbL5YLD4cDExETU/jKbzZZQOfFqLQFLr3E2HcB0nTi1Wo2SkhKUlJQAiI4UkqaUSFsCIjMmlSoBJ0PkDGOv14vKysqsrk9cXZAAJIgMES/bLxkBKDVQ1NbWorW1NelZwPHIxB5An8+H7u5uCIKA9vZ2GAyGbccB+SsAkxFIDMPAaDTCaDSirq4OgiBgY2Mjan9ZQUGB7A5ardYo9ygXP4NcCMBsO4BKrhcbKSRNKVlfX5czJo1GI4LBILa2tlBUVJR1IQiEPxzG/lsjiGQgAUgQCrNbtl8iAo7jOAwNDWF1dRUnT56Ub0SJHr8bSpeA19bW0Nvbi/LycrS1tcW9Eea7AATSC8eO3F8mlROluJn+/n55xm2i7qCS5KIcC2RfAGbScYydUuL3++FyuTA0NITp6WmMjY3Je0QtFsueoeNK4fF4UFRUlPF1iKsXEoAEoSB7ZfvtJcC2trbQ3d0NrVaLS5cubRMM6QrAdHMAI/cgjY+PY2ZmBseOHUNVVdWuxwH5LQCVIracGDnjdmhoSM4cnJmZQXFxMYxGY0bFUq5KwFeTAIyloKAAFRUVGBoawpkzZyCK4rYpJZIgtFqtaTUN7QYJQCJdSAAShEIIgoBgMLhrtl9kkHMkkWPSGhoa0NzcvOPxuXIAJQEYCATQ09ODQCCA9vb2hG5C6QjP/UykeySKIjY2NtDZ2Qm32425uTkAiGooUTqwOBdNIMD+2gOY6ppAeC+eVquNmlLi9XplQTg7OwtRFKNCqZWaUuL1eqkETKQFCUCCSBOp5BsKhfbM9ou3BzAUCqG/vx/r6+s7jkmTUMIBTEcAut1uPPvssyguLsbp06cTDnZOZ92rBYZhZEf3+PHjALAtsFij0UQ1lKQ7NYVKwJlbE9g+f5hhGBgMBhgMBtTU1EQ1DUlTShiGiWooSaWLXJpuQw4gkQ4kAAkiDQRBAMdxCY9zixVw6+vr6OnpgcFgwKVLl/bMH8tVE4h0w3G73Th69ChqamqSbp4gXkX6eZhMJphMJtTX14PnebmhZGFhAUNDQygsLIxqKEl2kkouSsDZFmO5WDPy3/tuxGsaijelJNIh1Ov1Cb1mbrc76SB4goiEBCBBpEBktp90k03kTVsqAYuiiOnpaYyPj6O5uRkNDQ0JH5/tEnAwGERvby+8Xi+qq6tRW1ub9Lr5XALO5rXtto5KpYLNZoPNZgMQdoalhpKJiQn4fL6ohpJEmw2yLQBzMXouFw5gskHuwPYpJYIgyFNKVlZWMDo6mvCUEimehiBShQQgQSRJ5Dg3AAmLP+BVAXj58mV4PB6cO3cOFosl4bWzLQDX19fR3d0Ns9mM8vLylGfkUgk4eTQaDUpLS1FaWgog3FAiBVIPDAyA4ziYzWbZIYzXUJKLEvBBEIBKhUCzLAuLxQKLxYLGxsZtLvDw8DB0Ol2UINTpdLIjr9QewHvvvRdf+9rXsLS0hGPHjuGee+7BddddF/exzzzzDD772c9ieHgYXq8X9fX1+NjHPoa/+Iu/UORaiOxBApAgkiAy208ayZQMm5ubAMJuT0dHR9wJA7uRrS5gURQxMzODsbExtLS0oL6+HkNDQ2l1EBNhUv1Z6HQ6VFZWorKyMqrZwOl0Ynp6Wt5bJglCvV5/IErAV5PojHWBI6eUzM3NYXBwEP/4j/8IrVaLiooKhEKhtNf86U9/ik996lO49957cenSJdx33314y1vegsHBQdTV1W17vMFgwJ/92Z/hmmuugcFgwDPPPIOPfexjMBgM+OhHP5r29RDZgwQgQSSA1OgxNzcHj8ezY5fuTgiCgImJCUxNTQEATpw4kfR+LiA7DqDUlLKxsYGzZ8/KGXfpRsiQA6gcsc0GkXvLIkuJOp1O7k5P1b1NhoNSAk5nHGMyxJtSYrfb8fDDD2N9fR0nTpzAiRMn8IY3vAHvf//7cfbs2aTX+PrXv45bbrkFH/7whwEA99xzD37zm9/gO9/5Du66665tjz916hROnTol/72hoQE///nP8fTTT5MA3Gdk918NQexDpGy/UCiEQCCAra2tpG5yfr8fL7/8MpaXl3H+/HkASFkMSU0cSk/zkNjc3MTzzz8PnufR0dEhiz/p2HQ6iInMxbJIe8saGhpw+vRpvPa1r0VbWxtYloXf78czzzyDF198EWNjY7Db7fL2BaW5mty4fFsTCG8LeO9734svfOEL8Pv9mJ+fx1/91V/B6/XKHy6TIRgM4vLly7j++uujvn799dfjueeeS+gcXV1deO655/C6170u6fWJ3EIOIEHsQmy2X7KzfFdXV9HX14eysjKcOXNGvmmkIwCl41NxIHZyAEVRxPz8PIaHh3Ho0CEcOnRo2418pwzDRMhnB/BqFKdSKdHtdkOr1eLw4cNyFIk0zsxkMsklY5PJpIigyVUJOBdr5mL8m4S0/6+8vBzvfe978d73vjel89jtdvA8j/Ly8qivl5eXY3l5eddja2pqsLa2Bo7jcMcdd8gOIrF/IAFIEHHYKdsvUQEoCAJGRkYwPz+/bVJGOmIoEwKQ4zgMDg7CbrfvmkOo1BSRfCSb15aLrtzY+bY+n08WhH19fRAEQZGw4lyUgEVRzLoYU6oJJFXcbndK+YE7kUrz0NNPPw23240XXngBn/vc59Dc3Iz3ve99ilwPkR1IABJEDLuNc1OpVHu6YF6vF93d3QCAjo6ObZ166c7jBVJ3EGOFmNvtRnd3NzQaDTo6OnadVZtuCTifBWC2yMVkjng3cr1eD71ej6qqKrmjVGoomZqakmccRzaUJEIuSsA8z2dlf2MkuXYAlZoCUlJSApVKtc3tW11d3eYKxtLY2AggvJ95ZWUFd9xxBwnAfQYJQIKIQHL9dsr52ku8LS0tYWBgANXV1Th8+HBclyDdUiqQXglZ6hxcXFzEwMAA6uvr0dzcvKejkWqINJDfAvBqLAFLJPIzZxgGRUVFKCoqQm1tbVQ23dLSEkZGRqDT6aICqXcSXAcpCDqXDqDH41FkbKBWq8WZM2fw2GOP4V3vepf89cceewzveMc7Ej6PNCKS2F+QACQIbM/22ynkdScHkOd5DA0NYWVlBSdOnNj103Oy+wgjkTIH0zleEAQMDAxgeXkZ1157rZwzl8ixqYq4dMTj1Ua+BzPHZtNxHIeNjQ04nU7MzMxgYGAARUVFsiC0WCyyG0ZNINnB7XYrFgL96U9/GjfddBPOnj2L9vZ2fO9738Ps7CxuvfVWAMDtt9+OhYUFPPDAAwCAb3/726irq8ORI0cAhHMB//7v/x6f+MQnFLkeInuQACQOPFK2X+Qc051uYvHcu62tLfT09ECtVqOjo2PPclkupnlIcByH1dVVFBYWJnStkaTr4pEAzJ8ScDKo1WoUFxfLe0ODwaBcLh4ZGUEgEIDZbIbVas1Jo8/VHAOzE0rOAb7xxhvhcDhw5513YmlpCcePH8dDDz2E+vp6AOGqxuzsrPx4QRBw++23Y2pqCmq1Gk1NTfjKV76Cj33sY4pcD5E9SAASB5bIcW6JjnaKdO8iO2cTLaMCuROAKysrmJubQ0FBAS5cuJD0TTOd605EPC4vL2N+fl6ebmEymbLmJl3N4lTpn6FWq0V5ebnscvt8PnlCicPhAM/z6O3tlcvFSjYrxOOguI6RKDkFBABuu+023HbbbXG/d//990f9/ROf+AS5fVcJJACJA8lujR67ITmAHMehv78fTqcTp06dkoNaEyGdPYDS8ckIFqkjeWFhARUVFSnvX8pUCVgQBIyOjmJ+fh61tbVwu92Ym5sDALkRwWazJeVWEmGy0ZWr1+tRXV2N6upqzM3NYXV1FRaLBQ6HAxMTE1Cr1bIYtNlsuzYapUKuSsCpBLkrhdICkDiYkAAkDhyR49ySHeguOYDPPvssCgsLcenSJeh0uqTWT2cPIJCcE+fz+dDT0wOe59He3g6Hw4G1tbWU1s1ECTgQCKC7uxuhUAgXLlyIai7Y2tqC0+mUJ1sUFBTIYtBqteb0BpwO+b4HMF00Gg3q6upQV1cHQRDk2baLi4sYGRmBXq+Pmm2b7DjEWHJVAs5253EkSpaAiYPL/nwHJYgUkLL9OI5LuOQbe/zCwgIAoLq6Gk1NTSndXLNVAl5bW0Nvby/Ky8vR1tYGlUoFl8uVVgdxuhNMInG5XOju7obNZpNDsoPBoLwH02QywWQyoaGhQZ6J6nQ6MTExAZ/PJwcZFxcXw2g0piwCsi3IskmuZwFLcTJWqxWHDh2Keh2npqbQ398Po9Eou4NmsznpvXUHMQja7XbL84IJIlVIABIHAqnk29nZiYaGBlgslqRujMFgEH19fdja2gIA1NXVpXxjzbQAFEUR4+PjmJ6extGjR1FdXS1/L1dhzpHHiqKI2dlZjI6OorW1Vf5Z7vacYmei+v1+OJ1OOJ1OLCwsQBCEbeXiqzneJVGyHZGy13682NcxEAjIDSVDQ0MIhUJyQ4nNZoPRaNzzdTyIMTA+n48cQCJtSAASVz2R2X4ejwccxyUlDpxOJ3p6emA2m9He3o7HH388bQGX7h7AndYPBALo6elBIBDAxYsXYTQaEz52L5QQgDzPY2BgAA6HA2fPno2aNZwMBQUFqKqqkoOM3W63XN4eGxuTc+ukcvFeZcardRJIttdL1nHU6XSoqKhARUUFRFGMaiiROk8tFov8OsbLvjuoMTCFhYU5W5+4OiABSFy1RGb7SS5BIpM8Io+fmJjA1NRUlFPFMExaAi5TewAloWqz2XD69Om4e+TSHUOXjngMBAJ44YUXoFar0d7erlgzAMMwMBqNMBqNaGhoAM/z28qMJpNJFhFmszlnN++DVgJOBoZhUFhYiMLCQtTU1EAURXkf6NraGsbHx6HRaKIaSnQ6HcXAEESKkAAkrkoEQQDHcdu6fBMVgH6/H729vfD7/bhw4QJMJpP8vWw2cSRyvCiKmJycxOTkJA4fPoza2tpdcwxzUQIOBoOYmppCbW3tjhNSlEKlUkXl1gUCgW3lYslVstlsV3UETLYFYMKRLMEgoFYDu/wexO4D5XlebiiZn5/H0NAQCgsLEQqFsLGxgcLCwqw1BuXaAfR6vSQAibQhAUhcVURm+0k3v8gbUiICcG1tDX19fSgpKYnrpCXjIsZDSQEo7U10u904f/48zGZzxtZORQBK+xE3NjZQUVGBtra2Xc+fCXQ6HSorK1FZWSmXi10uF+x2OyYmJqBSqSCKIlZWVnYdc6YUB7npRPOtb0H7ta+BcbnCX9DrEbrhBgTuugvYYyKNSqWSRXtTUxNCoRDW19fR19eHubk5jI+Pb2soyZRIy3UTCMXAEEpAApC4aojN9os30WM38SYIAsbGxjA7O7uteSISJfbwKSEg19fX0d3dDZPJhI6OjoTiNNLdx5eMeAwGg+jt7YXX65U7dRNZI5NElovr6urA8zxmZ2cxPz8vjzkzGo2y0MhluVgJ8qkErPnmN6H7/Oejv+jzQfOzn0H9yCPwPPUUcOhQwmtpNBq5meTUqVNgGEZuKBkYGADHcbBYLLIgLCoq2vVnwfb2QnfHHWDHxyGUliL4l38J/s1vjvvYXDaBiKIIj8eT0L8ngtgNEoDEVUGi2X47CUCv14uenh4IgoD29vZdyyvploBVKpU8czhVHA4HxsbG0NzcjIaGhoRv8kpHuezExsYGuru7YTQa0d7ejqGhobwstapUKhiNRmi1Wpw/fx7BYFAuF0siInLPWbpTLfLNkVOa3Zwx7de/vuNxzOYm9H/2Z/A99FBS60k/T5Zltzm9Xq9XbiiZnp4GwzDy62i1WqM6xdX//u8ouOUW4Mq/DdX0NPTvfS+Cf/ZnCH75y0k9z2xAewAJJSABSOxrks32iycAl5eX0d/fj8rKShw5cmTPN/ZMdvHuhbTfieO4lLpos7EHUNqf1dTUhMbGRtmJzUcBGItWq43qSvV4PLKImJychFqtlt1Bm82W0zDgRMmLLmC7Hcz6+q7Hql5+Oen1pH9HsW4cwzAwGAwwGAyora2FIAjY2tqCy+WSg8V1Ol1Y3JvNaPrEJ2TxB4YBrvyuau+9F8GPfxyIqQbkOgaG9gASSkACkNi3pDLOLVK88TyP4eFheQB6RUVFQusq0QSSioDc3NxEd3c3RFFEdXV1ShEq6XQB73WsIAgYHBzEysrKtvF4+0UARsIwDIqKilBUVBQ11cLpdGJubg6Dg4MoKiqKKhcn4grlhSDL4HpxhZHJFG742O33PoXfy50EYCwsy8JsNsNsNkd1irtcLmw+9BAYtzv8QOlnJYlAQYD2vvsQvPNO+VzSPuNcCUApzor2ABLpQgKQ2JcIgoBgMJj0RA+VSoVQKAS3242enh6wLIuOjo6kMrWy3QQiiiLm5+cxPDyMQ4cOwe/35ySEejf30Ofzobu7GwDQ0dGxbW5vPgvAZMrnUjm4qakJwWAwbohxcXExrFZr3D1nB6EEHHc9rRb8tddCdfnyzse2tia9XmQJOBkiO8VV4+O7Pjawvg4xQvBJa+aqBOz1eiGKIu0BJNKGBCCxr5BKvlKXb7Lj3FiWxdbWFp5//nnU1dWhpaUl6ZtHuiXgZBxEjuMwODgIu92O06dPo7i4GMPDwxlz8fY6Np6AcTgc6O7ujho5l+ix+xmtVovy8nKUl5dH7TmT8gdVKlXUdJJkZ0YrQS4E507/nnz33w/DddfFLwVrNPB/9atJrycJznRELv/61wNabTiaRhRfdQGv0HPqFDaeflpuKJEioXLlAHq9XgCgEjCRNiQAiX3DTtl+icJxHFZWVrC1tYXTp0+jdI/YiZ3IVg6g2+1Gd3c3NBoNOjo65OBklmVTbiKRXLxUnKFY8SiKIqampjAxMYG2tjbU1NTsemw+C8B0ry3enjMps25hYQFDQ0MwGAwoLCyEIAhZCxLOiAPo90P9f/8v1A8/DASD4F//eoQ+8AHAYtl9vfp6eEZHofnyl6H90Y/CQlClAn/8OAJ/+7cQOjqSvhRFSrEFBQh+4hPQ3n13+O8Rvwv8616Hkx/60La9oAAwPDwc1VCSLTweD9RqdU4+UBBXFyQAibxH2nMzNzcnzxJN9qYm7Z9jGAYWiyVl8QcoUwLe6/jFxUUMDAygvr4ezc3NUTe5dMu4QGrCILIEzHEc+vr6sLGxkVD+YL4LQKWJLBcfOnQIoVAILpcLS0tL4DgOTz31lOwoFRcX7xlRkiqKC8BgEAUf+xjUjz8ePjcA9QsvQP2rX8H34IN7B0EXFCB0550IReypSwel9uIFv/hFiJWV0H7962DW1iAaDOD+6I8Q+MpXtu0FdbvdeOmll2AwGLC0tISRkZGo0YMWiyWjzUHSGLj9HE9E5AckAIm8JnKcm8PhgFarTUq8iaKI2dlZjI6O4tChQ9Dr9ZiZmUnrmtINct7NQZQaU5aXl3Hy5EmUlZUpur50c05FjEnHbm1toaurC4WFhejo6EjoZpdO6flqQKPRoKysDBqNBm63G6dOnZLLxTMzM7JglESEUmPylBaA6ocegurxxyEaDIBOBxEAOA6qwUFo//mfIb7+9fmx5zAFQh/9KEIf/WhCj1Wr1WhsbERjYyM4jpMbSqanp+F2u+XmIKvVCovFoqjbK52fINKFBCCRt0jZfpJwUKvVSTlvwWAQ/f392NzcxJkzZ2Cz2bC6upq2EMlUE4jX65VdyniNFJHHp+qmSa5BKjlm0rEvvPACGhoa0NzcnPDNN58dwGwKFiD8c4yceStFlDgcDiwuLmJkZAR6vT7KUUpnxJmSz0/11FPhbt3I8qNaDTAMVI8+CvF1r8uqM5WLbtzYNaWqhNT1HtkcNDIygkAgALPZLAt8o9GY1jV7vV7qACYUgQQgkXfslO2nUqkQCAQSOofL5UJPTw+MRmOUS5WueAPCN/BgMJjW8bECcGVlBX19faiurt5zVq4SJeBkj5empADA8ePHUVlZmdTx+SwAs0m8n0FkRIlULl5fX4fT6cTY2Bj8fj/MZrMsCI1GY8KiLhM/c4bjALsdIssCZjMgfZC44vJm2wHMtgDcKwMwtjnI5/PB5XLJM4wFQZC3B1it1qTDxT0eDwoLC7P+wYW4+iABSOQVu2X7JTJBQxRFTE5OYnJyEi0tLaivr096FvBeKJkDKAgCRkdHMT8/n3AWYbZLwIFAAN3d3QiFQgAQle+XzLqJrJkroZhP4lSj0aC0tFTe6uDz+eRy8ezsLADI5UWbzbZrA4KiJWC/H6rf/ha40oXKAMD6OkSLBRBFcG99665dwJkgVw5gou45wzCy21tdXS3PonY6nXA4HJiYmIBarY6aULJX+Z9KwIRSkAAk8oa9sv32KgEHAgH09vbC5/Pt2JiglAOoRAyMz+dDT08PeJ5He3t7wmWddAVgMvvxXC4Xuru7YbPZcPr0afz2t79Nef9gPomsXJKsINPr9aiurpYFxObmJpxOJ5aXlzE6OoqCggLZHbRarVHlYiUFYMGf/inYqaltX2fW18GfPYvQTTdBHBnJj+DpDJLOFJDIWdT19fXbusWHh4eh1+ujHMLYGd9UAiaUggQgkTfwPL9rsPNu4s1ut6O3txfFxcU4derUjnum8skBfO6553bNztvt+EzH0EQ2z7S2tqKurk7+XiprkwAMo0TcjFQujmxAcDqdmJiYgM/ng8lkkgWhkgJQ/fDDV/5HLU/JkCJTxOpqwGw+ECVgJecAx3aLcxwnl4unpqbQ398Po9EIm80Gk8kEvV6vqAN477334mtf+xqWlpZw7Ngx3HPPPbjuuuviPvbnP/85vvOd76C7uxuBQADHjh3DHXfcgTe96U2KXAuRfUgAEnkDwzC7ZvvFE2+CIGB8fBwzMzNoa2tDdXX1nrOA0x3llI6IFEVR7kJubW1FbW1t0udIVwDuJcY4jsPAwACcTmfcecNXmwO4n/dSxTYg+P1+uVw8NzcHjuMwMzODYDAIq9W698SbrS1oHngA6kceAUIh8G98I0If/CDEsjIgEAiHJEt/pH8/HAfG4QCQfUcuH/cApoNarY4q/wcCAbmh5Je//CU++9nPorm5GYWFhXjppZdw5syZlMXoT3/6U3zqU5/Cvffei0uXLuG+++7DW97yFgwODkZ94JN46qmn8N/+23/Dl7/8ZVgsFvzwhz/EDTfcgBdffBGnTp1K63kTuYEEIJE37JXoH7sHUCqhchyHixcvJjQaSXqzTOdNPNUScCAQQE9PD/x+PwAk3UgRuX6mHECPx4Ouri45fDo2bDZVIZfPAhDI7h7ATArOgoICVFVVoaqqCqIo4vnnn0dhYSFWVlYwOjoalVe3rbzo9aLgf/wPqF55RRZ57NAQVI88Av9PfwrRagVjt0dPy7jyeyRcc82Vv5IDqCQ6nQ4VFRWoqKjAkSNHcO7cOXzta19DX1+f7Lz93u/9Hn7yk58kHR309a9/Hbfccgs+/OEPAwDuuece/OY3v8F3vvMd3HXXXdsef88990T9/ctf/jJ++ctf4te//jUJwH0KCUAib9jrxhG5B3BlZQX9/f1Jl1AjBWDs3ppESaUE7HQ60dPTA5vNhpMnT+Lxxx9Pq5M3Ew7g6uoqent7UVNTg9bW1rg31lTXzncBeDUiOerl5eUoLi4Gz/NR5cWBgQG5vGiz2VD88MNQvfIKRLM5PBoNADgO7Pg4ND/6EYIf/Sh0d90FcNyr7p8gAAYDAv/zfwLIo9nDoRBU//VfYEdHIVZWgnvrWwGFyqaZdAB3g2VZnDx5EjabDe95z3vwla98BZ2dnXjppZeSFn/BYBCXL1/G5z73uaivX3/99XjuuecSOocUX2Sz2ZJam8gfSAAS+wbJARwcHMTi4iKOHTuWUhxJuk0cyRwfOS7t8OHDUSXfXMzzBbaLOFEUMT4+junp6T0jXq5WBzBb5GI2b2QXfWS5OBAIhMvFdjv6Z2dx9Oc/R1UoBIFhoBIEMCwb3u/HslD99rfw/frXYNxuaL//fcDvBxgGYl0dfD/4AXDlnPlQAmaWlqB/3/vADg+HnUpBgPg3fwPfAw9AUMCpyoXrGInH40FjYyNUKhXOnTuHc+fOJX0Ou90OnudRXl4e9fXy8nIsLy8ndI67774bHo8H733ve5Nen8gPSAAS+4ZAICBveu/o6Nh7P9MOpNsIkqgDGAwG0dfXB7fbva0rOR0Rp4QDKB0fDAbR09MDn8+H9vb2PTeXkwDcX+zmyBWsrKDxz/8czc8/D0YQwBsMAM+D43kEQyEwCP+ua3gewhVHMPilLyH4hS+AfekliKWlEA8fTni9TBBPjOn+5/8EOzQEsaAgLGB5HszqKgo+8hF4n38eSNH5j1wzWyXgeHi93pTf+2KJfa0Sff0efPBB3HHHHfjlL38Zd1oRsT8gAUjkDbu98UizcQHg/PnzaU1GUEIA7nX8+vo6uru7YTKZ0NHRsa3cnI4LqcQeQFEUsbGxga6uLpjNZnR0dCT0M70aS8DZbgLJdkxK3PXW1lB43XVgXC55P5/qyt7UAq8XsNnCXfleLwRBwGBzM5wvvyyXi80dHXFdsFzvAWSWlqB+8kmIGk1Y/AGASgWxoADs/DxUTz8N/g1vSGtNnudzKgCV6AIuKSmBSqXa5vatrq5ucwVj+elPf4pbbrkF//Zv/4bf//3fT+s6iNxCApDIaziOw9DQEFZXV3HixAl0d3enLSQyWQKOjE9pbm5GQ0PDjpE2uXIAWZbF2toaFhYW0NTUhMbGxoyPdEv0uGAwCJZl0xL4qZAtcZoLERzvtdXdcQeY9fXwFI/I/Xw8D9blgshxUIsioFKBf+MbUXP77TBc6TAeGBgAz/OwWCyyIJQmU+S6BMy4XADPb3f5VCpAEORu5XTXTGT+dabwer0JNbzthlarxZkzZ/DYY4/hXe96l/z1xx57DO94xzt2PO7BBx/En/zJn+DBBx/E2972trSugcg9JACJvGVrawvd3d3QarW4dOmS3JGaTgMHkH6OnxQlE+uucByH/v5+uFyuuPEpkaQ7zi3e+onA8zx8Ph88Hg9Onz6N4uLipI5PtXS9lwAURRHT09MYHR2Vs9GKi4v3nHRB7M5OvyOqp58Od/NGijWWDYtAjQbcH/8xwHHgX/MacG96E3RaLSoAVFRUQBRFeDyeqGkWGo0GVqsVoijuOa1H6ecX6cYJjY0QLRYwLlfYBZQIBACNBvy116a9Zq6aQCSkUXDp8ulPfxo33XQTzp49i/b2dnzve9/D7Owsbr31VgDA7bffjoWFBTzwwAMAwuLv5ptvxje/+U1cvHhRdg/1en3c0H0i/yEBSOQdoihibm4OIyMjaGhoQHNzc1Lj4PYi3XNIb/48z8tO1ebmJrq7u6HX63Hp0qU9HQIl5vkmKwB9Ph+6urogCAJaWlqSFn/S2ko7gDzPY2BgAA6HA6dPnwYQnkAiRZfo9fqo6JJclt+UINsl4LhIDmtkpMuVv4uFhQj87d/ueE6GYVBUVISioiLU1dWB53lsbGzAccVde/nll1FUVPRqudhszthrtm0PoF6P4Cc+Ad2dd4Jxu8MikOPAAAj9wR9AbGlRZM1c/Q5K4jtdBxAAbrzxRjgcDtx5551YWlrC8ePH8dBDD6G+vh4AsLS0JI8eBID77rsPHMfh4x//OD7+8Y/LX//gBz+I+++/P+3rIbIPCUAib2AYBqFQCP39/VhfX4/rUOXDJA/pzV8QBIiiiIWFBQwNDaGxsRFNTU0J3eDT3QMorZ+oE2G329HT04OKigqo1eqUS6xKl4AlUcqyLNrb22VhbDab0dDQIE9GcDqdGB0dRTAYhNlslt1Bg8GQtqDKC0GWwfXiPT/uHe+A9u67X410YRhZDHL/7b8ltYZKpZKF3tzcHC5cuICtrS24XC4MDQ0hFApFlYuVeM0k4u05DP3pnwKFhdB861tgl5chWiwI3nwzgp/5jCJr5toB9Hq9ik0Cue2223DbbbfF/V6sqHviiScUWZPIH0gAEnkDx3F47rnnYDAYdnTRlBKASjiAwWAQw8PDsNvtSZdT090DCCQWIyOKIiYnJzE5OYm2tjbU1NTglVdeSSuCRikB6HQ60d3djbKyMhw9elT+ABBJ5GQEURTh8/ngcDjgdDoxOTkJjUYjCwubzZbW1oCrlW1iKxgEMz//ask3MhKopgaBr341pXWk3ymdTgeDwSCXi71erzydZGpqShaMVqsVNpttW9h4smtuE2MMg9CHPoTQzTcDGxvh/D8Ffy/yIQZGKQFIHGxIABJ5g1qtxokTJ2C1WncdB6dECTjdGBWGYdDZ2QmdToeOjo6kg1iVKAHvdXwoFEJfXx+2traiYmhSLeNKx6a7BzCyxC9lIyYiLBmGQWFhIQoLC1FbWyuXHp1OJ6anpzE4OAij0Si7gyaTKWGn6WqZBBJLPAdQ873vQfPww+HJHqEQ4PWGRaBeD+8vfwlYLCmvBUQ/P4ZhYDAYYDAYUFtbC0EQ5Ndsfn4eQ0NDMBgMsoC3WCxJlVd3FWMsC+yyDzdVclkC5nkeXq8XBoMhJ+sTVxckAIm8ori4eNebceQ0kFRJ10VcXFyEKIqwWq04duxYSm5AOiVgSYDuJsS2trbQ1dWFwsJCtLe3R7mp6YjPdB1AQRAwODiI1dXVPRtl9kJykmw2G5qbmxEIBGR3cG5uDgBenXJRXJyW07RfiSsAf/KT8P8YDBCBsOATBDAbG1A/+ihCKe6Tk34vdvv3IDX4WK1WNDU1IRQKweVyweFwYHh4GKFQCGazWX7dioqKdhXMV9ss4L3weDwAoMgeQIIgAUjkFXsJDKVKwKmcQxAEDA0NYXl5GWq1GjU1NSnfCNJ1IXcTcVJmYmwDjUQ6mXzpCECe5/Hiiy9CFMWUXNO90Ol0UXNwNzc34XQ6sbi4iJGRERQWFsruYCYbE3YjF3sAY2Hsdoixe0Cv7ANknM6U15J+H5NxODUaDcrKylBWViaX+KVy8fT0NFiWjSrxx4r4q30WcCxerxcAqARMKAIJQGJfoVQJOHav2V54vV50d3eDYRi0t7entY8OUCbLL/Z4QRAwMjKChYUFnDx5cseE/nTLz6kc6/F44PP5ZNc03g1UcjaVgGEYmM1mmM1mNDY2RjlNUmNC5B60fA2pTpd4DiB/8iRUzz4b3QEcCgGiCOH48bTWSkeMRZb4a2pqIAiCLOKlRiuDwSC/blar9UA6gFqtNqc5hMTVAwlAYl+hVAnYf2XqQSKsrKygr68PVVVVOHLkCFiWTduJVFoA+v1+9PT0gOO4PcfkpTOGLhUHUNrvJ+3xTErkhUKAxwMYDGlt5I91mqQcO7vdjvX1dYiiiOHhYRQXF8NqtWYsiDqbo9Li7ckDgNDHPw7VK6+Es/L0+vCotFAIQlsbuDe/Oa31lHxuLMvCYrHAYrHg0KFDsoiXOsIDgQBYloXdbkdBQQGMRmNWfra5bAJxu91y6DZBpAsJQGJfkc0SsCAIGB0dxdzcHI4fP47Kykr5e0oIOKUEpMvlQnd3N4qLi3d012KPzUYJOLJkfvjwYUxNTSV+4+I4qB55BKpnngFcLqC0FPxrXwv+jW8MT3VIg9gcO5fLhb6+PrAsi4mJCfh8PnkfWnFx8Z770PKVnQQg//rXw//d70L7938Pdnwc0GgQuuEGBP/6r4E0QrczPQYuUsQDYVf+8uXL8Pl86O7uBoCocrHSWwwkclkC9ng81ABCKAYJQCKv2OsGki0B6Pf70d3dDZ7n0dHRse1NV4l5wkoIyOnpaYyNjUV10yZybKZLwIFAQA6d7ujoQCAQSEp0qv/936H+xS8g6vUQjUYwc3PQPPAA4PeDf/vbU7r2nVCpVGAYBq2trQAQtQ9tZmZG3ocm7R/cb+W3eL8T/JveBN/114f3A+r14aiUNMmmuwkAhYWFUKlUaGpqgslkwtbWFpxOJ5aWljAyMhIVIG6xWBRxdaXsz1yWgPfrBxIi/yABSOwrki3f7nSO3cSbFJpcXl6Otra2uJ/2MzlPOBEYhsHk5CS8Xm/S3bSZLgGvr6+jq6sLNpsNx48fh0qlQjAYTFwAOhxgn3wSgskE1NUBAMSyMmBqCqonngD/hjcoIlh2Qq/Xo7q6GtXV1fI+NIfDgbm5OTlqJnLKRbJiINcl4IgLgVhaquh6uWjIYFkWLMtG7fmMDBAfHx+Hz+eDyWSSX7dkIoJi1wOQUwdQiTFwBAGQACT2GZmMgRFFEePj45iensbRo0dRXV296znSdfCSbUSR8Hg88Hq90Ov16OjoSDreJJ219xKAUrZbc3MzGhoa5JtsomVnhmHALi6CXV+HcOhQ1PfEkhKwy8tgVlYgKigAdxMCkfvQmpqaEAwGZXewv78fgiAkNbc4m80m2W5syXQJOJk1IwPEgbCrKwlCKSJIaiZJZt609L6Ryz2A1AFMKAUJQCKvyEYJOJ77FggE0NvbC7/fj4sXL+6Zs6VEE0gqx0sNKRqNBocOHUop2y4TOYBSB/Li4iJOnTqFkpKSuI/ZC1EUIRoMEHW6cEBx5D4urxeiVquo+EsWrVaLiooKecqF2+2Gw+HIy7nFezqAGVgvVw7gXuj1euj1ejkiSCoXS69bQUFBVLl4p4kykuDMlQCkEGhCSUgAEvsKJWJgYl1Ep9OJnp4eWK1WnDp1KqG9Quk2gSTrIIqiiLGxMczMzODEiROYm5vLepYfEP95B4NBdHV1IRQKob29PW6JKhkRIjY0QDh2DKoXX4Sg0YTLvZubYJeWwuXf8vKUrl1pGIaB0WiE0WiMO7c4EAjAYrFEzS2Wjsv2dWaDbO8BBFLryGUYBiaTCSaTSX7d1tfX4XQ65SagyDK/yWSS18j1HGAaA0coCQlAYl+hRAlYct9EUcTU1BQmJiaSaqIAlHEAExWAwWAQPT098Pv9aG9vR1FREebn57Oe5QdsF48bGxvo6uqCxWLBmTNndhTPSa3Jsgh94ANAIAB2eBhMIACxoAD8+fMI3XhjSte9F0qUS+PNLXY6nXA4HJicnIRarYZerwfHcQiFQhmfW5xtBzDbJWDp9yldQaZWq1FSUiK71n6/Xy7zLywsyGV+qQEolw0YbrebHEBCMUgAEnlFtrqAOY5DZ2cn3G531JzcRGFZNi0nMlFBJAkss9mM9vZ2WWClK+KUOFaaONLU1ITGxsY9X7ukRFZlJUL/3/8HZmAArMsFobgY4rFjaUfAZIt4ocbr6+uYnZ2F2+3G008/LTclFBcXw2g0Ku4sXe0lYKUEYCwFBQVRE2XcbjecTifW1tawvr4OABgeHpbL/JkW8pFQDAyhJCQAiX2FEgLQ4/HIN8eOjo6U3sClztZUSWQP4NzcHIaHh7c1VEjHp+MAplsCHh4exvz8PK699lp5o/1exwFJlgk1GojXXov0Xu29yYZAkqJk/H4/RFHE0aNHZXdwfn4egPIZdld7E0gis4fTJbLMX19fj7W1NYyOjkKlUmFqagr9/f0wmUyyQ5hKV3gyeL1elOfJFghi/0MCkNhXqNXqlJ03URQxOzuLkZERAMDJkydTzgbLZA4gz/MYGhrC6uoqTp8+jeLi4m2PycU4NyB8k19dXYVarUZ7e3vCboQkDHKxTyyfkJ6/TqdDZWUlKisr5aYEh8MhZ9gVFhbK7mCqc4ulta7WPYCZcgD3QqvVoqWlBUC4eUwqFw8MDIDneVgsFlnIKz21g/YAEkpCApDIKzJVAuY4Dv39/XC5XDhz5gxefvnlvJvlC4TjKrq6usAwDDo6OnZ0grI1zSOSzc1NLC4uQq1W4+LFi0mJ5z1vgh4PmKEhqOfmgMJCoLkZYm1t0te4H4lsSthrbnEyoiLbDmAuBGA2BS6wvQkkVshLIwYdDgcmJiag0WiiusLTDRGnEjChJCQAiX2FSqWCKIpJdf9tbW2hq6sLer0ely5dkku+6Tp4SjeBSAHUFRUVaGtr2/X5ZdsBXFpaQn9/P8xmMwoKCpJ2TqWbdNzXzeEA+61vgb18GWwwCFanA5qaEPrDP4Rw5kxS66RKNsXSXoIldm6x1+uFw+GQRYVWq5Xdwd3mFmdbkOViD2A+dR3HjhjkeR4bGxvyRJmBgQG5u9hqtcJisST98yIHkFASEoDEvkIqhXEcl9CnaSmYuLGxEU1NTfINI1c5fvGOF0URk5OTmJyc3DOAOvL4bAhAURTlecgnT57E1tYWPB5P0mtGloC3Xc8//zNU//VfEMrLIZpMgNsNZnAQ6n//dwQPHQKSmHJytcEwDAwGAwwGgywq1tfXZTEoTbiQomaMRmOUKFJSIKkefhja++4DOzQEsboaoZtvRuimm+TGnFx0AWe7/MvzfMLleJVKJbt/AKJCxAcHB8FxXFS52GAw7Pnz83g8e2aUEkSikAAk8opESsDA3u4dz/MYHBzE2tpa3GDiXM/ylY4PhULo6+vD1tYWLly4AJPJlNDxmZzmIREKhdDT0wOv14uLFy+iqKgIbrc7pee9TQBevgz2iSfAzM8DTz0FobgYKCsDrgRBM6urYIeHwc7OQsiwAMxF40KqqFQqFBcXy/tCucceA3v33Qj6/Zhqb4f94sWoRhKlnpv6pz+F7rOfBRMKQdRqwY6OQvf5z4OZmUHwi18EkBsHMF+Dp+MRGyLu8Xjk3EgpJiiyESjeB1waBUcoCQlAYl/BMMye4s3tdqO7uxsajWbHfXT54gA+//zzMBgMSXcjZ9oBlMrmBoMB7e3t8rWluvcwUgCyP/852O9/H9jcBEIhMDMzgMsFwWaT3T7RaAQ7Pw+k4DbmJTwP1ZNPouQ3v0FhIADVjTeCv3gRSFWgCQIK3v9+qB95BLjyepT87ncInD2LkXvvxfz8PLa2tgAAExMT6XWoBoPQ3n03GI6DaLWGZwgDgNsNzQMPIPQnfwKxtpYcwCSILBfXXvnZSeViaeZ0UVHRtpnTSjmA9957L772ta9haWkJx44dwz333IPrrrsu7mOXlpbwmc98BpcvX8bY2Bg++clP4p577kn7GojcQwKQyDv2cqh2E2/SXrW6ujq0tLTseINQwgFM53i73Q5BEFBVVRVVmk6UTOYArqysoLe3Fw0NDWhubt5WUkxLAK6ugvnxjyFyHHDiRLjcu7kJ2O1gRkchXrgQPsDlgmgwQGhoSHqtvCMYhO4zn4H6N7+BNhiEWRCgfuQRhN77XgTvuANIQcRovve9V8WfJEh4HrqXX8aRf/1XBL/wBTgcDvT39yMQCMgdqlIzSXFxccLzb9mpqfD85cLCaMFaWAjG5YLq8mVwtbU5aQLZTw7gbrAsC6vVCqvVKs+cltzBoaEh3HvvvVhcXITBYMDi4mJa1/HTn/4Un/rUp3Dvvffi0qVLuO+++/CWt7wFg4ODqKur2/b4QCCA0tJS/PVf/zW+8Y1vpPtUiTwidzNtCCJF4kXBCIKAwcFBDA4O4uTJkzh8+PCub5C5KgFL1zk+Pg4AOHToUEo3zUzkAErj5np7e3HixAm0tLRsu7Z0xsgBgKqnB+zKClBTA/j94ay/sjKgoADM8jKYmRkws7Ngt7bCY9+qqlJeKxky2QSi/sUvoH74YYgGA7jSUgSLiyFqtdD8679C9bvfpXROzQMPAIIAaDRhAcmy4f8HoPnZz8LrqtVQqVQ4evQoLl26hNOnT8NsNmN1dRUvvPACnn/+eYyOjsJut+8arSQWFobPH/v7JggAy0K80pWa7RJwrmYPZ2O+s1arRXl5Odra2tDR0YHbb78db3rTm2C32/Gxj30MlZWV+MAHPoDf/va3SZ/761//Om655RZ8+MMfRltbG+655x7U1tbiO9/5TtzHNzQ04Jvf/CZuvvnmpAPzifyGHEBi3xEr3rxeL7q7uwFgx1m0e50jWVIpAfv9fnR3d4PneZw/fx7PPfdcyp/klS4Bh0Ih9Pb2wuPx4OLFizuWmVJdV4rrEEUxHPkyMgIEg2H3qqgIYnExmI0NiCoVRLMZobNnwd18c0rPL99QP/xw2KkrLAw/Z4YBjEZgawvqRx8F//u/n/Q5mc3Nnb/pdr/6uCsCPjbQeKe5xZI7GNmQINbWgj9/HupnnoGo0QBqNSAIYDY3IVRWgr9SOjwoJeBUs0NThWEYHD9+HEeOHMGXv/xljI6OYmlpCY899hgcDkdS5woGg7h8+TI+97nPRX39+uuvx3PPPafkZRP7ABKARN6RTAl4dXUVvb29qKqqwpEjRxK+IWTbAXQ6nejp6UFxcTGOHTsmfz0f5vm63W45Jidyv18ixya7rqDTQfT7w/v/yssBngezugr4/RB+//fB3XorQkVFYOrrszb2LdOihfF4okqn8v8xDODzpXRO/vjxcGbiFRcOQPj/RRHC4cMAdo+BiZxbDIQ/REn5ddPT03IHq9RdzHz5y2BvugnszEx4PVGEaLUi8I1vAFf22OYqBzCb5EJ0SrivCPvi4mK0tLTgta99bdLnsNvt4Hl+2zSR8vJyLC8vK3KdxP6BBCCx71CpVAiFQhgZGcHs7CyOHz+OysrKpM+RrgOYSB6hKIqYmZnB2NgYDh8+jNra2igRleo1KOUASgK6trYWra2te95Q0xKAAFQjI0BrK5ihIWBqSm5gEE0m8H/wB+BPngQfCkG9T2b+JgL3mtdAe/kyEFlmveIE8hcvpnTO4Be+APXvfhcuozNM+M+VknDg858HkFxZO97c4sj8OpPJhJL77kP1Sy+hcH4eqKgA9853QowQEgehC1ipJpBUkOKXlMgBjP13ftAn9BxUSAAS+w6GYTA1NQWVSoWOjo6UkvHT7eKVbgK73YQip4+cO3cOFotF/h7DMDkb5yY1gYyPj2NqaiopAZ3OuiqOCzcT2GxAcTEYtRrg+XBJUa9HaHMTL730Enw+nxx1slMcxn6Ce9/7oP6P/wA7Pg5WpQLD8+HX4JprwL397SmdUzh6FN5/+zcU/MVfgJ2aAgCI9fXwf+UrEF7zmvDfUxRk0txiKb9OGnfmcDjwQmsrxJYWWK1WFPM8bH6/3GVPTSCZxePxpBTCHklJSQlUKtU2t291dZVmDB9ASAASecduNxG73Q6n04mioiJcuHAh5U/jarVaEQG4054gj8eDrq4uaLVadHR0QKfTbXtMLuf5AsDCwkJS2YNAeg6gqNFAZBgwPT1geD7cAGKzASUlEGZmsPjYYzB94hNoamqCy+XC7OwsBgcH5aDj4uLibUHHSpHJJhCxrAz+Bx6A5oc/BP+f/wkOAN7zHgQ/9KHwXsAUEV73Ong7O4H19bC7GJN1qdRzSnRusc/ny+qUilwJwFw5gG63O+3ZwlqtFmfOnMFjjz2Gd73rXfLXH3vsMbzjHe9Q4jKJfQQJQGJfIIoixsfHMT09DbPZDIvFktYbcboOoPQmHO8cKysr6OvrQ21t7a5RNJmMctkJSZgCwPnz5xOOAolcN+USsEoFxukEMz0td64yCwsQ1Gq4qqpQrNejqrYWXEEBbDYbmpqaotynubk5MAwj700rLi5OKjsxl4iVlQj+1V9h9o//GJubmzh+/LhyJ49wlqPWzIAjt9vc4vX1dbhcLrjdbtm9TVew7EauSsC5dACVmAP86U9/GjfddBPOnj2L9vZ2fO9738Ps7CxuvfVWAMDtt9+OhYUFPPDAA/IxUpOd2+3G2toauru7odVqcfTo0bSvh8gdJACJvCcQCKC3txc+nw8XL17E4uJiWuINeHUfYapIgdSRIkwamzY7O4sTJ06goqJi13OkI0JTEY9ra2vo6elBVVUVPB5PSuIpVeEJADqXC+rBwXBzh0oV3gMnioDfD7MggC0rQzCm3BvpPgmCgM3NTTgcjqy6g0qSzZnDQOYbXCLnFnMch4KCAuh0OnlUnUajkcWgzWZTtIP2oDmA0hzgdF/TG2+8EQ6HA3feeSeWlpZw/PhxPPTQQ6ivrwcQzlKdnZ2NOubUqVPy/1++fBk/+clPUF9fj+np6bSuhcgtJACJvEbqnrVarTh16pScbRYMBtM6b7pNIEC0gAsGg+jp6YHf70d7e3tCpbB0xsklO893amoKExMTOHbsGMrLyzE7O5vS2qlOAgEA49wcGKcTKCmByPMIiCIEAAWiCI3dDr6+HkxBQbhBYoe1LRYLLBaL7A46HI4od1ASG8m4g/kuGlMlFxv7dTod6urqouYWS6POpGYS6fVJV7AfRAdQqTFwt912G2677ba437v//vu3fS3bH1yI7EACkMg7pDKjJFpaW1tRV1cn3yyUEG9KnUPqmOzu7obZbEZ7e3vCLkc29gBKjSjr6+s4f/48zGaz/Gaeap5fqjcDtdsNxuOBoNMhtLkJlmGgMxjABAKAXg/hxImkzqfT6VBVVYWqqqpt7uDQ0BCMRmPeuYPZFGXZvmnHNp1Ezi1uaWmB3++Hw+GQx51J5XzpT7x9ssmslw3ywQEkCKUgAUjkHcFgEF1dXXC73bJoiUSlUu06uSAR0nHfJFiWxfLyMubn59Hc3IyGhoakbu6ZFoBerxddXV1Qq9Vob2+Xb7DSNaYqAFO6ZpcLpokJMG43+PV1qPR6qFUqiHp9uBnkyBEgQuQny27u4OzsLFiWjeosjnUHr0aHI99y+QoKClBdXY3q6mpZsDudTszPz2NoaEiefVtcXJzQ3GJBELIeypzrLmAl9gAShAQJQCLvWF1dBQB0dHTELeOl28ELpO8A8jyPUCiEhYUFnD59GsXFxUmfI5N7AO12O3p6elBZWRk3IDvVUm7Kxz31FAoWF+E4dAi22VmoWBbgODBraxBraiC8852AzbZ93FiKxLqDGxsbcDgcmJmZkfcOSmIj2yIiW2RbACazXqRgP3TokDz71uFwbJtbLDWTxJKLIOhcl4DJASSU5Op85yP2NTU1NSgvL9/xzT3XJWBp9JwgCGhtbU1J/EnXkO4839ibriiKmJ6exvj4ONra2lBTU7Pj8dkqAQs8D+cjjyBgMEB76hTYuTlgbCwcYhwKQfzv/x3CH/xB1BpKwrIsrFYrrFYrAMR1B4Fw93Y8d1BpslkCzrYATFUcSbNvy8vLIYoi3G43nE4nVldXMTY2hoIrneHFxcWwWCxQq9VZd+MEQYAoijktAZMDSCgJCUAi75Dmxu6EUiXgVATg2toaent7UVlZCZVKlXYUTToCEIi+yfM8j/7+fjidzm3B07Gkupcv2RJwMBhEd1cXan0+qDUaaPR6iKdPQzx6FPB6wUxPQ3jd6+RxYtkg1h1cW1vDwMAApqent3UWK9F1GcnV1gUciVKOXLy5xevr63A4HBgbG4Pf74fZbEYoFIJWq82a0JV+76kETFwtkAAk9h25cABFUcTk5CQmJydx9OhRVFdX4/Lly2ntI1RCAEouiM/nQ1dXF1iW3TF4Wom1kykBb21tobOzEyaTCRVvexvW778foiTcCwqAjQ2IJSUQDx1K+jqUgmVZeY/phQsXohoVZmZmts3E3S+5g0Dum0CUQq1Wo6SkBCVXgq6lucVTU1OYn5+XnVvpT6Ymx0j/XnLpAFZXV+dkbeLqhAQgkXfs9Wk+23sAQ6EQent74Xa7oyZnKDFPOJ09gED4puRwONDd3Y2Kigq0tbUldBNOtZkjUedQmjFcX1+P5uZmMHV18D7+OIpGR8FYLOHSr04H8YYbgB3K1LkgtlFB2juYDXdQabLdJZstJ06aW7y2toaysjIUFhZGZUNK3d82mw0mk0mxn4H0bzVXrzntASSUhgQgse+QhFc6N5xExdvW1ha6urpgMBi2NaWk4+BJ15CuAzg7O4upqSkcOXIEtbW1SR2fagk43t5Dicj4HjkMm+cBhsHyW9+KQp8PuvV1wGCAeM01EI8dS/oalEZ6HrHPKXLvYHNzs+wOSs0kkTEnVqs1IXfwao6ByXZThhTJEru/0+l0wul0oq+vD6Ioys0kxcXF8tzidNYjAUhcLZAAJPYdKpUKoiimlckVeY6dHILFxUUMDAygsbERTU1N2974lXAA053nOzs7i7Nnz8o3wEyvHW/voQTP8xgYGIDT6ZTje5iXXwb78MNgFhbQsL4O9rWvhXDzzWnNwM0VO7mDU1NTcshxPrmD+dwFrNR6sf92d5pbvLy8jNHRUej1etkdTHacZC4jYADaA0goDwlAIu9IpAQMhAVHOgJQOkfsm7ogCBgeHsbS0hKuvfZalJaWxj1HuvOEUz3e7/fL83xPnjyZtPgD0msCAba7S5HXJGUOMl1dUH3zm8DSElBQAN3mJgr+7/8F6/NB+Iu/CI+D26ck4w4qPQItGbLtyGW7K3e39WLnFnMcJ7uDw8PDCIVCsFgssju419ziXEbAAOG9j8Z9+MGJyF9IABL7DulNOF3xJZ0jsnTn9/vliJf29vZdRy+lO0+YZdmkR9q5XC50dXWhtLQ05Xm+0tqp7gEEogXgxsYGOjs7UVxcjGPHjoXFtSiC/clPwHR2AgwDeDwwbW2BUanALi0BJhOEW27JKxGYjoMV6w5KXauSO2g2m2Gz2dIeYZgMV7sDmGzJWa1Wy3OLRVGUm0kcDgcmJyeh0WhkMRivpJ/LKSAA4Ha7FRsFRxAACUAiT9nNoWIYJu0oGJZlwTBMlIh0Op3o7u5GaWkpjh49uuebvUqlgt/vT/kakt0DODs7i5GRERw+fBi1tbWw2+1ZmSUcexzwagl6aWkJ/f390ZNQQiEwL7wA9pe/BLxeQKsF4/VCUKmgEkUwDgdUP/kJUFkJ4YYbUrr+fIZlWbkjFQB8Pp8sNBwOhyxaMu0O5kNJNpOk4zgyDAODwQCDwYDa2tqoucWRJf3IucW5dAAlwUoOIKEkJACJfYkSncDSOURRxMzMDMbGxmRxlciNU4kScCIiTBAEDA4OYnV1FWfOnJGFRcpj2ZB+CVgQBIyNjWFmZgYnT55EWVlZ+AGrq1B98Ytgn3gCzOJieLKHKAIqFVidDqJWC3AcRI0G7KOPQnjjG4Erroa0J5PjODAMI4v0XJbdlECv18vu4Pj4ODweD9RqNSYnJ2V3UCoXGwwGxURbLmJg9mvJObJkD4QrAZJol+YW6/V68DyPQCCQ9NxiJaA9gITSkAAk9iVKZAFKJdienh6sr6/vGZ4c7xoynQMYW5LW6/VJHZ/O2vGQbvD9/f3weDy4cOHCq67E5iZUH/wg2BdeADgu/EdCEKAKBIBgECgqglhTA8bpBNbWgPp6iKIInudll0X6e+T1Sn+UJpuihWEYFBQUoKWlBS0tLfD5fHLu4NTUVFQZMl13MN9Lskqsl6kPBwUFBVFh4VtbW5ienobH48Gzzz4rzy2Wmkmy8SHF4/GQA0goCglAIi/Zy6FSQgAyDIP+/n4UFhbKjQvJkK4DuNdzWF9fR1dXV/Teupj103EAUzlWKnmHQiG0t7e/GrrLcVB95jNgn3oKTLznFOEEijYboFaH9/+ZTLLzJ+2xksZ8RX5dFEW55L+f3cHY32m9Xo+amhrU1NSA53m5s1gJd5BKwMoghYUXFxeDYRi0tbXJ7uDg4CB4nofFYpFFeyb26YVCIQSDQYqBIRSFBCCxL0l3D+Dy8jL8fj/Ky8tx8uTJlG4kmXQA5+fnMTQ0hJaWFtTX18e9kafrACZbIpQaUADg+PHjURMXmKefBvuLX8QXf9JjRBEiz0M0GsGsrkJ4+9shWizgeV6+mUvPU3o9JNErCUHpT7bcwWwiTR2x2WxR7qDUTKLRaKJyBxNxB7OZOXhQBKdGo4maW+zxeOBwOLC2toaxsTHodDpZDCb6Ou2F2+0GABKAhKKQACT2JanuAZT2rs3NzaGwsBDl5eUp30QykQMYGUFz+vRpeU9Sosens/ZuSIL08OHDGBkZ2XajZ7//feDKTWo3GFEEpqfBv/714G64AUIc8bfT9UY2oEglYkl4KOEOZmvPXKIiKdYdlJoUJiYm4PP59nQHcxE6na31pN+BbArAeE0gDMOgqKgIRUVFqK+vB8/zcLlccDqdGB8fl+cWS2X9VPMhPR4PANAeQEJRSAASecleb5KpiK9AIICenh4EAgFcvHgRQ0NDaTt4SuYABgIBdHd3g+O4PSNopOMz3QQiCAJGRkawuLgoC9KxsbHodTkO7IsvIpHbmgiAcbvBvvgiVP/7f0P84AfBnj6d1E0xnjsoicF8dwdTFZmRTQqJuoO5EIDZ+jlnez0gsRgYlUoVNbc4co9n5GzpZOcWezweFBYW5jSGhrj6IAFI7EuSLQGvr6+ju7sbFosFp0+fhlqtTruMnG4JOPL4jY0NdHV1wWKx4OzZswm90WfaAQyFQujp6YHP54sSpLHikentBdbXE10YYFkIej3YmRlov/UthP72byFWVaX0PMKnjO8ORpaMpccxDLPNHcz1xI5UiOcOOhwO2R20WCwQBAEFBQVZEYLSzzibDiCQXQGYSgxM5OskTY9xOp1Rc4sld3C3ucWSANyPv6tE/pIfH4sJIkkSLQGLoojZ2Vm8/PLLqK+vx8mTJ+U9OUrs4VOiBLywsICXXnpJvr5EP+VnUgB6PB688MILYBhmmxsZJQBdLrB33gn4fAmtywgCRIYBSkshtrSAWV4G+/zzKT2HeLAsC5VKBa1Wi4KCAuh0OqjV6qjOYo7jEAqFZJGYbZS+iUvuYGtrKy5evIgLFy6gtLQUgUAAq6ureO655zA8PIy1tbW0PvDsRi5KwNlcT1ozHQdOmh7T1NSE8+fP4zWveQ1qamrg9/vR19eHp59+Gn19fVhYWIAv5t+TkhEw9957LxobG1FQUIAzZ87g6aef3vXxTz75JM6cOYOCggIcOnQI3/3udxW5DiL3kANI5CVKlIB5nsfg4CDW1tai8vOSOcde15COgGAYBqFQCMPDwzh16pRcNkqUVBo5Itfe6Vi73Y6enh7U1NSgtbV122sR2UGs+vSnoXr00XCXb4LwajU8BQUoEAQwLBuOg8kQu7mD0msviaJcT3pQisLCQhQWFsLr9QIIB047HA55T5rUsZrI+LNEyXZJdr84gLuh1Wq3zS12Op1Rc4ttNhsmJiYQCAQUyYj86U9/ik996lO49957cenSJdx33314y1vegsHBQdTV1W17/NTUFN761rfiIx/5CH70ox/h2WefxW233YbS0lK85z3vSetaiNxDApDYl6hUKgQCgR2/7/V60d3dDZZl0dHRgYKCgrjnUGIPXyoltmAwiMHBQQiCgNe85jUpRUek6wDGPvfIQOyjR4+iurp6x2NFUQTz9NNQ/eu/huNdEoVhIJhM8M3NYSsUQtHmJjYBaDc2YDKZMuroxNs7GAqFMDMzA61WC0EQEAwGMxozk+19eWq1Oirg2Ov1ynsHJycnodVqo/YOpiqAc1ECzva+zkyuGTm3uKGhARzHweVyYX5+Hp/85CfhdDphsVjw9a9/HW9+85vR1taW0s/661//Om655RZ8+MMfBgDcc889+M1vfoPvfOc7uOuuu7Y9/rvf/S7q6upwzz33AADa2trwyiuv4O///u9JAF4FkAAk9iW7ibe1tTX09vaisrISR44c2fFNO91ZvtLNMtmb+ubmJjo7O+VIh8hw52RQMgcwctrI2bNnYbVadz1WFEWo/vqvkxN/V9BsbKB8aAjw+8FZLFj1+9Hf2QmWZeUN9MXFxRkbkSYhCAIGBgYQCARw7tw5WQTmeyNJosT7vZTcwcjxZw6HA2NjY2m5g/t5Ckgya2bLIVar1SgtLUVpaSlGRkbwjW98Aw8++CD+67/+C//rf/0vFBcX48UXX0RVEntng8EgLl++jM997nNRX7/++uvx3HPPxT3m+eefx/XXXx/1tTe96U34wQ9+gFAolPIsciI/IAFI5CV73Uzi7QEURRETExOYmprCsWPH9nxzVGKWL5BcaWhxcREDAwM4dOgQqqur8cQTT6R881QqBzAYDKKrqws8z2+bNhIPSTwyvb3JLyyKYPx+iEYjxPp6sGYzml54AbWvfz2c1dWw2+2YmJhAX18frFarLAiVjr/w+/3o6uqCTqfDuXPnosRmpkOos92ZuxOx48/ScQev1hDoSHI1C5hlWRQUFKC1tRW//vWv4ff78eyzz6KysjKp89jtdvA8j/Ly8qivl5eXY3l5Oe4xy8vLcR/PcRzsdnvS10DkFyQAiX1JrAMYCoXQ29sLj8eDixcvJjQySYkSMBC+Mez1SVgURYyOjmJubg7XXnstSktLZfcx1ZuZEk0gW1tb6OzshNlsxvHjxxNy3VhRhOEb3wCTongWjUZAr4dw4QKg0YAdGID6mWdg+9M/hc1mQ2trK7xeL+x2O+x2O8bHx6HT6VBaWoqSkhJYrda0bsSbm5vo7u5GSUlJXIc4kzEz2ZzPm+wHi1h3UMqzGx0dRSAQ2NUdvJrGwO22Zq72iHo8HrliUFBQgDe+8Y0pnyvZvMh4j4/3dWL/QQKQ2JdEirfNzU10dXWhqKgI7e3tCZcllBCAiYxUk+YN+/1+tLe3y25WpIOYSrmTZdmUS9gMw8Dn8+GFF15AY2Mjmpqadn5DvxLezExMAF4vWn78Y1h+/etUFg2Pf1OrAb8/HB1TWgqxsBBYWop6aGFhIerq6lBXVwee5+FwOGC32zEwMACO42Cz2WR3MN7+zp1YW1tDX18fGhsb0dDQkNBNbLcQ6siYmXwbUZdOWTYyzy42dzCeO3i1TwEBcucAAsp0AZeUlEClUm1z+1ZXV7e5fBIVFRVxHy/tLSX2NyQAiX2JWq0Gx3FYWFjA4OAgDh06hEOHDiV1E1JinvBeUTCSw2Y0GtHe3h4l9KRrzdY0DwlRFOF0OrGxsYGTJ0+ioqJi5wdzHNj77wf76KNgNjeB6WmULS+DSeWaVSqAZcF4vRC1WrAvvQRGowEYBvx11+1ymAplZWUoKyuDKIpwu92w2+1YXFzE8PAwioqKZLFiNpt3/B2Ym5vD2NgYjh07tuMNby8SdQcj8wbjTY/IFkqsxTBMXHfQ4XBgdHRUnlErCAK8Xi/0en1WcgevpiaQvYh0AFNFq9XizJkzeOyxx/Cud71L/vpjjz2Gd7zjHXGPaW9vx69jPuw9+uijOHv2LO3/uwogAUjkJXvdQBiGgd/vx/DwsFxSTRYlBOBuUTDLy8uy2xTPYZMEglKNHInA8zz6+/vhcrlgNpt3F38A2N/+FuwvfgGxuBiiyQR2fBzqVPdNchxElgUTCoEJBsEEAuH4GJaF+le/Av+BDwAxUT2xMAwDo9EIo9GIxsZGBINB2R3s6uoCwzBRjSQajUYuv0vj9SwWS2rXH4dkQ6jzuQScKJHuoCiK8Hq9mJ+fh9vtxosvvgidToeSkhJ5Fm4myqbZLjkD4X87uSwBJxsTFY9Pf/rTuOmmm3D27Fm0t7fje9/7HmZnZ3HrrbcCAG6//XYsLCzggQceAADceuut+Na3voVPf/rT+MhHPoLnn38eP/jBD/Dggw+mfS1E7iEBSOw7/H6/PMYt1QgVIP0gZyC+iBRFEWNjY5iZmcE111yzq9uUzXm+UuMDwzBobm7G2transcwv/td2LkrLQXsdmBjI6GRbzueT7pejQbQ6SBqtYDJBGZ8HOof/QjcJz+Z1Pkis9SkSQt2ux1TU1Po7++H2WyWQ5/PnTuX0VmqO7mDkU0loVBI/p3JdKk4G2VZhmFgMBhQWloKl8uFc+fObXMHY/cOKgE5gKlx4403wuFw4M4778TS0hKOHz+Ohx56CPX19QCApaUlzM7Oyo9vbGzEQw89hL/4i7/At7/9bVRVVeH//J//QxEwVwkkAIl9hcPhQE9PD6xWK7a2tlKOUAEyUwKObEZpb2/f8007nWtIRgBubGygs7MTJSUlOHbsGJaXlxM6lnG5AOmm7fGA2dpK6VpjESsqAIMB4pUSMOPzQfXoo0kLwEikSQtWqxUtLS3Y2NhAb28vOI6DIAjo7OyMaiTJtJsT6Q7yPI/p6Wk4nU4cP348KzEzuXAb47mDkkM7Pj6OgoICWQxaLJa0cgcPUhOI1+tVRAACwG233Ybbbrst7vfuv//+bV973eteh87OTkXWJvILEoBEXhKv82x6ehrj4+M4cuQIysrKsLKyktabstIlYLfbjc7OThgMhoSbUbLhAErRM83NzXLjQ6LHiseOgXn4YcBoBPviiyldZzyY1VUIhw9Hf3FzE+q/+RswKysQjxwBf8MNEK84E8nidrvR29sLq9WKo0ePyvse7XY7hoaGEAwG5UaS0tLSpBpJkkUqQa+uruLcuXMoKiqKKhUrHTMTuW42g5njbXEwGAwwGAyoq6sDx3Fy7uDIyEha7mC2BaDk4O7nJhCCiIUEIJH3cByHvr4+bGxs4Ny5c7BYLLJwS2dfTrqj3IBXHcCVlRX09fWhrq4OLS0tCd94MykApVL07Ozstn2SCe1H8/vD83ofewzsf/xH2A1UikAg3AxSWAiEQmDcbmBpCeqf/zzcJfzMM1D9538i+NWvQjxxIqlTOxwO9Pb2oq6uLqoxSArWFUURHo8Hdrsdy8vLGBkZgcFgkMXgbo0kycLzPPr6+uD1enH+/HnZsY4UeJH7BZUOoc5m5mAi2Z1KuYPZFmPy6MMcOYButzuhaCuCSAYSgETewjAMtra20NXVhYKCAnR0dECr1QJ4db8Vx3Hy15JFcgDTcUpYlsXS0hKcTidOnDixZ1NFvOMzIQA5jkNvby/cbjcuXry4rXy017rMY49B9e1vg+ntBbO0lNLEj13heTAzM4DJFD43wwAWy6uOnyCAmZiA+r77EPqHfwh/PwEWFhYwPDyMtra2HYPAGYZBUVERioqK0NDQgFAoJAuR7u5uAOH5uZJYSbXbMRgMoru7GwzD4Ny5czueJ14jiRIh1Nl2AJMRZPHcQWnv4PDwMEKhEKxWK4qLi2Gz2ba5g9kWgJIoz4UDKH1gUWr/JEFIkAAk8pbl5WX09vaivr5+m6vGMEzcaSDJELlZP5VP9hzHwe12QxTFhMOn412D0nsAvV4vOjs7odPpcPHixbgCebcOYubyZajvuAMYHATj86V0bbshqlRAURGgUkFsbYVw4gRUjz4Ksabm1QexLMSSErC9vcDaGlBWtvs5r0yBmZubw6lTp2Dbo5s4Eo1Gg4qKClRUVEAURbmRZGZmBgMDAzCbzbIYLCoqSkhUeb1edHV1wWg04tixYwn/fikZQp3tucPprBU5+izSHVxbW8PY2Ng2dzBXDmCuSsBer5ccQEJxSAASeYkgCHt20aa7hy8yiDlZAejxeOSN0XV1dSm/OSs1zk3C6XSiq6trzznI2451u8E+8giYqSkwL74IjIykPOljLxiWhXDiBODzQTh+HPB6wSwugrHbIZaUQKytBaTmHobZ0/3jeR6Dg4NYX1+X99ilfG0MA4vFAovFgubmZvj9fnkiydTUFDQajSwGbTZb3N+bjY0NdHd3o6KiAq2trWkJo2RjZiLdwf0aOZOIO6jT6aDVauHz+dJqBEsUKQQ6V9MvaA8gkQlIABJ5CcuyuHDhwq43MSVHuSXD6uoqent7UVtbi0AgkPYNXqkS8NzcHIaHh3HkyBHU1tbGP2hhAczoKDQsC83yMrCwAPj90HzsY2AmJiACYOx2IMUJIwleOMTKSjBjY1A9+ijg9YbzAH0+MPPzYJxOCCdOgLHbwb/udcAu+WfSlBVBEHD+/HnodDpFL7WgoAA1NTWoqamBIAhwuVxYW1vDyMgIAoEArFar3Fms1+vlSSNNTU1ytIZSJBIzA7xaKs62A5gpdyzWHfR4PBgZGYHf78cLL7wAvV4vl4rT6SzejVw2gABhAUgOIKE0JACJvGWvRgVpGkg6509GRIqiiMnJSUxOTuL48eOorKzE4OBg2i5kuiVggeOw+MMfQv2b3+D3iouhffvbIVRVhfP7JDweqN/9brDPPgtwHIoBvJ5hwk5bQQEgCBDN5syLPwBCKATx8cfBBgJgAAhNTeEswIUFgOOArS0wg4MQr7kG3G237egASmXWoqIiHD9+PCuxLlIZUipTrq2tYWVlBSMjI9BqtQgEAmhsbNxZgCt8PTu5g8FgEIFAAIIggOM4+XGZEjHZCmaO3L9pNpvR0NCw497B4uJixdzBXEbABINBcBynWAwMQUiQACT2LUrFuCRyjshO5AsXLsBkMgFIz8FL93iWZcEHg9h617vQ+MQTYKSb+4MPQnjb28A98EA4cDkUgub8+fAs30hEMey+eb0AAGZ9PeXnkdR1CwJYuz38F4aBMD8PsaEBKp0ufA3r6xArKhD83vfCQdGrq+Eg6giB4XK50NPTg6qqqqS6rpUiskxZX1+P8fFxzM7Oori4GAsLC5ibm4tqJEm1USlRIt1BKYtSp9PBZrNlLGYmkmzP5hUEARqNJq476HA4sLq6irGxMdkdlPYOpnqNuZwD7Ha7AYAEIKE4JACJvGWvm7pKpUrLAZTOsZcAlJoqtFptVCeydHwgEEh5/aQFoCiGy6UqFfx+P8oefxwlTzwBRqV6db+cKIL9j/+A+kMfgtjQAObJJ7eLv3zgyrWqXC549HpwRiM0VisKOA5idTXUf/M3UL30EgBAOHECoU9+EuKpU1heXsbAwABaW1uz4rTthiAIGBoagtPpxIULF+SMv83NTdjtdszNzWFwcBAmk0kWg0ajMWOC1e/3o7OzE4WFhThx4oQcdZSpmBmJbI9mi1eSjXQH6+vrwXEcnE4nHA4HhoaGEAqFYLPZYLPZknYHc+kAut1ueR4zQSgJCUBi35INB9But8tO0+HDh7fddNIdJ5ewAPR6ofrKV6D6l38BNjcRPHYMS297G+qefTY8Xi1O2Zb9+c+Vj29RkivXxvA8ijY3ETKZwHm94EIhhPr7oe3sBG+1Qq1Wg33mGWjHxjD5pS9hRBBw8uRJRWajpoMUtRMIBHDu3Dk5TJphGJjNZpjNZjQ1NSEQCMiNJNPT01F5eDabDWq1Mm/DbrcbXV1dKC4ujmoAylTMTCTZ3G8IJLYnT61Wo6ysDGVlZWm7g7l0AKUGkFzuQSSuTkgAEvuWdGNggJ0FYOTkkaNHj6K6unrH49MtAe/5HAQB6ve/H+zjj4evjWGg7uzEub4++IqKgJ2Oz2fxF8vGBjRuNzQGA/jjx6GZnoa/uhqcIMDDcWBtNujn5yE8+CDOfu1rcgk+VwQCAXR1dUGj0eDs2bO7ZgXqdDpUV1ejurpabiSx2+0YGxuDz+eLaiRJ1eXZ2NhAV1cXampq0NTUtKMYi9dIooQ7mI8CMJLd3EFpH29k7mCsO5jrKSCFhYU560Amrl5IABJ5SyIl4EwIQGl6w/r6Os6fPw+z2bzj8ek6gNKerd1gnn4a7BNPACoVeJYFEwyCFQTA74c+Q1EtWUeng1hYCIZlwTidYF0uFHq9EIuKwBcXwy0I4FUqmCYn5ZnGpaWlKC4uVsxBSxSPx4Ouri6YzWYcO3YsKWEQ2Uhy+PBheL1e2O12rK2tYXR0FHq9XnYHrVZrQue22+3o7e1Fc3Mz6urqknouOzWSiKKYlDuYi1y+dNaLdQfdbjccDgdWVlYwOjqKwsJCuVQsTR7KVQmYImCITEECkNi3ZEIASp2larUa7e3te8aKKBFFs5eDKM3g5UURKo8nytm7KjwBhgE4DgzHhZsJxsbCXxdFMD4fGIcDmtpa6NVqaE6cwMmTJ2G32zExMYG+vj5YrVZZEBb19ED1ox+BHRiAWFEB/g/+APy73w0oJE7W19fR3d2N6upqNDc3p+3KFBYWoq6uTs67k+YV9/f3g+f5qEaSeL+LS0tLGBwcxLFjx5KeQhNLOiHU2XYAlWw6YRgGRqMRRqNRngwjdRZL7mBBQQEYhoHf78/o3Oh4uN1uGAwGcgAJxSEBSOxb1Gp1Wg0YQLSAczgc6O7u3jNEOfb4TJeAfVotDIEAVPuppJsMUmPL1lb4JqdWA2p12I1SqaAKhVC4vAyUlkJ4+9thtVphtVrR0tIiO2h2ux3rP/sZTvzwh2ACAaCoCKrVVbB9fWBmZsB95jNpX+bq6ir6+/vR0tKSkeaTWFdqa2sLdrsdCwsLGBoagtFolMWgyWTC7OwsJiYmcO2116K4uFjx60kmhHq/OYC7odFotrmD4+PjcLvdeP7551FYWBiVO5jp500OIJEpSAASeUs2SsAsy4LjOExPT2NsbAxtbW2oiRxJlsDxijmAHBcWPxGsrKyAf+IJFF2t4k9Cen6iCIgiuNJSYG0NKo4Lu5zBIEK33grhda+LOkx20KqrobnzTjAcB29FBTiOg1hQAL3bDdW//AtC73wnNE1NKV/e3NwcxsbGcPz4cZTtMZZOCRiGgclkgslkwqFDhxAMBmWhOzs7KwuypqamXbcoKMVuIdQ8z8PtdsNkMiEUCmUkZiaWbOYOGo1GmEwm6PV6NDU1bXMHI3MHM+EOkgAkMgUJQGLfopQAXFlZQSgUwrlz52CxWJK+hnQcQBXLovg//xOaD38YzNQUUF4O/tZbwd16K5Z+8Quo/uVf0PC736V8/n0Jz0N0ucAfPQo2EIC4sQFYreA+/OG4odDM3ByYwUGopqchlpbCUFQUFpE8j5BGA3ZhAcP/+q/wX3+9XCpOtKQmiiLGx8exsLCA06dPJ/37oRRarRZVVVWoqKjA4OAgHA4HSkpKsLS0hImJCVgslqhGkkyLI8kdlMbw8Twvf3CKVyqW/l8pcuE4qlSquO6gw+HA8vKyvHdQEoNms1mRa/R4PJQBSGQEEoDEviXdHECfz4fV1VUAQEdHR0qf3tN1AC0PPADbV78K5orzhZkZqP7qryB+6UuoCwTAZngqRz4iAlCHQlDxPGA0gtncBPe2twGxYcrLy9DcdRdUL7wQHiO3uAiYzRCbmgCGgVqthloUwej1aDtzBsuVlVhbW8Pk5CR0Op0sBndqthAEAYODg3C5XDh37lzOXRipOcnn8+HChQvy76vP58Pa2hrsdjvGx8cTem5KwHEcuru7IYpiVCd07Ii6TIRQZ1sA8jy/rdM73t5BqbN4YGAAPM9H5Q6m6g6SACQyBQlAIm/Zy8VIJwbG6XSiu7sbOp0OJpMp5TfntBxAnw/Wb38bTKzIE0Wor6T/HyRElgUjCGExHAgAMzOAxQLh2mvBffSj0Q/meWg/9zmwL74I0WYDSkvBOBxgVlfDpXQgvK9QFCE2NUF93XWoMRhQU1MDnuflZovBwUGEQqFtzRYcx6GnpwehUCgjM4aTJRQKobu7GwC2xc7o9Xq5kUR6bmtraxgYGADHcbDZbPJzU6pEGQwG5RickydPRnXIxu4dzEQIdT7uOdRoNCgvL0d5ebmi7iCVgIlMQQKQ2LekUgIWRRGzs7MYHR3F4cOHwXEcNjc3U76GpBxArxdYWgqPNTOZwAwNgd3YSHntVGEQdtnyDUYS0ipVuANYEBD64AfD84BjboDsK6+A7emBWFEBXMnOEw4fBvvKK+F5xtLNlWUhBoOAzyefQ6VSRY0Pc7vdWFtbk5stDAYDgsEg9Ho9zpw5s2vGXzbw+/3o6upCQUEBrrnmml3jSOI9N7vdjqWlJQwPD6OoqEgWg2azOaVSsTRtxGAw4MSJE7sKmUyFUOeqBJwou7mD/f39EARBdgaLi4t3/YDh8XhgNBqVeBoEEQUJQGLfkqwAFAQBAwMDWFtbw9mzZ2G1WjEzM5PeHr4rDuCuMRgcF57i8f3vA243oNOBf9/7wP/BH4RdqizCRPw3pyKQZeWGj23wPKDTAT4fNPfcA9Xjj4N773vBf+AD4dnGAJj5eSAYlMUfgLDAZhhApYJYXBwuGev1YBcXoX7gAXCf/vS2pSJv1IcOHZJnDKtUKrnrUyqn2my2rGfBeTwedHZ2wmazoa2tLenwY+m5NTY2IhgMwuFwwG63y26iJAaLi4sTErperxeXL1+GzWbD0aNHkxKQ6cTMxJLt2cPpTgKJdQe3trbgcDiwtLSEkZERGAwGWRDGuoMejweVlZVKPI0oXC4XPvnJT+JXv/oVAODtb387/uEf/mHXfa4///nPcd999+Hy5ctwOBzo6urCtddeq/i1EdmBBCCxb1Gr1QnvAZRcFCB6v1+6jSSRN7OdxIHqzjuh+od/CP9FowH8fqj+6Z/AzM6GhVAWRGC823ROReBez1mK9wkGwb74IrQvvwz+qacQ/Md/DLt6lZXhn6XPB1yZ2sCsr4fPq9cDZWVyw4ioVkP16KNxBWAkLpcL3d3dqKurw6FDhyCKojy1Y2RkBIFAIKqcmsws2VSQpnsolTmo1WpRWVmJyspKCIKAjY0N2O12TE1Nob+/H2azWW4kidck43a7cfnyZVRUVKC1tTXt60knhDrfHcDdiOzwbmxs3NEdVKlUMBgMGSsBv//978f8/DweeeQRAMBHP/pR3HTTTfj1r3+94zEejweXLl3CH/7hH+IjH/mI4tdEZBcSgETekmgMzF4htNKNvaSkBEePHo16I1ciyBnAzpMCXC6o/vEfw2JEEgwaDRAIgP3tbxEyGqHJQRlYIudOYCzxBLFOB4giVP/xH2CffhrC614H4fx5CEePgu3qglhaChQUhMUgANFsju4WFsU9g6BXVlYwMDCA1tZWuZuVYRi5RNfa2gqv14u1tTWsrKzIro0kmFItp+6Ew+FAT08PmpqaUF9fr9h5JViWjcpT9Pl8cszMxMQEtFpt1Lxit9uNzs5O1NfXo7GxUfEu40TdQWnd/eYA7sZO7uDPfvYz3HXXXaisrITP50NHRwfa29sVmXwzNDSERx55BC+88AIuXLgAAPj+97+P9vZ2jIyM4PDhw3GPu+mmmwAA09PTaV8DkXtIABJ5DcMwEHfIwEvEfZubm8Pw8DBaW1tRV1e37calpAMYD2ZiIixMYjpYRY0GotsNf01NTgVg3nNlSggKCsKl9N/9LpwFqFYj9NWvQvPFL4Lt6QHW1yGaTGD8/rBglAgGwQgCuLe8ZcclZmZmMDExgRMnTqC0tHSHy2BgMBhgMBjkPV0OhwNra2vo6uoCwzCKjadbXl7GwMAAjh49mpHSXzz0ej1qa2tRW1sLnudl53N4eBiBQACiKKKsrAyVlZVZyd/bLYR6a2sLQFiUcRwHhmGykjuYjfJ/pDv42c9+Fh/60IfwgQ98AB6PB+95z3sQDAZx22234ctf/nJa6zz//PMwm82y+AOAixcvwmw247nnnttRABJXFyQAiX2LdJPlOG7bm7MgCBgaGsLy8jJOnz6946SEdAWgdPPZ6RxiWVm4qYHn5ZBnQRAgBAJgVSrojhwBRkdTXj9RJAnNxPlaXhErpEUxLKBDIYDnwb78Mtjf/Q7C8eMQa2oQ/Md/BDM8DMblgtDQAM3dd0P1i1+Ep4oAEBkG/KlT4K44F9GnFjE6OoqlpSWcOXMmqUBljUaDiooKVFRURJVTI8fTRebyJcrs7CzGx8dx8uRJlJSUJHyckqhUqqh5xP39/SgrK0MgEMCzzz4Lg8EQ1UiSaScu0h3c2NhAf38/GhsbodVqZYcQUDZmJpZsl5wlysvL4ff78fnPfx7vfve7cfnyZVkAp8Py8nLcQPOysjIsLy+nfX5if0ACkNi37CS+AoEAurq6IAgCOjo6dt2rpdQ84SgH0G4H09kJaLUQ29shvPGNYB99FPD7ITBM2E0QBKCtDfx110H8j/94tQM2C4jYZzOEBSHc8MEwYJ9/Hrobb4RYXQ3+hhsQ+v/+P4htbbKYDX31q/LPm/H7wV+6BP6d7wRiuigFQUB/fz82Nzdx/vz5pERaLLHl1MjxdFL8hySYdhodJooiJiYmMD8/n9PA6UgWFxcxNDSEEydOyGJBcj7tdjt6enogimJUI4k2NqtRQaStHE1NTairqwOw3R1UKmYmlh23eGQYURTh9XphMBjAsizOnTu36+PvuOMO/O///b93fczLL78MIP4Wm2zPdCZyCwlAIq/ZrQTMMMw2Abe+vo6uri7YbDYcP358zzdtpQQgz/PhfWr33gv2W98Cs7kZblaoqgJ/441gn3gC2NgAC4AFALMZ3B//MYSODgSsVhQ4HGldQ6KIMf/NR3YUqNKcYEEA1teh+ulPAY8Hoa9//dXHqFTg3/pW8G99647n56amMPeLX6BQpcKR978f2jTEXzzk8XR1deA4Ts7l6+vrgyAIKC4ulkvFkos1NDQEh8OBs2fP5kXorzT6LnbOcKTzKYqi7HzOzMxgYGAAJpNJdj6LiooUExNSbmfkHk1g9xF1SoZQ58oBBMLNN4nGwPzZn/0Z/uiP/mjXxzQ0NKC3txcrKyvbvre2toby8vKUrpPYf5AAJPY1kdNA5ufnMTQ0hObmZjQ0NCR081FqnBzP82B//WuovvpViAwDsaQE4Hkws7NQ33EHQjodRIsFWrc7XA7e3ITqb/8W+uJi+OkTd1gsX5n6IRYVIaTTgfV6ofL5wmJQioy5IgAZnodgNocjYiYnIR46tPcaggDcfTfYH/wAzT4fNFotxJ/9DKEvfAHCm96UkaelVqujRodtbm5ibW0tSjBxHAdBEHD27NmMdxbvhSiKmJqawszMzJ5OJMMwsFgssFgsaG5uht/vl53PqakpqNXqKHcwVQfNbrejt7cXR44cQVVV1a6PzVQIdSabQPYimUkg0s97L9rb27GxsYGXXnoJ58+fBwC8+OKL2NjYQEdHR1rXS+wfSAAS+xq1Wo1QKITBwUEsLS3h1KlTSe2dUqlU8j6iVN/gpRIw+y//Em5YkD5Bq1QQNBqwoRDEoiJofb6w+APCQcdOJxinE8r6T/sUQZBdU8Zqhbq8HOzQUHROoCgCm5vhiSHBINiZmbDr+otfgH/LW8BsbEBoaQF2eP2D//Zv0H7nO1BrtVA3NITLXSsr0P6v/4VAayvExsaMPkWGYWA2m2E2m9Hc3IytrS309vYiGAxCEARcvnw5KyPcdkIURYyNjWFpaQlnz55NOny4oKAANTU1qKmpgSAIcLlcWFtbw+joKAKBAKxWq/z8EhW6q6ur6Ovrw7Fjx1BRUZHU9SgVQi0dl6sScCZGwbW1teHNb34zPvKRj+C+++4DEI6B+e///b9HNYAcOXIEd911F971rncBCDuxs7OzWFxcBACMjIwAgOwKE/sLEoDEvoZhGIyOjoJhGLS3tye9l0t6U0/nE77kIjKzsxAj9kDxHAfB74cWgNbvl2NKiB0QxbBrareDWVvb8efFSHsCg0EAgOaOO6C5+26IRUWA0Qju/e8H96lPhZtvruB0OsH+8IcoBKCKcJHEykow8/NQPfQQuI9/PJPPLopAIID+/n7o9XpcvHhRvka73S6PcIsdT5dJIsvQ586dS2tPJBAWX1KEjrSPzW63y4IwkX2RUjd05B7EdK4HSC2EWtrfmwsH0O/3QxCEjGwL+PGPf4xPfvKTuP766wGEg6C/9a1vRT1mZGQEGxEpBb/61a/wP/7H/5D/LpWbv/jFL+KOO+5Q/BqJzEICkMhrdivjbmxswOv1wmg04ty5cylFb0Tm+KU68otl2bCr0NYGdn4eYigEfn0dot8PDceFhY3Xm9K5DyJiIAAmmbK8IACbmwiYzVD7fFB/97uAxQLullsAAEtLSxgcHMQb/X6oCwuj9z+yLMAwYLK0BxMIT9Po7OyExWLB0aNH5d9BaYTbkSNHto2nMxqN8t46o9Go6EZ9qSHG7Xbj3Llzis0LloiM0KmvrwfHcXIjSeS+SEkQarVaLC4uYnh4OGPd0LvFzEh/pMdJTmEuHECPxwMAGRGANpsNP/rRj3Z9TOz+6w996EP40Ic+pPi1ELmBBCCxL1lcXMTAwAD0ej2qqqpSzl2TSj/pZgHyPA/+Qx8C+/DDYMbHod6hcYXYm1SljdbhQFCvBx8KIfjd72LpDW+An+MwNzeHa6+9FprTp4Ff/UouKzNOJ+BwgPF6wQwOgpmZgZiB0OVINjc30dXVhcrKSrS0tMQVcrHj6YLBoOyeTU9Py3vrlBhPx/M8enp6EAwGcfbs2Yx28Uqo1eqo4OPNzU3Y7XbMzc1hYGAABQUFCAQCOHz48I7xTUqyVyOJ98qHt8gw6my5gW63GyzL5nxvKHF1QgKQ2FcIgoDR0VHMz8/j2muvxcLCQlqzfIHwDSndaSA8z4OfngYTDJL4S5dUXgtRBOv1oiAYBEQRmtlZrD3xBHxqNXT19XC5XCh417tQ/OST4RF8wWB4z6EgAGp1eNzcH/8xgv/0TxBbWpR/TgiXeHt6etDY2IiGhoaEj9NqtaiqqkJVVZW8ty7eeLrS0tKk3LtQKCTPBD5z5kzKDng6RO6LbGpqwsTEBKanp2GxWDA2NobJyckosavEFIy9iHQHt7a2MDg4KIfIxysVS/+fCaQIGIpmITIBCUAir4l84wsGg+jp6UEgEEB7ezsMBgOWl5cV6+JNFZVKBa/bDe7LX4bO70/rWog0UKnCXcKBAFiPB+f/6q/AmkwIVVdj+sYbMaxSoebIEVS88goK1tbCncc2G1BZCZHnwYyOQvuBD4D/wAfAv/OdirqBKysr6O/vR1tb256drLsRubcunfF0wWAQnZ2d0Ol0uOaaa3JS3oxlamoKc3NzOHv2LMxmMwRBwPr6OtbW1jA2Ngafzyc3kkjzijOJNP6uuroaTU1NYK5keGYiZma3ayABSGQKEoDEvkAqnZlMJpw6dUp2AiJjYFIl3SiYQCCAjcFBnFxZefWNmmG2T7UgMgvHhd3DKw6smuMAvR66yUkcueMOiDpdeE+T1wtRFOGzWCCUlEDr8UC7sACEQuGpIvfcA/WPf4zgP/wDhIhRWTvC88DGBlBUtG3kH/Bqpt4111yz46i5VEh1PJ3f78fly5dhNBpx/PjxnMWbSESGYJ85c0buPmZZFjabDTabDYcPH44K2B4bG4Ner4+aWKK08Lp8+XKU+JOuKRMxMzvh8XgyLnSJgwsJQCLvWVpaQn9/Pw4dOoRDhw5FfRpWSgCmUkYWRRHj4+NwuVxodTjAsGzYheK4zIs/liWBGQ+p/M6yYFgWYmFhuJvYbg93Dx86FP7/5WUUrq8jqNdDtbYGkePCol2jAV9eDtXqKjR33onAr38d/lnHQxCg+vGPob7/fjArKxBNJvB/9Efgbr01PAVGFDE5OYnZ2dmsTPdIZDydyWTC4uIiSktL0dbWlnNnKTZ6Zrdmh3gB25nompbEX01NDZqamnZ8XLxOYaXdQUkA5vp1Iq5OSAASeY3U7HHy5Mm4URBqtRqBQCCtNVJxADmOQ19fHzY3N1FVVQXtxIQcZBzpQiWCqFK9+gYvCIkJOyVvCAyT1PXuCwQhHAsDhF8Thgm/LgwD6HTh5xsKQTs//2rAtCgiVFQEr88HlU4H7cgINp57DkXt7XFLpOof/ADqv/u78F8KC8E4HFDfcw+YtTUE77wTw8PDWFtbw7lz57I+3SPeeLqFhQXMzMxAFEW4XC6MjY3tGsOSaURRxPDwMOx2e9LRM7EB21tbW7Db7XLXdFFRkVwKN5lMCQsot9uNV155BbW1tbuKv1hi9wIq5Q6SA0hkEhKARF5TXl4u7/eLh6Kj3BLE5/Ohs7MTarUa7e3tmJmZwebRo0BNDcTFRTDr68BuewHV6lcbHVQqiGo1RLUaLMMAgQBEtRqM1wtoNK86ihGiUiwsBOPz7SjcRIMh/P0EhKRYWAjo9eGOWPmLeSAGlXA4g0EgEAj//IBweZbnwaysvPqzk/6EQkBhIVRVVTCq1eDdbojBIKbGxuAMBmGz2WRBodPpAI8H6h/8IHydUlnXaAyPqPv5zzF86RKcV+KJ8qGDMxgMYn5+Hk1NTaitrd0WwyI5ZyUlJVlpBhFFEYODg3C5XGlPQGEYBiaTCSaTKapr2m63Y3Z2Vt43KTWS7PT8tra2cPny5aTFXzx2ipkRRTEpd1DaA0gQmYAEIJHXqNXqXd8As70H0OVyoaurC+Xl5WhrawPLsuEmEKsV/Cc+AdXddwMez84CkGXDe8Xc7vDf1WowHBfOphMEiFptuFSpUoUfK4rbhBATDL4achz73K/MyxVaWsBeSenfDYbnIbS2AuPj4fDlfEGB8jbjdIb35l0Re6LFEv57KBQWg1cmtDAeD8DzEHU62QlUb25CrK/Hyfe/H+5gMCqTz2QyoWZ9HY1OJ2A0RsXWiEVF4BcXoR4dxblbb81KrMpeOBwO9PT0oKWlBbW1tQCwLYYlcjyd2WyWxW4myo+CIGBgYABbW1s4e/as4rmDsV3TsaVwi8US1UjCMIws/urq6nAokbGCSZBOCHUmpoAQhAQJQCKv2evmk26EC5C4AJRmDbe2tsqxEMCrXcTC+94HsaUF6ltvBTM3F3bt/P7tIs3tBjQaCO95DzAxAXR1hUWgVguYTBCs1nAwsccDxu1+1ZG7MmOY2diILjMzTFTTCbO1FT6fXh92AndCcijOnYPwh38I7V/+Zfgc+eAAKoUkJAsKALcbTKSbajBAbG4G1tfBzMyA2doCVlfDAtFgQOgv/xKMTgejTidn8gUCAdjtdqxvbMDPccDGBhiEfw9ZloV/cxMalQrN58+DyQPxJ3UfHz16FJWVldu+HzueTprnu7a2homJCeh0OkXH0wmCgL6+Pni93qzkDsaWwn0+37bnZzabsba2hvr6esXF307XlGgI9dbWFjmARMYgAUjsa7JRAhZFESMjI1hYWMDp06e3hdNGHi+ePQvhD/8Q7AMPQGxoAJzO8Mxaj0d2nsSSEvCf/jT4W2+FEAph9cknsf7EE2BDIWgbG6F/7WtR9Xd/B9V//VdY2LFs+I/JBLGpCVheDrt1HBcucUZ2Hut08pg0Zi8hp1JBNJuh+s//BPcv/wLRZtvVBRQZZu9z5hMME/6ZSa7oa18L1VNPhYV0cTHEysrwz6C4GFhfB8xmiIcOQWhtBf9HfwThzJltp9TpdKiurkZ1dTXU118P1UMPIeh2gwsGAZ6HJhQCd/w4Qtdei1zLP2maRjLdx5HzfHmeV7TRgud59Pb2IhAI4MyZMzlxR/V6PWpra1FbWwue57GwsICxsTGwLIvp6WlsbW3Jz09pZzIeu4VQC4KAhx9+OCvZh8TBhH6ziH1NpkvAoVAIPT098Pl8uHjxYtxP47FdxMK73w32kUfATE9DLC2F0NwMZnERMJnAf+YzEG64AaLRGC4DsSxKfu/3UPqGN2BzcxOrq6uYX1tD/7vfjfNOJ4qffRYwGACLBWJJSbj0q9VCrK4OO1erq2GX64rIgSiGH6PR7L4PEQg7YVotsLUFdmYGYkvLrgJwX4k/Cb8fsFrBBIMIfeELCLEsdO9/PyDteeT5cKm4qAihr3wF/OtfD/X3vw/Nn/85mK0tCBcuIPSnfwrx1Kltp+a++EWoXngBBRMTr+7P1Ggw39qKgWeeyXgpdTdmZ2cxPj6Oa6+9FjabLaVzqFQqxcbT8TyP7u5u8Dyfs9DpWDweDyYnJ9HU1IT6+nq43W7Y7XYsLS1heHg44UxFJZHcQUEQ8NnPfhZ2u33PcW0EkSokAIm8Jlsl4FAotO3rHo8HnZ2d0Ov1uHjx4o43rdggabGlBdzXvgbVt74FZmQk7Dhdfz34T34S4pEj8t4fQRDkDeAA5FJcS0sLPB4P3ByHoqEhBHQ6wGCAhuOgEUWoPR7w7343hEOHoP3CF8LOoiCEXUKNBqJGA+HECaiefHL3Jy4IYJaXwy6YxxMWQldbR3AwCHg8EK1WgOOgevJJCCdPgn3++bDYFUXAbAb3kY+Af9OboL3lFqgefxyiSgWoVGAfegi6559H8J//GcLp01GnZru7wzOITSawOh3UOh0QCqHxt79Fyfveh5XKyqhSoySmMtl1K0XPzM3N4cyZMzCbzYqcN53xdBzHybmEp0+fzgtHa3NzE5cvX46ayiI9v8bGRgSDQblRRpqWEul+ZlLACoKAz3/+8/h//+//4cknn0RLhibTEETu/yUSRBooVQL2x7hlDocD3d3dqK6uxuHDh3cVovFyBMWzZ8H98IfA4mLYkSsvDwvBiP0+keIvFoPBAMM73wn1M89A+9BDEBwOhBgGvM8Hb1kZlt7wBliam1H2s5+BmZwM73Fj2bDjZTZDuO66cLlzLzF3pclE1dsbvk6dbm/ncL8gzfzd2oLQ1ATdzTeHm0CufE8sKQH3p38K/i1vAUpLwT7+ONinnoJoNAJSV6ooAqurUH/rWwj+0z9FnZ77yU/A+P1AZSXUkiAQxXDG4KOPoubOO+VS6npfH9YnJ9E/P4/il19G0+9+h6LlZTDNzRD+5E/Av+1taUf7iKKI0dFRLC8v75mply6JjqezWCwYHByERqPByZMn82LiyMbGBjo7O3cdyafValFZWYnKykqIooiNjQ1Z7EqNMpLgVdLdFUURX/rSl/Dggw/i8ccfJ/FHZBQSgETew1wRTvGQBKAoiim/CUft4RNFzM7OYnR0FEePHkV1dfWex+84So5hgIjjIzd57yb+Ik6M0F13QXXttVD9539Ct7kJ7sIFuN/6VmwVFmJqdhaGP/kTHPt//w/moSGoGAbCyZPg/vzPofrJT2RHcFdBdyUbT/WrX4H/vd+DanExLGoySQ5cRravD2JhYXgPpSAAGg2YpSWonn0W/M03hx/T2QmG5yFGRpIwDFBQAPbFF191WRFuCLJMTcGm1YKNdIOk19RuD/91eBj6229H0SuvoEYUcaywEOLWFkSGAa9SAc8+C+all7DxyU9C/fGPp7zhXxAEDA0NweVyJZ2ply47jaeTSqlqtRo1NTVwu91JZfJlAkn8HTp0CPUJjvpjGAYWiwUWiwUtLS1RjTKTk5PQarWyMxjrfiaDKIr4u7/7O/zgBz/A7373O7S1taV0HoJIFBKAxL5GerPleT7l0pLcxXvlJrqysoKzZ8/CarUmfA27TRKRsr94ng83Cvz851D/4hdglpYgHD0K/gMfgPCa18Q/WKcDf/PNskgBANuVP9Ks1LkzZ9A/OgrO64WhtRWl5eWoMRrD/7g1mrDIi1PiBiALFmZpCd4zZyC8+CKMHg9UwWD856LTgUkneFvanxgKvZqFmA5SVM5OglKlCgs3ngfj8YAZHAx/Xa2GaDKFhd3yMlBREd5rCYTPFSlSeD78vSsfRKampjAzM4PrrrsOqp/8BGKEMJSek3jiBOBwQPe+94FZXIR4paGAWVwEA0CsqQFbWBj+vXE4YPmnf8LvjhyB9kpeXWlpKcxmc0KlYqmz1uPxZCRWJRmk8XRqtVqeOFJWVgaHw4HOzk6wLCuLpcjxdNlAEn9NTU2oq6tL+TyxjTKS+zk8PIzglcxI6Tkmmm8oiiK+8Y1v4Nvf/jZ++9vf4sSJEylfH0EkCglAYl8j3UDSEYBqtRqhUAgvv/wyOI5De3t7UsG0u5WhIwNgAUD7f/4P1PffH/6eXg/Vk09Cdfkygl/6EoTrr0/quiNnpYqtrfIm/dnZWUwfP47XazRgvV5AqwUTKwAjo2MYBqJGA8djjyFw990wfeYzwOjo9vgaAEwgEA6a9niSulbZ9bsy6USoqQE7P5+WCBRZFoJavaNYBRCdJyj9vyAAXm84bHt9HarnngP/7neDf/Obof7mN8MNIjZb+JoDATChEELvfjdEACMjI/IHBE1tLcTHHgsLyKKicPnX44FQXw/u3e+G+t//HczSEkSTCVCpooQz43JBLCwMCzyLBQWbm3i9xYLV5mbY7Xb09PQAQJRYirfvTGqu4DguK7EqiSDNGjabzTh69CjY/7+9845vqmzf+HUyuvemjFJKaUtb6GAVZLwKhbJa1BcURXGg/lyAG0UFfQXBAYKUpYIDAaUFRJEhCAhltk3pokChLV1JZ9KZdZ7fH+Ecki46krbY5/v59KM9OTk5JwnNlfu57+sSCJr15HN0dOQHLUxZtTSW+GuIUCjkXyM/Pz/U1NSgtLQUUqkUWVlZsLKyMhgkaUrQE0Lw9ddf44svvsCRI0cQEhJitPOjUFqCCkBKt6elJWBuKbUjfYBKpRIKhQJubm4IDw9vs5Bsbgm44bCHID8fwl9/1S0xurjo9nF2BnPrFkSbN0P1wAN3DJ7bSMMm/fqQEJRfvw7nDRuaX9K9/ZyyZmaot7SEq1IJ4bhxgJMTiJubbkhC32+Qq4y5uOjyddti1iwS6ap+t1M3BDIZWD8/aO+7D+JvvmmX8TPDsi2LP71r5OH25wSpUgnx//4H4uUF1scH2smTIfr1V13vplgMIhBAO3w4WBcXlL/2GkROThjxf/8HS1tbEFtbKL/9FuIvv4Tg0iWAYaCdOhXq118H3Nx0A0AA/5oShtEtf95+XB6tFhAIILC1NTBo5vrObty4gbS0NF4subq6wtLSEmq1GsnJyRAIBO1635qCuro6XLp0Cc7Ozo2yhpuKp+OWUq9evQorKyu+r6611c/WUFlZieTkZAwcOJA3wjYFDMPAxsYGNjY26N+/P9RqNT9IkpKSAkIIn0ji7OwMs9t50Vu3bsXKlSvx559/Yvjw4SY7PwqlIQxp7pOVQukmqNXqFpdY//rrL4wYMQJ2dnZtPrZMJoNEIoFQKMT999/frv6k+vp6nDhxApMnT+bv39Swh+DPP2H2+usg/frdWTIEgKoqMPX1UMbHgxj7AyotDcKNG8H89RcEcjlUYjHMKyvBMAwYloXWygqK3r1hV10N9sknoVm6FOJ33oHo++91vYPm5vwSKtRqw3SS5l4Tkcjw9oaxbpaWOiNsf38of/sNlr6+QFWVca+7tYhEIPb2YEeOhCAvD5BK+WslvXpBM28eRD/8AFJQAMIwEDEMSN++UO7YAeLnd+c4cjmYggKIvv8ewqNHAYEAxMkJgpQUXQIJt9QulepEqKWl7n3AsmBKSnTPxZEjzX4B0BdLFRUVvAC0trZGaGhotxB/NTU1SExMhJub210Hpxqi0Wh4sVRaWmq0eLrOEn93Qz9xpbS0FLt27UJCQgL8/Pxw6NAhHDx4EOPHj++y86P0TLr+rwaF0kHaYwXD9XJlZ2djwIAByM/Pb3dzOlep4Jahmx32sLS8k+2rv1Sn0YAIhYbDB8YiKAjaDRsAqRRm77wDiwsXdGKLZaG2skKtiwus5HJoXVygnjULAgCaxx6DMC5Ot8yr0dyplllY6Cp/nNl0S8McnOgTCO4sN3PiRiQCcXeH4MYNiL75xlAMdzZaLZjKSggPHQKxtwc8PXXnWV8PpqwM4vXrwVZVQWNtDTNLSxCNBsytWzBbuBDKP/+80ytYWwuzF17Q+Sne7sETFBbqlpArKnTHZhhdDyX3nJaUgCEExN0d6s8+a7H6a2VlhX79+qFfv358bJlQKER1dTVOnz7NLzN2dl8dR3V1NRITE+Hp6YmBAwe2+d+SSCQyejxdZWUlkpKSDCLwuoqGiSu9evXijZ5ZlsXjjz+OqVOnYu7cuVQIUjoNKgAp3Z67/bFvqxWMVqtFWloaKioqMGLECABAbm5uu89PfxBFfzm44aQvO2IESJ8+YPLyQPr00X3gq1RgKiuhnTqVXxY2Ce7uUH37LZiUFJBTp1AfHw8zmQxWYjHqBgzA1ZkzUVRUBCelEm5ubvD8+GNYv/YacLuHkLi46ERRXR2InZ3OM5Cr9DXsL9TvHeQqf2LxHfFrbq77nWHA3LqlE0W3RSUhBO2T4e2EGxJhWV3EnlIJmJuDODmBCIUQlJSAdXCAGSfORSIQS0sI0tLAZGSABAbqNu/apXtd3d11olIq1T13t58LprJSJ/osLaF+5hmgf3/dtfftC010NODm1qrTramp4bOo/W97SnJLxdevX0dqaiqcnJx4sdSWXtb2olAokJSUhL59+2LAgAEdnvI1Rjwdl9k9aNAg9OnTp0PnY2wIITh//jx27dqFuLg4TJgwAadOncIff/wBiURCBSCl06ACkHLP05Y0kPr6eiQnJwMAIiIiYG5ujurq6haXmO8G9wGkVqv5/2e4fi99rKyg/vBDiJcs0WUF366MscHB0Lz+ersfvw0niho/PyTX1sJm/HgE29tDyzAQ9+uHQIEA3rW1kMlkOvsOFxcMfOUVDNi1C+LaWjBcHJ25OeDsrIu2q6+/09t3NzQaXbVQINBVwzQa3TBIeDiYf/4BW1cHoUAAgVLZrn7A9kIIAaM/HFJXpxO6CgU0lpYQABAJhbprFInuJK4olWAUCnD1T8GFC/zyOJObe6dCyrUE2NhAs3AhtP/9L1BbC8H58yBDh0L7wAOAg0OrzpUTWn369IGPjw//HuP66gYNGtRoCIFLs3B1dTWJBQu3xNqSp15HaWs8XXcWfwCwb98+vPTSS9i9ezcmT54MAJg0aRImTZrUxWdG6WlQAUi552ltBZCbBHR2dkZgYCBfuTOGl6BAIIBUKkXv3r1b7FdiR42C8pdfIDx6FExZGciAAdD+5z9AJ/i2VVZWQiKRoFevXhg0aJBuuEbvdisrK/Tv3x/9+/eHSqVCSUAA0oYNg+DUKZgDMPf1hdfnn0NYUgLi6qpLEeGGGfSnirnfAd1St0p1R/y5uen+v6wMbJ8+KB8/HkU3biBo2zYwajWIpaWuEmcMi5hWwDR8HC57WauFuKZGV6UsK7uzhG1jA8KyILa2YAcPvnM/OzvdtcvluusVCu8skVtbg9FowOTmQvT11xDt3MlnOBMHB6hXr4Z2+vQWz7OiogISieSuQsva2hrW1tbw8vKCWq3mK2f6FizcEEJHTZk5oTVw4ECjTta2xN3i6aysrFBbWwtvb+9WeXh2Nr///juee+45/PTTT5h+l9ecQjE1dAiE0u3RaDQtCrzExES4urq2+CFUVFSEtLQ0DBw4EP379zcQeiqVCsePH8ekSZPa/KHIDXvcunULBQUFqKmp4ZfgXF1du9STTZ/i4mJkZGS0qx9Kq9WirKwMJSUlYP/6C/7ffAOrykoICAFz296EWFkB5ua6zGOhUCeiNBpdZrFGo+s7tLcHU1ur63ccOBDF772HZK0Wvr6+8Lp1C8IdOyDIzgbr4gLhwYMd8xtsLwyjm9a9LWSJUHinQgjoBJ2lJdRLl0KzaBG/WXjgAMSLFun6Jmtr7yyPEwLSqxc/+MFUVoKIxTpfwdvLzsTaGsqjR0GaEXalpaW4fPlyhypanGdkSUkJSkpK+LQObqm4re/TsrIypKSkdKsqm1QqRWpqKmxsbFBbW9tiPF1XcOjQIcybNw/btm3D7Nmzu/RcKBSACkDKPYBWq21xiVcikcDe3h7e3t6NbiOE4Pr168jNzcXQoUPh6ura5PGPHj2K+++/v00+ak0Ne3ApCDKZDHK5HHZ2drwZbntTHjoCIQQ5OTm4efMmgoODm7z+tsCyLBRFRag7fBjVUilK+vWDb3IyesfFATY2EObn36kEikRgBw4EI5WCnTABqpUrIUhLA+ztkePigus3byIoKAhuTfS/mc2aBeGRIx0613bDLXdrNKh3dATDMDCrruarhaRfP9SnpBgObbAsxMuXQ7R5M1BdzVcSiYMD4OICRibjl5uJk9Od+xECpqIC6jffhGbx4kanUlxcjPT0dAQGBsLDw8Mol0cI4ZeKS0pKIJfLYWNjw39psbW1bbESXlJSgsuXL2Pw4MHo1auXUc6po5SXl0MikcDf379RPJ0xBG9HOX78OB555BFs2rQJjz32WJemoVAoHHQJmHLP01wPoEajQWpqKqqqqjBq1Khms1H1p3hbg0GyBwyHPaysrODl5QUvLy+oVCrIZDK+ed3Kygpubm4m68dqCMuyuHLlCkpLSzF8+HDY2tp2+JgCgQAOvXvD4emnQQhBr5oalA4ditLr12EnkcBMINB58wkEumERqRRwcIDmpZcADw9o3d1x/fp1FOTmIiwsDA76/W+EgMnLA1gW2ocfhvD0ad1SacOeQCsrXZXNVN9dby9XQyCAmZsbWEKgdHCARqOBoK4OotpaFF+5AmcnJ4gdHHTT3QIB1MuWQRsUBPOFC0E0Gt1Qj4UFUFUFcntJmDS15AzoPBcbkJ+fj6tXr2LIkCEdFu6GD2noV6dSqXihlJub22LlTCqVIi0tDUFBQXB3dzfaOXUErhrJiT+gcTwdJ3i5eDobGxv+Gk39b/HUqVN49NFHsX79eir+KN0KWgGkdHvuVgHMzMwEwzDw9/fnt9XV1SEpKQlisRghISF3rewdPXoUERERzYpEDn1/P64JvzV/0DmfM5lMhtLSUgiFQl4MNjfJ2BHUajUuX74MlUqF0NBQ01c8WBaaU6dQl5AAkpwMcU4OzJRKqEJDQZ57DpajR4MQgvT0dMjlcoSGhhpURJnkZIhXroTgdlQbO2AAGJUKTGoqb2RNxGKw990HzZNPwuyll3Tb25pI0lpuD7wQe3vdcu3t9w8pK4NWKESNqyvMCwsBCwvUTp4MZskSWN6uhgl37IB4xQowCoXuPhYW0M6dCyY7G8K//gJxdr7TI6nRgJHLofrsM2gff5x/eK5qGxIS0upIQmPAVc64pWKVSsWbF2u1Wly/ft0olWRj0ZT4uxtcbyT3Y8p4urNnz2LWrFlYvXo1nn/+eSr+KN0KKgAp3R6WZaFuYdL06tWrUKvVCLxtycE1p3t4eMDf379V4ur48eMIDw+Hvb19s/s0FH/tFW0sy6K8vJyvDrIsyy8TG6M5v66uDhKJBObm5hgyZEiX+MJxKQic4OXOQSgUIiwszMCehMnNhfmcOUBJiW7JFLdtU+ztoZk7F4L0dIAQaO+/H9qHHgKsrGD26KMQnjmjW269WxpIe+EsYgQCwM4OxMpKN6By28ePmJmBFQpBtFqU+Psj46OP4OruDldXVzjU10N4/DigVoONiAAZNAiC06dh/sQTQF2drmeSZcHU14MdMADKQ4cAW1sQQpCdnY38/HyEhYW1y9zcWBBCUF1djdLSUhQUFKCurg5WVlbo1asXXF1dYWNj06WChhN/AQEB7V6K5uLpOIPm2tpao8XTXbx4EdHR0fj444/x8ssvU/FH6XZQAUjp9txNAGZnZ6O6uhpDhw5Ffn4+MjMz4efn16bJxJMnTyI4OBhO+v1ZejSV7GEM9H3cZDIZ6uvr4ezsDDc3N7i4uLQ521WhUCA5OZlPYzB2ZbE91NbWIjExEcCdvklu+c3FxQUW69dD9PXXIJ6ed0yhCQFTUADt/PlQv/9+o2MyhYUQv/giBJcu6cQi92esYepIByAuLmA4gXm7p9HA4/D2ZDCxswPEYkjXrsWtAQNQWloKhmGanLgVHD4M8erVEGRnAwIBtBMmQP3hhyBeXiCEICsrCzKZDOHh4V3SM9oUt27dwrVr1xAYGAiNRsNXzszMzPjX0MnJqVPfa9xgTEfEX1M0TFxpbzxdcnIypk+fjqVLl+K1116j4o/SLaE9gJR7Hq4HMDMzE4WFhQgLC4Ozs3Obj9FcD6CpxB+g68dycHCAg4MDBg4ciJqaGshkMuTl5SEjIwMODg78UvHdTH1lMhnS0tIwYMAAeHl5dd2HTmkpRHv3gklPh8rKCte8veE0ejSfDculPHAZtyMSEuDMsmCAOybQt8UVc3tJuBGE6KxVCNF5EyqVOhHI5RXrf69tKbGkJaysQFxddVF9hYWG4u/2OUCj0U32mpnB5a+/YP/ZZ2AHD+Ynbq9evcoPILi5ucFlwgSwkyaBKS7WJYbc/sLBsiwyMjJQWVmJ4cOHd4qBc2vglqL1+zV79+4NrVbLLxVnZGTwfnycIGzrF5e2wIm/wYMHG20whkM/cUU/nu7y5cutjqdLTU3FzJkz8dZbb1HxR+nW0AogpdtDCIGqhWW+3NxcXL9+Hebm5ggLC2vXss3Zs2fh7e1t8IHScNijtf1+xqKuro7vxaqoqICNjQ3c3Nz4iWL9c8nLy8P169cRGBjYpc35TG4uzJ59FsyNGyC3K7eMtTXw1lvQPvNMo/1ra2tB3n8fdr/8glonJwhFIojEYoiFQgiLi6F96CGoV682vBMhuiXg06d1PXrm5jpPQoXi7kJPKGydx6BAADJokE48lpfrhlnuhq0t2JAQqL77TlfNxJ2JW+51VCgU/GS4q6srrK2twbIsUlNTUVdXh7CwMJibm9/9sUwMF5WYl5d316VobqmYW+6vqqpqdI3G+ndTUlKC1NRUk4i/lmiY5VtdXW0QT2dlZQWBQICMjAxERUXhpZdewocffkjFH6VbQwUgpdvTkgCsqanBhQsXoNVqMWHChHb3u124cAG9e/fmzWMJIfxyJdD54q8h3KSmTCZDWVkZzM3N+cpgcXExpFIpQkJCDKdquwDx4sUQ7t8Plasr6lQqWJqbw0yhAMzMoDxwAKQJD0ImJQXmTzwBUlcHtb091FothLej5vJXrID1pElwcHDgn38mKwvmU6fqBjM4sU8IUFkJproa2tGjwQ4ZAuLsDNHBg7rBEpUKRKuFlmHAALpJZW7at6n2gttxcLCz04lLubzlCxcIdDF/CgW006ZBtWVLk7splUqdSEpOhsWff0JMCMqGDkV1UBDChw3rNuLv+vXrKCwsRHh4+F0HoxqiH91WXl4Oc3NzXih1ZOCJs58xpiVOe9G/xoyMDHz44YcYNWoUzp49i3nz5mHVqlVU/FG6PVQAUro9zQnA0tJSSCQSODs7o7q6GmPHjm33Y+ibSXNVP+6fRnfoo9OHM2aWSqWQ3q5Mubm5wdPTs9N7sQyoq4PF6NFQ19ej1sICVlZWOkHOsmAKC6H+6CNoH3usybsK9+2DeNUqoLRUZ57s5ITyZ55Bzn33oeS2RQpXUXK7cgWW8+bpBkb0Bb9aDUYuh/Lnn8GOGXNnu0aDyvJyXDl2DH43b8LFxgZk+HCQ3r3BnD8P8c8/g5FIwFRU8ObNYFk+uxda7Z3Ek+bgBncYBsTKCvXnzgFeXk3uKlq7FuKPPgIIAUsIGEJQNGYMUhYvhsvtAQtjT6O2FkIIrl69CqlUapQ+RC66jauAsixrsFTcUmqOPpz46072Mxw1NTX44Ycf8P333+PmzZsAgMjISEyfPh3z5s3rkteRQmkN9J1J6fY0/CZNCEFubi7fmG5hYYHU1NQOPYZAIOBFn6n6/YyFUCiEvb09bty4AXt7e3h5eaG8vBwZGRnQarUGQySd+eFDtFqoVCpoNBpYW1vfmWbmYuJaWHrVxsRAe//9ukxdlgU7fDisHR0RCN3rrd9TlyWTYbxQCJFCAea2UTMAoLYWxNIS7MCBBscuqahAaloafO+7D46PPgqtVArhoUMQffUVBAkJun7C+npdj59QCOLsrEv0qKvTTew6OYHRaFpeOuZuYxgwVVUwe+89qH76qdFugosXIV6+XDfVLBCAEQjAEALPhARYT5qE3P79kZ2djdTU1E5PlCGEIDMzE2VlZRg2bFiHJmA59KPbuGXU0tJS5ObmIj09nV9G5ZaKm6I7iz9Ad37r1q3DzJkzkZycjNTUVBw4cAD79u3D/Pnzu/r0KJRmoRVAyj2B8nYFhmuWLykpQWhoKBwcHCCXy5GYmIj777+/3ce/fPkyn4XbncUfAFRXVyM5ORmOjo4YPHgwX/HT71OSyWSora3lqy2urq4mXV7UarVIS0tDv2XL4CGRAH363JnoragAA0AZHw/SQJy1Fa6nDu++C4dffwUrEIBYWECkVkNICLRPPw318uX8/oWFhcjMzOSXDYU7d8JsyRKdfcxtf0HY2+smfevq+KofcXICtFowFRUgZma6WDpu/7txW0Qqf/8dxN9f9zwwDFBWBvNnnoHg77/BMgwYQnRDL7eHVNigICjPnAEAPlGmpKQElZWVbUrqaO/zmp6ejsrKSgwbNqxTBGd9fb1Bj6uFhQVfGXRwcIBAIIBMJkNqaiqCg4ObTIzpavLz8zF58mRMnjwZsbGx3W61gEJpCSoAKfcEKpUKSqUSycnJ0Gq1CAsL4z+kqqurkZCQgMjIyHYdm/vwU6lUGDRoECwsLLqt+CsrK8Ply5fRr18/DBgwoMXz5IYPZDIZFAoFX21xc3MzSnWHQ61WQyKRgBCCMHNzWL/4oq5vTiTSVcZEImiefhqat94y2mNCpYLoq68g/OknsAoF1BYWyBk/HsVz58LF0xOurq4oLy/HzZs3MXToUDg7O4O5cgUWkybplnOFQt3QiECgW/IVi3l/PwC6/F6G0V0HAOLtDcjlrRsGMTfXxeD5+OgSPmxtwfr7Q3j2LFBe3mwlkbi7o/7GjSYuVcV7KpaVlUEsFvNi0Bgm4izLIi0tDdXV1QgPD++SPkSNRsMvFZeWloJlWdjY2EAulyMwMLDbRM7pU1RUhClTpmDs2LHYunVrl2cNUyhthQpAyj1BaWkpEhMT4eDggODgYIM/tvX19Thx4gQmT57cZuHGDXuUl5fj2rVrqKqq4q1X3NzcOj0ztCXy8/ORlZXVrgxWpVLJG0+Xl5fD2tqaHyLpSEWprq4OycnJsLKy4l8XJicHwp07IUhKAnFxgTY6Gmxk5J2KoDGpqwNTWgri4gK1SMQLJdnt7F03Nzf06dMHjo6OMF+5EqJ160BsbMDU1ekEIDcVrO8fKBDoBKBarTu2lZWuollVBaagoPWWMkLhnR7F26JTIxZD1Ewlkbi6ov7mzTspIU3AvVe5yplGozHwVGxtT53+8S5fvoy6ujqEh4eb1L6ltXATyNnZ2bCwsIBSqYSjoyN/ncb88tJepFIppk6divDwcHz//fdU/FHuSagApHR7WJbFsWPH0Lt37yarXmq1GseOHcPEiRPb1PPW1LBHfX09LyAqKyt5OwvOeqUr4KYy8/PzMXTo0GbNqlsLF4XFVVvEYrFBLF1rxWBVVRWSkpLg5uYGf3//blE15VoEysvL4ePjwy+Ja7VahG/bBrc//wTs7XU9fWVl3J0aH8jSEhCJdMu/hIC4u+sEYH5+60+G633UOz5rZQVBbW3T+4tEqD9yBGTkyFYdnhCCqqoqXgxWV1fDwcGBrw7eTShptVqkpKRArVYjLCyszeLRVHB5w1wGckM7JCsrK/4a7e3tO/19V1paiqlTpyIwMBA7duwwep9tbGwsPvvsMxQVFSEwMBBr165tdsAtPj4eGzduhEQigVKpRGBgIJYtW4bJkyfz+2zfvh1PPfVUo/vW1dV1qy+4lM6HCkDKPUFtbW2z37JZlsWRI0cwYcKEVv9Ba82wh0ql4pdQy8rK+KqZm5tbp8VgabVapKenQ6FQNMrPNdbx9WPpAPCC18nJqdnnnFuK7t+/P/r3798txJ9Wq8Xly5dRX19vkH/M9UZqN2+Gx6pVUFtYQCASQVRXB0HDLGGBgM8BVi9dCohEEH/6KYitLZiqKt0Sbmv/ZHKCSt9mxtJS12vYDGxwMJRHjwK2tm25dAC6D3R9+xUrKyte2NvZ2Rm8RhqNhl+2Dw0N7TaTqg3FX0M4c2buywsAg8QVU19HeXk5pk+fDm9vb/zyyy9GF827d+/GvHnzEBsbizFjxmDz5s345ptvkJGR0WSy0aJFi+Dp6Yn//Oc/cHBwwLZt2/D555/j/PnzCA0NBaATgAsXLkRWVpbBfbvaSofS9VABSLknUKvVvCdfUxw+fBj33XdfqwSSfuWvtf5+XAQWZ3ZrZmbGi0FTVSFUKhUkEgkAICQkxOTLc9y0LScGVSqVwUQx92HHDVYEBATA87bhcVejVquRnJwMhmEQEhICsUgEwfnzEP75J1BTAzY8HNoJE2AREwPcuKHL8AUgqqoCALDm5mBsbAAHB0AgAFNWBtWXX0I7YwbMXnwRguPHdTnAKtWdoY7WGEo3xNZWN4DSQlIJ6d0bqnXrwE6Z0vj+1dUQffsthL/9pssZnjwZ6mefBRpMx3JZzJxQEggEBkMkly9fhlAoREhISLdZviwuLkZGRgaCg4ObFH8N4d6vnOitra2Fk5MTLwiNnaYil8sxY8YMeHh4IC4uziS9kiNHjkRYWBg2btzIbwsICEBMTAxWrlzZqmMEBgZizpw5+OCDDwDoBOCiRYtQWVlp9POl3Nt0j699FEoHEYlEzUa56cOZO7d10lckEsHDwwMeHh4GVTOJRAKGYXgxaIymfEA3wJGcnAw7OzsEBgZ2yoc0wzBwdHSEo6MjBg0axKc75OTkID09HY6OjhAKhSgvL0dISEib4/ZMRX19PZKSkgz6EEVffAHRxo266V1CgF9+ATt0KJRbtkD81VcQHj2qE3BmZtBaW0Nlbw+tVgtGrYZQKIQZITpPQgsLqLZsgeD4cYg3bIDg9GkQR0fdhLBMZngirUkZqalpXEHkfueMrisrYfbyy1AePw6iX/Wpq4P5I49AcPEiv78gKwvC339H/f79gN6UrFgs5t+vLMvyNjpXrlxBfX09xGIxfHx8oNVqu4UA5MTfkCFD4OLi0qr76L9ffX19+clpmUyGq1evwtramhe9DSugbaWqqgqzZs2Cs7Mz9uzZYxLxp1KpkJiYiHfeecdge2RkJBISElp1DJZlUVVV1ahNpLq6Gl5eXtBqtQgJCcHHH3/MVwgpPRcqACn3BHf7491Sli/QONmjIzYv+t5m3IerTCZDeno6tFotv4Tq7Ozcrg/XiooKpKSkoHfv3hg4cGCXLK8yDANbW1vY2trCx8cHtbW1SEtLQ0VFBd+TqFAourQ3EtAJ5aSkJDg5OSEgIED3ul6+DNGmTTpTZjc3nbBSqyFISYHwjz+g+u47oKoKqK+H+WOPQZiZCQsLizttAbW10BCCZLUawvR03fLiAw+ADQ+H+YwZEOTkgDSVTNOaiiBnMN1QBHLTyAwD4uAApqoKwrg4aBYv5ncRxsdDcPGibiiFW3rUasHcuAHRt99Cs2RJkw8pEAjg5OQEGxsblJWVwcnJCY6OjigqKkJWVpZBn6uVlVWnv9+KioqQmZnZJvHXFFZWVvDy8oKXl5dBBTQpKQkCgcBgqbgt/y5ramrw8MMPw8rKCnv37jVZ31xpaSm0Wm0jr0N3d3cU355GvxtffPEFampqMHv2bH6bv78/tm/fjuDgYCgUCnz11VcYM2YMUlJS4Ovra9RroNxbUAFI+VcgFAqh0WiavM2UyR7ch6uTkxP8/Pwgl8v5CoRSqYSLi0ujJdSWKCoqQkZGBvz8/NCnTx+jnWdH0Gq1uHr1KjQaDcaMGQOhUMhXWm7cuAFLS0teQHS00tIW5HI5kpOTGwll4V9/6aZuXV3vTNSKxSAiEYS//QbNu+/qlmJtbaF5+WWIFy/WVfOsrSFSq8EoldCOHo2+c+eipLycfy2dnZ3R68sv4blhA8z27WvfSVtZgbi5gSkrM1wK5v5rY8NPDje0nBGePKlLVSFE14uoVPI9i8JDh5oVgMCdKqmNjQ2CgoIgEAgwYMAAKJVKfsDixo0bvBcfN2Bhal87TvxxVj3GorkK6LVr13iTbU4QtiToamtrMXv2bDAMg99++61TJpCbMr5vzb+pnTt3YtmyZdi/f7+BZ+KoUaMwatQo/vcxY8YgLCwM69evx7p164x34pR7DioAKf8KmlsC1q/8mdrcmWEYODg4wMHBAb6+vo2WUJ2cnPil4ob9fJz1RW5uLoYOHdqhSogx4foQGYbB8OHDeRHL5SZzTfkymQxJSUl8ddSYy+FNUVpaisuXL2PgwIGNm+PVajAASMPXmmF0S8J6aGfOBFgWovXrweTlARYW0MyZA/Wbb+qWF11c4Ovry3sq5iiVkAUEIOzIEcDSEqLKyqazhJtDo9GJUTc3MCIRUFHBnxuxswPs7HSVRELA+vsb3lcs1gnFsjK+WgitFtBowNy8qfv/JipbdXV1SExM5I3D9f8NmJubo0+fPujTpw8fMVhSUoKUlBQAph2wKCwsxJUrV4wu/hrS8Esa91oWFxcjKyurWZPt+vp6PProo6ivr8fhw4fbnIncVlxcXCAUChtV+2Qy2V0TUHbv3o1nnnkGv/76KyZOnNjivgKBAMOHD8e1a9c6fM6UexsqACn3BO1ZAu7KWLemllBlMhn/oWdvb8+LQXNzc4MILtt2TICagtraWiQnJ8PW1rbZPkSRSAR3d3e4u7uDZVlUVFRAJpMhLS0NLMvyH6zch5sx4KqkzfkhsqNGgWzaBNTWAlzFhmXBqFTQNJEWo42JgXbGDF3Pn63tnfvchmEY2NjYwMbGBt7e3tDKZBAIBFCJRFA6OcG6NebQ/MnpeQ26uOjEW3W1bjrY3Fzna1hfD9KvH7QxMYbnGRUF4U8/6Y7R4Llkamsh+OcfsBMmGGyvra1FYmIiXFxc7mrVIxQK+fckIQRyuRwlJSUmiabrLPHXFNbW1rC2tkb//v15k+2SkhLk5eVBrVbjp59+QmRkJPbv34/KykocOXIEdnZ2Jj8vMzMzhIeH4+jRo5g1axa//ejRo4iOjm72fjt37sTTTz+NnTt3Ytq0aXd9HEIIJBIJgoODjXLelHsXOgVMuSfQarXNLvEC4D/kvLy8ALR/2KMz4CKwZDIZKioqIBAIIBQKERwc3GGPP2Mhl8shkUjg4eGBQYMGtctgmxMQMpkM9fX1BrF07Z1ozsvLw/Xr11vuF2NZmL30EoQHDwKEgAiFYDQakF69oPz55w7H0UGhgMV994EpLwfr4ABBTo7hIEdLf1JFIl2lz8ICqK8HA0AzdSoEaWkQ3LoFMAy0ERFQ/+9/jc9TqYSlp6du6Vcfc3NALIb69dehefNNfnNNTQ0SExPh7u7ertdQH65qVlJSArlcDltbW/61bKslEif+QkJCus37HdD9zbh+/To+/fRTHD9+HGVlZYiMjMRDDz2EadOmdUoaCWcDs2nTJkRERGDLli3YunUr0tPT4eXlhSVLlqCgoAA//PADAJ34e+KJJ/DVV1/hwQcf5I9jaWkJe3t7AMDy5csxatQo+Pr6QqFQYN26dfjxxx9x5swZjBgxwuTXROm+0Aog5V8BVwEkhPCVP6Bjwx6mwsLCAn379oWLiwvfoG5hYYHk5GRYWlo2693WWXDLqz4+Prygbiv6y+EDBw7kBUR+fj4yMzP5tJXW2nVwgycFBQUIDw/nP9yaRCCAau1aCEeNgnDfPjAKBbT33QfN00+DtPN6DLCzg3rZMojfegtMeTkvMAHojKNVqqaHPAQCQCTS2cnU1oLt1w/qV16Bdv58gBAwubkglpZAc0JDLNYZUpeW6t4XhOj2t7TUHVNvibKqqgqJiYno06cPfHx8Ovw+alg146xXcnJy2hRNV1BQgKysrG4n/gDwfZEajQaurq7Ys2cPzpw5g++++w4vv/wySkpKTF6dnzNnDsrKyvDRRx+hqKgIQUFBOHjwIP/vsKioCHl5efz+mzdvhkajwUsvvYSXXnqJ3/7kk09i+/btAIDKyko899xzKC4uhr29PUJDQ3Hq1Ckq/ii0Aki5N7hbBTAtLQ1mZmYYMGAAP+zRWo+/roCrsLm7u8PPzw8Mwxj005WWlkIkEvFLcg4ODp1yLdwH9ODBg01mFNuwAmpjY8OLwaaqSSzLIjMzE+Xl5QgLC+vSqWN9NImJqNiwAVaFhXC+cgVMRYVO+DWX9SsSQWtnBwHDQKBUgnh4QHnokC52rjXU1ED8+usQ7d0LYmsLmJnphKNcDmJhAeWJEyD9+kGhUCApKYnPizYlWq0WFRUVfHVQq9Xyld6Gg0/dWfwBumt5/vnnIZFIcPz4cYP3v1wub/lLB4VyD0IFIOWegGVZqFtots/IyAAADBw4sFtW/fTheuSaHGC4DZf5ysXSAeDFoJOTk9GHKwghuHHjBvLy8owSN9da1Go1Lx5KS0thbm5uYLDNsixSU1NRW1uLsLCwbhNd1Wiqtr4ewh9/hNnSpbrK3O3nj6mr01nOqNXQuLpCKxRCy7IQEAJzuRyshwcYJyewEyZA89xzTVcoCYFo0yaIvv5aJzJra3VC09JSNzxiYQH1J59AO3cuKisrkZycjAEDBrS7etteuMQV7vWsqamBo6MjXF1dodFokJOTg9DQUDg6OnbqebUGrVaLV155BQkJCfj777/Ru3fvrj4lCsXkUAFIuSdoSQASQpCbm4urV6/CyckJ7u7ucHV17TbZphyEEOTl5SE7OxtBQUEGVg13ux9XZZHJZNBoNLy9jDGmM7kKW1lZGcLCwkw+7dgc3BQqVwEFdFVckUiEYcOGmcR8tz1wgxVOTk4GU7WMRAKLGTN0y7J6PY5MYSFvS0OsrEBYFkxJiW7YQyiE1twcAgCsuztU+/aBadD7J/z+e5gtWQIC6ESfSgWmuhrE0hKa+fOhffZZkAEDUF5eDolEAl9fX/Tt27fznpBm4DJ88/PzUVNTA0tLS3h4eHRpe0NTsCyLxYsX49ixYzhx4kSzX8oolH8bVABS7gmaE4D6wx7cB45UKkV1dXWLtiudDcuyyMrKgkwmQ0hISLuXk7gqC1cZ5IYruCXUtopejUaDy5cvQ6lUGuTndjV1dXW4dOkSAN0164teFxeXLsuuraqqQlJSEnr16gVfX19DEVNSAouICJ0tjF6vGFNUBNxe8oWZmW7St6REV8WztobW3h5atRrC6mrk338/ZB98cMdIvL4eFiEhumMAd4ZMuD/b1tbQPPUUil57DZfT0+Hn59etqle3bt3CtWvXEBwcDK1W22Q0XUuZ06aGZVm8/fbb+P333/H333+bfMmcQulOUAFIuScghECll77QcNijYb9fXV0dZDIZpFIpFAoFP3Tg5ubW6SJHo9EgNTUVdXV1CA0NNWpGKec1KJPJUF1dDUdHRwN7mZZQKpVITk6GWCzGkCFDuk3FlEv30Petq6qq4jOKa2pqeHHv6uraaZVBuVyOpKQkeHl5wdvbu8kKlvittyD66ScQMzNdtU6pBKNQABqNrm/Pxka3jFtVpRsKcXYG4c6/qgqsgwPS9u3TZTFXVWH0p5/CgYt+awoLCxChEGnz5sH6jTc6ZVK1tdy6dQvXr19HaGgoHBwc+O2cXRC3VKxWqw36BjvryxrLsli6dCn27NmDv//+2ySpGLGxsfjss89QVFSEwMBArF27FmPHjm1y3/j4eGzcuBESiQRKpRKBgYFYtmwZJk+ebLBfXFwc3n//fWRnZ8PHxweffPKJgW0MhdJaqACk3BPoC8CGyR53G/bghg6kUikqKythZ2cHNzc3uLu7Gz0wvqnHlkgknSKyONErk8kgl8v56+QivvThsobt7e0RGBho8sSH1sINMHh6ejausN2GmyiWyWRQKBQtXqexKCsrQ0pKSot9mwCA2lqI33kHogMHAJUKEImgHTMGrLc3xD/9pFsKVip1VUI7O50o5FAogF69UJ+UpKt6/vADbBct0k0VNwNrbw+iVEI7cCC0588b8Yo7RnPiryGEEFRXV/NisKqqCvb29nx10FQDP4QQfPTRR/j+++9x4sQJ+Dc03TYCnKVLbGwsxowZg82bN+Obb75BRkZGk++hRYsWwdPTE//5z3/g4OCAbdu24fPPP8f58+f53N6zZ89i7Nix+PjjjzFr1izs3bsXH3zwAU6fPo2RI0ca/Roo/26oAKTcE3ACsKPmziqVihdJ5eXl/ASqm5ub0XvfqqqqkJycDGdnZz6ntrPgIr6467S2tuavU6PRdHnWcFNwImvAgAHo379/q+7T1HVySST6qQ4dgRva8ff3h6enZ6vuw+Tng8nOBvH0BLldWWKysyE4dQpMTg7EW7aACIU602mG4Q2hNS+/DPX77wMAzJ5/HsKdO1vMGFY6OkKs0YCxtkZ9dnaHr9UYcH2udxN/TVFfX89bzJSXl/PRdNxQkDFeT0IIPv30U2zatAl///03goKCOnzMphg5ciTCwsKwceNGfltAQABiYmKwcuXKVh0jMDAQc+bMwQcffABAZxOjUCjw559/8vtMmTIFjo6O2Llzp3EvgPKvh/oAUu4JGIYxSrKHmZkZH33FTaDKZDLcvHmT9+Bzd3dvs7ltQzgvPW9vb/Tv37/TRZZ+xJdarUZpaSkfS8eyLJ/q0F0oLi5Geno6AgICWi2yAMPr1Gg0/HVeunSJ96fjbHTaI8ALCwuRmZmJ4ODgVg/tAADp0wekQZYz8fGB1sdHZ91CCETffAPI5bp+PoEAbHAw1C++eOcO3HuG+2/D7+oMA0arBVGrUd2/P+SlpSaZEG8LnPgLCwtrV5+rhYWFwevJpXRIJBIA4CuDzs7O7eobJIRgzZo1iI2NxbFjx0wm/lQqFRITE/HOO+8YbI+MjERCQkKrjsGyLKqqqgwm8s+ePYvFixcb7Dd58mSsXbu2w+dM6XlQAUi5Jzh37hwuXbqEadOmwdXV1SiCSiwWw9PTE56engbi4eLFizAzM4O7uzvc3NzaPLF469YtXL16tdmoss5GLBajV69e/DX279+f7//Tj/9qr0jqKNygwJAhQzokSkUiETw8PODh4QGWZXnxkJqaCkJIm8UDlzoSEhJi3LgyhoF6+XJo778fwt9/B1NbC+2oUdA++KCBmbM2MhLCX38F6uvviEB9CIGZQgFiY4OSxx5DdmYm1Go1n9/b0IfP1OTm5uLGjRvtFn8N0Y8ZJISgsrISJSUluHbtWqNoutb0gRJC8PXXX+PLL7/E4cOHERIS0uFzbI7S0lJotdpGGb7u7u6Nsn6b44svvkBNTQ1mz57NbysuLu7QMSkUfagApNwTVFRU4Pvvv8fixYsxevRoxMTEYObMmfDw8DCKGNQXD/p2JElJSbxIcnd3b9GQmRCCa9euobCwEGFhYd3G76xhiga3LKef3asvkjivQVNPZhJCkJ2djVu3biEsLKzNy4UtoT9lqi8erl69CqVSyYukpianCSG4efMmcnNz75460l4YBuyECY2ye/XRzpwJbXw8hAcOAC2YoBN/f3g+/TR6EYKqqio+oSM9PZ334TP18JOxxV9DGIaBo6MjHB0dMWjQIL4PtKioCFeuXLlrNB0hBFu2bMHKlSvx559/Yvjw4UY/x+bOu+F5tObv1c6dO7Fs2TLs37+/UeW5vcekUBpCBSDlniAqKgpTpkxBbm4u4uLisGfPHrz55psYOXIkoqOjER0djT59+hjlD6F+VUzfkDklJQUMw8DV1RXu7u4GsVdarRZpaWmoqqrC8OHDu01aBcuyyMjIQEVFRaPzEggEcHZ2hrOzM/z9/SGXyyGTyZCVlQWVSmVS2xVCCDIzM1FaWorhw4eb1HtQXzz4+vryk9N5eXnIyMjgJ6e5StK1a9dQVFSEYcOGmTz6q0VEIqi2bYPwl18gfuMN3TSx7oIM7GAEWVn8ddrZ2cHOzg4+Pj68LZJMJsPVq1dhY2PDi8GOtjjok5OTg5s3byI8PBx2dnZGOebdaCqajmvlMDc3570GnZycYGZmhu3bt+PDDz/E77//joiICJOfn4uLC4RCYaPKnEwma1TBa8ju3bvxzDPP4Ndff8XEiRMNbvPw8GjXMSmUpqBDIJR7EkIICgoKEB8fj7i4OJw5cwZhYWGIiYlBdHS0SfruWJZFZWUlby/DVcycnJyQl5cHgUCAoUOHdrnnIAc37KFWqxEaGtpquxRuMlMqlfK2K/pegx29Pk4s19TUGN0Wp63oi6TKykqIRCIQQhAcHAwXF5cuOy99CCFghg+HZWamzjpGH5YFzMxQv3cvxLGxECQlATY20MyeDc0rr/B+hPqJK2VlZRCLxfzr2ZGl/5ycHOTk5CAsLKzTxF9LaLValJeXo6SkBLt27cKmTZsQEhKCS5cu4ddff8WMGTM67VxGjhyJ8PBwxMbG8tsGDx6M6OjoZodAdu7ciaeffho7d+5ETExMo9vnzJmDqqoqHDx4kN8WFRUFBwcHOgRCaTNUAFLueQghKC4uxr59+xAXF4eTJ08iKCgI0dHRiImJadZOpKOPKZfLkZ+fz38j55aJuW//XUl9fT2Sk5Nhbm6OIUOGdKiCV1NTw09OV1VVdchTUa1WIyUlBSzLIiQkpNuIZZZlcfnyZcjlctjY2KCyshIWFhb8dXZVcgUhBFlZWXB75x30PnpUt5ETa5whtJmZzlbm9jAJxGJAJAI7YgSUe/fqftdDXySVlJSAEGLQN9ja9y63TN5dxF9DNBoNvvzyS+zYsQMajQYFBQWYMGECHn74YTz33HMmf3zOBmbTpk2IiIjAli1bsHXrVqSnp8PLywtLlixBQUEBfvjhBwA68ffEE0/gq6++woMPPsgfx9LSkl9WT0hIwLhx4/DJJ58gOjoa+/fvx9KlS6kNDKVdUAFI+VdBCEFZWRn279+PPXv24Pjx4xg0aBBmzpyJWbNmISAgwGgf5OXl5UhJSUGfPn3g5uZmkM7BLZ+6urp2empFdXU1kpOT4eTkZHT7mfr6ev46KysrYWtry4ukuy17c4MnZmZmGDp0aJeLZA6tVouUlBSoVCqEhYXBzMzMYAK1pKQEQqGQXz7VX/o3JdwyeXl5OUYwDOxnztQNhAB3loD1/1//v9bWAMtC9e230M6c2eJjyOVyvgpaX1/fquEK/R7JLl0mb4G9e/fi+eefx+7duzFt2jTcuHEDv/32G4qKirBq1apOOYfY2FisXr0aRUVFCAoKwpo1azBu3DgAwPz585GTk4MTJ04AACZMmICTJ082OsaTTz6J7du387/v2bMHS5cuxY0bN3gjaH3BSKG0FioAKf9auOb/3377DfHx8Thy5Aj69euH6OhozJo1C8HBwe3+IOfsQfz9/Q2itwghqKmpgVQqhUwmM1g+dXNzM/lUZkVFBSQSCfr27QsfHx+TVq1UKhUvHMrKymBlZcVfZ0MPvtraWiQlJXU742m1Wg2JRAKGYRASEtKkWNcflikpKYFWqzVqFnNTcL2bcrkc4eHhsLCwgOizzyD+/HOdwTSgE3tabWMhSAhfBdSOGQPtI49AGxkJtGKSmav2lpSUGJhs65sy37hxA3l5ed1a/P3+++946qmnsGPHjiaXUikUChWAlB6EQqHA77//jvj4eBw6dAhubm68GAwLC2uVKCGE8B+AQ4YMuas9SMPl07ZEtbUVqVSK9PR0DBo0CH0aeNCZGn0bndLSUr7HzN3dHQzDQCKRwMPDA4MGDeo2E4sqlQpJSUn8MnlrKpJNZTHrx9IZY0mbZVmkpqaipqYG4eHhBu8TJjkZot9/B2prweTkQHjsmK4qyLJ3rGJY9s7BhEJAJAKsraH69FNoH3us1efBmWxzfYNWVlYQi8WoqqrCsGHDuuWyLwAcOnQITzzxBLZt24b//ve/XX06FEq3hQpASo+kpqYGf/75J+Li4vDHH3/A0dERM2fORHR0NEaOHNmkGNCfqA0NDW3z5GrDqDZ7e3vea7CjFh25ubnIzs5GcHBwlxs8cz1m3LCMVqvlJ1O72qiYo76+HomJibCzs+tQRbKhwLe3t+cFfnuGW7RaLS5fvgylUskvRzeHaN06iD/+WPdLXZ3uvwxjKADt7HQisK4OEIlQf+QIyNChbT4vjUaD9PR0lJSUQCAQ8Evi3BBUd1nOP378OB555BFs3rwZc+fO7TZfNiiU7ggVgJQeT11dHY4cOYK4uDj8/vvvsLCwwMyZMxETE4PRo0dDJBJBJpPhr7/+go+PD0JCQjpcvVMqlbxwqKiogK2tLS8G25Jnq+89GBoaahrPunYilUqRmpqKfv36gWVZyGQyaLVavpeuvWkOHaWmpgZJSUlwcXGBv7+/0UQClznNvaZttV3RarWQSCTQarUIDQ29a7sAU1gIi9GjgepqnU+gWm24g5UVwIlQQoC6OmgWLIC6pRiyigowtbUgvXoZTBxnZ2cjPz8f4eHhsLKy4qfhS0pKoFar+TaHzjaf1ufUqVP473//i/Xr1+PJJ580uviLjY3FZ599hqKiIgQGBmLt2rUYO3Zsk/sWFRXh9ddfR2JiIq5du4ZXX321UVrH9u3b8dRTTzW6b11dnUk9GykUDuoDSOnxWFpa8l6CKpUKf/31F+Li4jBv3jwwDIMHHngA//zzD0JCQrBz506jiBZzc3P07dsXffv25XvppFIprl+/Dmtra14MtlRlZFkWaWlpUCgUGDFiRJuEo6nJz8/H1atXMWTIEN7I1s/Pj18+1Tdk7kzhUFVVhaSkJHh6eho9B9nCwoJ/TRvG73HedFziSsPH1Wg0kEgkIIQgLCysVX2FxNMTyi1bYPbyy2DKy3UbOY9A4I7447ZrtWCk0iaPxeTnQ/z22xD+9RfAsiD9+0O9dCk0M2fixo0bvPjj3o9OTk5wcnKCn58f76uYm5trYD7t6uraaRY/CQkJmD17Nj7//HOTiL/du3dj0aJFiI2NxZgxY7B582ZERUUhIyMD/fr1a7S/UqmEq6sr3nvvPaxZs6bZ49rZ2SHrto8jBxV/lM6CVgAplGZQq9XYuHEj3n77bXh6eqKyshLTpk1DTEwM/vOf/xi9h497zNLSUkilUpSVlfH5xA0HKzg7Fa5a1F3sVPR7JENCQppNQ9EflikpKUF1dbVBL50pntvKykokJyejf//+8Pb2Nvrxm4NLluH66TgzcW75lGVZPpYvJCSk7V8wqqt1vYAKBdhRoyBesUKXHmJpadgXWFcH9XvvQfPaa4b3r62FxbhxYG7e1FX9BALdoIlQiNyPPkLm4MEIHzasVS0PnK9iSUlJu6qg7eHixYuIjo7G//73P7z00ksmeYyRI0ciLCwMGzdu5LcFBAQgJiamWU8/jgkTJiAkJKTJCuCiRYtQWVlp9POlUFoDrQBSKM2wf/9+vPvuu/j888/xwgsv4J9//kFcXBxeffVVVFdXIyoqCjExMZg4caLRKh1cbi+X3VtWVgapVIpLly7BzMyMryBdu3YNVlZWCA0N7Tb9V5xnnUwmu2uKBsMwsLGxgY2NDXx8fFBbWwuZTIbCwkJcuXKlw710DSkrK0NKSgp8fX3Rt2/fDh+vLTRMluFi6a5cuQK1Wg2GYWBpadl+axwbG2ijo/lfNS+9BOHhw0BNjc4jkBBAowFxcYFm7tzG57d3L5gbNwBzc12/IMvyS8Zeb7+N3mFh0C5f3mJsHYelpSX69euHfv36GVRBc3NzIRaLDaqgxugFTU5ORkxMDD744AOTiT+VSoXExES88847BtsjIyORkJDQoWNXV1fDy8sLWq0WISEh+PjjjxEaGtqhY1IorYVWACmUZoiLi4O5uTmmT59usF2r1eLcuXOIi4vD3r17UVpaismTJyMmJgaRkZEmiTXjqkgFBQUoLS2FQCCAp6cnH0nX1c3u3HJ0VVUVwsLCOiTaGvZH2tjYGHgNtvVapVIp0tLSMHjwYPTq1avd52Vs6uvrcenSJTAMA4FAgJqaGqNVQQV//QWzDz4Ac/26Lnd4xAioPv0UJDCw0b7it9+G6NtvAQsLnfBTKAwHSczMAHNzKPfvB9tOs+GG5tMsy/JV0PZa6aSmpmLq1Kl488038fbbb5vs30BhYSF69+6NM2fOYPTo0fz2FStW4Pvvv2+0hNuQ5iqA586dw/Xr1xEcHAyFQoGvvvoKBw8e5L+oUCimhgpACqUDsCyLxMRE7NmzB3v37kV+fj4mTZqE6OhoTJ061ahWGZzxdL9+/WBvb8+LpObyiTsLLnJOo9EYfTmaizDjvAbbms5RUFCArKysbjEdrU9TU8hcFbSkpARyubxJD742QQiYW7dAxGKgBeEr+uILiFes0AlAlQqorb1zo0CgmySur4d28mSofv65HVfb8LTumE+XlJSgrq6uVebT+mRkZCAqKgovv/wyPvjgA5N+AeIEYEJCgkGO8CeffIIff/wRV65cafH+zQnAhrAsi7CwMIwbNw7r1q0zxqlTKC1CBSCFYiS4ODFODGZnZ+OBBx7AzJkzMX369Cab/1tLUVERMjIyEBAQAE9PT4PH5CYy9ads3d3dO8Weg/PSE4vFGDp0qElTT7RarYHXoEgkanFJMTc3Fzdu3MDQoUPh5ORksvNqK3V1dUhMTISjoyMGDx7c5HuC8+CTyWQoLy/nTbZdXV2NHkvH5OXBIiICqKsD0WrBaDR3brS01AnD+noQR0fUX7tmtMflqKmp4a+VM5/mXtemhG9WVhaioqLwzDPP4H//+5/Jq98qlQpWVlb49ddfMWvWLH77woULIZFImkzv0Ke1AhAAFixYgPz8fPz5558dPW0K5a5QAUihmAAuxmvPnj2Ij49HRkYGxo8fj5iYGEyfPh0uLi6t+uAihPBCZsiQIXBxcWlxX7lczvvvqdVquLi4mCyfmBMydnZ2CAoK6tTKI8uyvNegTCYDAF40ODk5IScnB7du3ep21jicBY2rqyv8/Pxa9R5oymTb2L10gt9+g+j//g8ChQIMt/xrZqazkmEYoLYWxM8P9WfPdvixWkLffLq8vJyv+FZXV2PIkCG4efMmoqKi8Oijj2L16tWd9p4bOXIkwsPDERsby28bPHgwoqOj2z0E0hBCCEaMGIHg4GB89913xjhtCqVFqACkUEwMIQTXr1/nxaBEIsGYMWMQExODmTNn8mkZTd0vKysLUqkUoaGhbVpOJoSgqqqKF4P6+cTGsFzh7FTc3d1bLWRMBRf5x4lBpVIJhmEwcOBA9O7du9OzmJujuroaiYmJ6NWrF3x9fdv1nOkL35KSEhBCDGLp2iPyCSG4evUqyrOzMSolBVarV+tu4GyFVCpApQJxdgajVoMdMgTqRYvATprU5sdqC9wQlEwmQ3R0NJRKJWxtbTF06FDs3r27U22Pdu/ejXnz5mHTpk2IiIjAli1bsHXrVqSnp8PLywtLlixBQUEBfvjhB/4+EokEAPDss8/Cz88Pb775JszMzDB48GAAwPLlyzFq1Cj4+vpCoVBg3bp1+PHHH3HmzBmMGDGi066N0nOhApBC6UQIIcjJyUFcXBzi4+Nx4cIFjBo1ivch7N27NxiGQXV1Nc6ePQsrK6sOD1W0lE/cnvgyLm/Yy8sL3t7eXT6AwsGyLNLT01FRUQE3NzeUl5ejrq7OwKS4q+xyqqqqkJiYiL59+2LAgAFGec70K76c8NV/XVsj8jnxJ5PJeJNn4fffw+yddwClUlf9U6t1wyEike5HqwWEQqi++cZg+tiU3Lx5E0888QSfy1xaWoopU6bg/fffx9B2JJu0h9jYWKxevRpFRUUICgrCmjVrMG7cOADA/PnzkZOTgxMnTvD7N/Uae3l5IScnBwCwePFixMfHo7i4GPb29ggNDcWyZcsM+gwpFFNCBSCF0kUQQpCfn4/4+HjEx8fjzJkzCA8Px+TJkxEXF4fevXvjl19+Mbpoqa2t5cVgW/OJZTIZ0tLSuiRvuCW4/Nza2lqEhYXx11FdXc33l+lfq6ura6cZ7srlciQlJZnUf5AT+ZwYrK6u5g2Zm4sa5CrMJSUlGDZsmMGXDKaoCMI//gCTkwPRxo26YRDuvUGIbknYxwf1Fy4YJIaYgqKiIkyZMgXjxo3Dli1bIBAIcPnyZezfvx8PP/wwX1GjUChtgwpACqUbQAhBcXExtm7dilWrVsHJyQnu7u6YMWMGYmJijJ5awdFUPnFz/nv5+fn8RC2X7tEd0J9CDgsLa7byxZkUS6VSgynbtsbvtQWuWurj49NkYoSp4K5VJpOhsrKykZUOgGbFnz7Cbdtg9vrrhqbSgK4qyLKov3QJxMvLZNchlUoRFRWF4cOHY/v27d3G85JC+TdABSCF0k1ITEzEtGnT8N///hfvvfcefv/9d8TFxeH48ePw8/Pj84kDAgJMIgabyifmRAMXadbdJmrVajWfotGWKWSVSsVfa3l5OaytrflrNVZiRXl5OSQSSZdXS1UqFT9EwlnpCAQCqFQqDB8+vEXxK9y9G2b/93+6SWD9Sp9KBQCoS08HTGSvU1paiqlTpyIwMBA7duzoNr2cFMq/BSoAKZRuwtq1a6FWq/HGG2/wAoQbcPjtt98QFxeHo0ePwsvLC9HR0Zg1a5bJpm/184nLysrAMAx69+6Nvn37tsuM2RQolUokJSXB0tISwcHB7a4O6SdWlJaWwtzcnBeD9vb27brW0tJSXL58Gf7+/ga2PV2NRqPB5cuX+fgxoVBoMD3d6L1UWQnLoUOBqqo7VUCWBZRKaB94AKpffjHJeZaXl2P69Onw9vbGL7/80ik50RRKT4MKQArlHkKhUPCVwUOHDsHDwwPR0dGIiYlBWFiYUcUgN1RRWVmJvn37Qi6Xo7S0FBYWFnB3d2+UT9yZcBY0Dg4OGDx4sNGum0tc4aZsBQIBLwZba7Itk8mQmpqKwMBAeHh4GOW8jAFnTVReXo7w8HCYm5ujoqKCXyrWarVwcXGBq6srXFxc+Iqb8MABmD3//J2hEJYF6dcPyr17QUzQ01hZWYkZM2agV69eiI+PN8ngTmxsLD777DMUFRUhMDAQa9euxdixY5vct6ioCK+//joSExNx7do1vPrqq01ausTFxeH9999HdnY2fHx88Mknnxj4BlIo3Q0qACmUe5Tq6mr8+eefiIuLw8GDB+Ho6MgvE48YMaJD/VJcpUilUiE0NJQfquDMmKVSKUpLS/l84o5Uy9pKTU0NEhMT4ebmZlILGm7ilFsq5uLLWrJcKS4uRnp6erfrk9QXf8OGDWs0FEIIgUKh4MWgfjqHm5sbzIuKIPzlFzBSKdigIGgfeghoIeu5vSgUCsTExMDe3h779+83yaAOZ+kSGxuLMWPGYPPmzfjmm2+QkZHRZJ9mTk4O1qxZg/DwcKxZswbjx49vJADPnj2LsWPH4uOPP8asWbOwd+9efPDBBzh9+jRGtjM+j0IxNVQAUij/Aurq6nD48GHEx8fjwIEDsLKywsyZMxEdHY3Ro0e3qX9KpVIhOTkZIpGoxb46Lt9VKpWipKQEQqHQoFpmCmGmUCiQlJSEPn36wMfHp9Oqjw0tV1QqFV8tc3V1hUgkQmFhIa5cuXJXw+7OhhCCjIwMVFRUNCn+moKbKC4pKYFCoeCHg1xdXU02MFNdXY0HH3wQZmZm+OOPPzpkfdQSI0eORFhYGDZu3MhvCwgIQExMTLtNnefMmQOFQmGQ4DFlyhQ4Ojpi586dRj1/CsVY0K5aCuVfgKWlJWJiYhATE4P6+nocO3YM8fHxePzxxyEUCjF9+nTMmjULY8eObbGfqq6uDklJSbCxsUFwcHCLS55c/5irqytfLZNKpUhNTQUhhBeDTfaWtQNuotbb2xv9+/fv8PHaAsMwcHBwgIODA3x9fVFdXc0PxqSnp8PKygq1tbUIDg7uluKvsrKy1eIPAKytreHt7Q1vb2/U19fzlcFr166ZZGCmtrYWs2fPhlAoxG+//WYy8adSqZCYmIh33nnHYHtkZCQSEhLafdyzZ89i8eLFBtsmT57cqvg3CqWroAKQQvmXYWFhgWnTpmHatGnYtGkTTp48iT179uDZZ5+FWq3G9OnTERMTgwkTJhj4/lVWVuLy5ctwdXWFv79/mz7YBQIBnJ2d4ezsDEIIv3SakZHB5xN3JK2CG6ro6olaQCcGbW1tYWtrCx8fH1y7dg15eXmwsrJCamoqbt26xQukzvIabAp98RceHt7uc7GwsEDfvn3Rt29fg4GZ3NxciMVi/lrbm3VdX1+PRx99FCqVCocOHYKNjU27zrM1lJaWQqvVwt3d3WC7u7s7iouL233c4uJiox+TQjE1VABSKP9ixGIxJk6ciIkTJ+Lrr7/G6dOnsWfPHrzyyiuorq7G1KlTERMTA4ZhsHDhQuzatavN4q8hDMPAyckJTk5O8PPz45dOr169yi+duru7w9nZuVVL01xfXXcbqgB0CRUFBQUYNmwY7O3tDaplV69eNbDS4fz3OgNCCNLT0yGXyzsk/hoiFovRq1cv9OrVi28BkMlkSElJAWCYx9waoa9UKvH4449DLpfjyJEjbYo77AgN39+EkA5XMk1xTArFlFABSKH0EEQiESZMmIAJEybgq6++wrlz53gxWF5ejgceeAB5eXkICAgwmlhpuHTK5RNnZ2cjLS0Nzs7OcHd3bzafOD8/H1evXsXQoUO73dJqdnY28vPzER4eDtvbAxH61TLOf08qleLGjRuwtLTkxaApp6c58adQKDBs2LC7pru0l4YtAJzQv3LlCtRqtUEEX1OvrVqtxvz581FUVIRjx47BwcHBJOepj4uLC4RCYaPKnEwma1TBawseHh5GPyaFYmroEAiF0oPZvn07XnrpJSxduhQVFRXYu3cvCgsLMWnSJERHRyMqKspkVRmuj04qlaKmpoZPP+HyiXNycnDz5k2EhITA0dHRJOfQHgghuHbtGoqKihAeHt6qJUuNRmPgNWiMpdPmzi0tLQ1VVVW81UtnQwjhX1sue5qL4LO3t4ednR00Gg2efvppZGVl4fjx43A1kZl0U4wcORLh4eGIjY3ltw0ePBjR0dEdGgKpqqrCwYMH+W1RUVFwcHCgQyCUbgsVgBRKD+X69esYMWIE9uzZg/vvvx+AzvokJSUFcXFxiI+Px40bNzBx4kTMnDkT06ZNM6pY0ae2tpYXg1VVVTA3N4dKpeqWlb8rV66gtLQU4eHh7ZqI1V86LSkpAcMwLZsxtxLOt7ErxV9T1NbW8svir776KtRqNVxdXZGfn4+EhIROr5JxNjCbNm1CREQEtmzZgq1btyI9PR1eXl5YsmQJCgoK8MMPP/D3kUgkAIBnn30Wfn5+ePPNN2FmZsbnECckJGDcuHH45JNPEB0djf3792Pp0qXUBobSraECkELpwVRUVDRbXeOGCPbs2YP4+HhkZmZiwoQJiImJwfTp0+Hs7Gx0MchVsEpKSmBtbY2qqqoW84k7E307lfDwcKOcC8uyqKys5KtlnBkzt3Ta2oEZlmWRlpaG6urqbiX+GpKXl4e33noL58+fR2VlJXx8fDBr1izMnTsXgYGBnXYesbGxWL16NYqKihAUFIQ1a9Zg3LhxAID58+cjJycHJ06c4Pdv6n3u5eWFnJwc/vc9e/Zg6dKluHHjBm8E/eCDD5r6UiiUdkMFIIVCuSvcsicnBlNSUnDfffchJiYGM2bMgLu7e4fFIMuyyMjIgFwuR1hYGCwtLVvMJ+7MoQr96lpYWJhJpns5M2bueuvr6w28Bpuz7+HEX01NDcLDw02SnGEMWJbFokWL8Pfff+Pvv/+Go6MjDh06hH379uG+++7D//3f/3X1KVIoPQoqACn/WioqKvDqq6/it99+AwDMnDkT69evb7HZnBCC5cuXY8uWLaioqMDIkSOxYcMGg+rEhAkTcPLkSYP7zZkzB7t27TLJdXQ3CCG4efMm4uLisHfvXly4cAERERGIjo7GzJkz0bt37zaLQa1Wi9TUVNTV1SEsLKzJChaXTyyTyVBWVsb70bm7u5s0n5hlWaSmpqK2trbTBBYhhDdjlslkqK6uhpOTE2/GzD0/95L4e+utt/DHH3/gxIkT8DZBhByFQmkbVABS/rVERUUhPz8fW7ZsAQA899xz6N+/Pw4cONDsfVatWoVPPvkE27dvx6BBg/C///0Pp06dQlZWFj/pOWHCBAwaNAgfffQRfz9LS0vY29ub9oK6IYQQ3Lp1C/Hx8di7dy/OnDmDYcOGITo6GtHR0fDy8rqrMNNoNJBIJGBZFqGhoS0aVevfhxODXD4xJwaNOWGr1Wpx+fJlKJVKhIWFdZnAqqur48WgXC6Hvb09XF1dUV5eDqVS2e3F39KlS7Fnzx78/fff8PX17epTolAooAKQ8i8lMzMTgwcPxrlz5/gm7HPnziEiIgJXrlyBn59fo/sQQuDp6YlFixbh7bffBqDzKXN3d8eqVavw/PPPA2h+ErCnQwhBUVER9u7di/j4eJw6dQpDhgzhxeDAgQMbCTMudk4sFmPo0KHtMonm8om5oQpuwtbd3b1D+cRarRYSiQRarbbVwrQzUCqVkEqluHnzJlQqFWxsbODu7s4vi3cn7zlCCD766CP88MMP+Pvvv+Hv79/Vp0ShUG7T8XwmCqUbcvbsWdjb2xtM4I0aNQr29vbNRj7dvHkTxcXFiIyM5LeZm5tj/Pjxje6zY8cOuLi4IDAwEG+88QaqqqpMcyH3EAzDwNPTEy+99BL++usvFBYW4oUXXkBCQgKGDx+OiIgIrFy5EpmZmfwy8tKlS2FhYYGQkJB2iT9A50fn7u6O4OBgjB8/Hv7+/tBoNEhOTsY///yDK1euoLy8HCzLtvqYGo0GSUlJIIQgLCys24g/QGfGXFFRAXNzc4wePRpeXl6oqqrC+fPnkZCQgGvXrkEul6Orv9sTQvDpp59i27ZtOHr0qMnEX2xsLLy9vWFhYYHw8HD8888/Le5/8uRJ3hx7wIAB2LRpk8Ht27dvB8MwjX7q6+tNcv4USldBjaAp/0qKi4vh5ubWaLubm1uz8Uzc9qYinXJzc/nfH3vsMXh7e8PDwwNpaWlYsmQJUlJScPToUSNewb0NZ22yYMECPPvss6ioqMBvv/2GuLg4fPbZZ+jTpw8UCgVCQkIQEBBglKxgwNCcOCAgoF35xGq1GklJSR2qSpoKlmVx+fJl1NfXIzw8HGKxGNbW1vD09DSohCYlJUEoFBp4DRrrOW4NhBCsWbMGsbGxOH78OIKCgkzyOLt378aiRYsQGxuLMWPGYPPmzYiKikJGRgb69evXaP+bN29i6tSpWLBgAX766SecOXMGL774IlxdXfHQQw/x+9nZ2SErK8vgvl0Z60ehmAIqACn3FMuWLcPy5ctb3OfixYsAmrZuaE08090inRYsWMD/f1BQEHx9fTFs2DAkJSUhLCzsrtfQ0+Ci4ebPn4/58+fj3LlziIqKgqenp0HPYExMDEJDQ40mVBrmE1dWVkIqlbaYT6xSqZCUlAQLCwsMGTKkU0XT3eA8Grmev4ZVSa4S6u7uDpZlea9BTvzqX68pr4sQgq+//hpffvkljhw5gqFDh5rssb788ks888wzePbZZwEAa9euxeHDh7Fx48YmTZ03bdqEfv368e0bAQEBuHTpEj7//HMDAcgwTLeLHaRQjA0VgJR7ipdffhmPPPJIi/v0798fly9fhlQqbXRbSUlJs8az3B/84uJi9OrVi99+t0gnbonw2rVrVADeheTkZEybNg2LFi3CBx98gJqaGhw8eBDx8fGYNm0anJycMHPmTMTExGD48OFGq74xDANHR0c4OjrCz88PCoUCUqnUIJ/YyckJubm5sLW1RVBQULcUfyqVqknx1xCBQAAXFxe4uLjw4lc/pk3fa7A1ecythRCCLVu2YOXKlTh06BCGDRtmtGM3RKVSITExEe+8847B9sjIyGbbPM6ePWvQ4gEAkydPxrfffgu1Ws0/r9XV1fDy8oJWq0VISAg+/vhjhIaGmuZCKJQuggpAyj0F96F2NyIiIiCXy3HhwgWMGDECAHD+/HnI5XKMHj26yftwy7pHjx7l/9irVCqcPHkSq1atavax0tPToVarDUQjpWk8PDywevVqPPPMMwAAGxsbzJ49G7Nnz0ZtbS2OHDmCuLg4PPTQQ7C2tsaMGTMQExODiIgIowkVhmFgb28Pe3t7+Pr6orq6GgUFBbhy5QoIIbCyskJxcXGL3nudib74a08/or74HTRoEJ/HfOPGDaSnpxvYy3RkkpgQgu3bt+PDDz/EH3/8gVGjRrX7WK2htLQUWq22yZaNlto8mtqfi+rr1asX/P39sX37dgQHB0OhUOCrr77CmDFjkJKSQieYKf8qqACk/CsJCAjAlClTsGDBAmzevBmAzgZm+vTpBhPA/v7+WLlyJWbNmgWGYbBo0SKsWLECvr6+8PX1xYoVK2BlZYW5c+cCALKzs7Fjxw5MnToVLi4uyMjIwOuvv47Q0FCMGTOmS671XqJXr168+GuIlZUVYmJiEBMTg/r6ehw7dgxxcXF47LHHIBKJMH36dMyaNQv33Xef0YQZwzAQiUQoKSmBp6cn+vXrB5lMhry8PGRkZPDiyM3NrUtsVjgbGrVabZRhFIZhYGdnBzs7OwwcOJD3GszPz0dmZiaf2evq6tqmnjdCCH766Se88847OHDgAMaOHduh82wLd2vZaM3++ttHjRplIF7HjBmDsLAwrF+/HuvWrTPWaVMoXU73WeOgUIzMjh07EBwcjMjISERGRmLIkCH48ccfDfbJysqCXC7nf3/rrbewaNEivPjiixg2bBgKCgpw5MgR3gPQzMwMx44dw+TJkzFw4EBER0fj2rVrYFm22WUnjrtNHwJAXFwcBg8eDHNzcwwePBh79+41wjNx72FhYYFp06bhu+++Q1FREX788UcIhUI8/fTT8PHxwYsvvogjR45ApVJ16HFqampw8eJFfmjExsYGAwYMwKhRozB69Gg4OTmhsLAQp06dwqVLl3Dr1q1OmwbVarVISUmBWq02mQ2NtbU1vL29MXLkSIwZMwaurq6QSqU4ffo0Lly4gJycHNTU1LR4DEIIfvnlF7z++uuIi4vDhAkTjH6eTcFF5TWs9rXUsuHh4dHk/iKRCM7Ozk3eRyAQYPjw4bh27ZpxTpxC6SZQH0AKpR1wgfL604fffPNNi9OHQUFBWLBgAZ5//nl++nDnzp188/nZs2cxduxYfPzxx5g1axb27t2LDz74gAbK66HRaHD69Gn8+uuv2LdvH2pqajBt2jRER0dj4sSJbapaVVdXIzExEZ6enk16FOpTX18PmUwGqVQKuVwOOzs73nvPFPnEnPjTaDQICwszap9ea2gudcXNzQ02NjYGz1V8fDxeeOEF7N69G9OmTevU8xw5ciTCw8MRGxvLbxs8eDCio6ObHAJ5++23ceDAAWRkZPDb/u///g8SiQRnz55t8jEIIRgxYgSCg4Px3XffGf8iKJQuggpACqUdjBw5EmFhYdi4cSO/LSAgADExMc1+8Pz222/IzMzkt73wwgtISUnhP3jmzJkDhUKBP//8k99nypQpcHR0xM6dO014NfcmWq0WZ8+e5SPpysvLMWXKFERHRyMyMrLFrGCFQoGkpCT07dsXAwYMaJN5slKpRElJCaRSKSoqKhoZMRvjujgD6q4Qfw3h+uO41BUzMzOcOHECI0eORF1dHZ555hns2LEDMTExnX5u3BexTZs2ISIiAlu2bMHWrVuRnp4OLy8vLFmyBAUFBfjhhx8A3Pki9vzzz2PBggU4e/YsXnjhBYMvYsuXL8eoUaPg6+sLhUKBdevW4ccff8SZM2f4fmIK5d8A7QGkUNqIqaYPz549i8WLFzfahyaONI1QKMR9992H++67D1988QUuXryIuLg4LFu2DM899xwiIyMRHR2NqKgofgkf0A0CZGZmwtvbG/3792/z45qbm6NPnz7o06cP1Go1Lwazs7NhZWXFi8GGlbLWwIk/lmW7hfgDAJFIBA8PD3h4ePBegxs2bMD69euhVqsxbtw4WFtbG0zRdhZz5sxBWVkZPvroIxQVFSEoKAgHDx6El5cXAKCoqAh5eXn8/t7e3jh48CAWL16MDRs2wNPTE+vWrTOwgKmsrMRzzz2H4uJi2NvbIzQ0FKdOnaLij/Kvg1YAKZQ2UlhYiN69e+PMmTMGE8UrVqzA999/38hAFgAGDRqE+fPn49133+W3JSQkYMyYMSgsLESvXr1gZmaG7du38wMnAPDzzz/jqaeeglKpNO1F/Yvgpmb37NmD+Ph45OTk4IEHHkB0dDQsLS2xcOFC7N+/3+iWPc3lE7u5ucHOzu6uYlBf/IWGhnYL8dccx48fx9y5c/Hyyy9DLpdj3759qK2txTfffGMgpigUSvel+/6FoVC6OcaePmzPMSmNEQgECA0NRWhoKP73v/8hPT0de/bswcqVK3Hr1i2MHz8eqamp8PLygpOTk9GeX5FIhF69eqFXr16NUjlEIpFBKkfDx9RqtUhOTgYhpNuLv1OnTuHRRx/F+vXr8eSTT4JhGKxfvx4XLlygVkgUyj1E9/0rQ6F0U0w1fdjcPi2ZUFNahmEYBAUFIScnB59//jlWrlwJlUqFb7/9Fq+++irGjh2LmJgYzJgxA25ubkYTgw1TOcrKyiCTyZCSkgKGYXgx6OjoCEIIkpOTAehMxbtT9FxDEhISMHv2bHzxxRe8+AN0otvUvn8UCsW4UBsYCqWNmJmZITw8vFH279GjR5s1mY6IiGi0/5EjRzBs2DC+b6q5fZo7JqV1lJWV4cknn8T333+PN954A++++y4uXryIrKwsREVFYefOnRg0aBCioqKwceNGFBQUwJidMQKBAK6urggMDMS4ceP4XNy0tDScOnUKp0+fhlqt7na5ww25cOECHn74YaxYsQILFiyglWkK5R6HCkAKpR289tpr+Oabb/Ddd98hMzMTixcvRl5eHl544QUAwJIlS/DEE0/w+7/wwgvIzc3Fa6+9hszMTHz33Xf49ttv8cYbb/D7LFy4EEeOHMGqVatw5coVrFq1Cn/99RcWLVrU2Zf3r8LZ2RlXr15tlPU6YMAAvPnmm0hISEB2djYefPBB7N+/HwEBAZg4cSK++uor5ObmGl0MOjs7IyAgAKNHj4a5uTkYhoFarcbp06eRmpoKmUwGrVZrtMc0BklJSZg1axY+/PBDvPTSSyYRf7GxsfD29oaFhQXCw8Pxzz//tLg/9dWkUDoIoVAo7WLDhg3Ey8uLmJmZkbCwMHLy5En+tieffJKMHz/eYP8TJ06Q0NBQYmZmRvr37082btzY6Ji//vor8fPzI2KxmPj7+5O4uDhTXwZFD5ZlSUFBAfn666/Jf/7zHyISiUhYWBj56KOPSEpKCqmuriY1NTUd/pHL5eTEiRPk1KlTRKFQkOrqalJYWEgkEgk5fPgw+e2330hCQgLJzs4mcrncKI/Z3p+zZ88SJycn8umnnxKWZU3yvO/atYuIxWKydetWkpGRQRYuXEisra1Jbm5uk/vfuHGDWFlZkYULF5KMjAyydetWIhaLyZ49e/h9EhISiFAoJCtWrCCZmZlkxYoVRCQSkXPnzpnkGiiUew06BUyh3CPExsbis88+Q1FREQIDA7F27doWI7dOnjyJ1157Denp6fD09MRbb73FVygBYPv27Xjqqaca3a+urq5Nhsr/VgghKC0txd69exEXF4e///4b/v7+iImJQXR0NPz9/dtVCdNoNEhOToZAIEBISEijZV9CCKqrqyGVSiGTyVBXVwcnJye4u7t3ej5xRkYGoqKi8Morr+D999832bIv9dWkUDofugRModwD7N69G4sWLcJ7772H5ORkjB07FlFRUQYeZ/rcvHkTU6dOxdixY5GcnIx3330Xr776KuLi4gz2s7OzQ1FRkcEPFX86GIaBq6srnnvuORw6dAjFxcVYvHgxkpOTMWbMGAwfPhwff/wx0tLSwLJsq46p0WiQlJQEoVDYpPjjHtfW1hYDBw7E6NGjMWrUKDg4OCAvLw8nT55EUlIS8vPzOxyDdzeysrIwffp0PPfccyYVf5yvZkOfzPb4al66dAlqtbrFfe4W2Uih9BToFDCFcg/w5Zdf4plnnsGzzz4LAFi7di0OHz6MjRs3Nlkh2bRpE/r168ebSAcEBODSpUv4/PPPG/XCeXh4dMo13MswDAMnJyc89dRTeOqppyCXy3HgwAHEx8fjP//5Dzw9PfnKYEhICASCxt+t1Wo1kpOTIRKJ2jTwweX1ent7o66uDlKpFIWFhbhy5QocHBz4iWJjCvfr169j+vTpmDdvHj7++GOTDnyUlpZCq9U2mnZ3d3dvNBXPUVxc3OT+XGpJr169mt2nuWNSKD0NWgGkULo5pqqQALo8XC8vL/Tp0wfTp0/n7UgoLWNvb4/HH38c8fHxkEql+OSTT5CXl4eoqCgEBwdjyZIlOH/+PF8ZLC0txa5du9os/hpiaWmJ/v37Y8SIEbjvvvvg5uYGmUyG06dP48KFC8jJyUFdXV2Hri0nJwfTp0/HQw89hFWrVjUpZk0B9dWkUDoXWgGkULo5pqqQ+Pv7Y/v27QgODoZCocBXX32FMWPGICUlBb6+via7nn8bNjY2mD17NmbPno3a2locPnwYcXFxePDBB2FjY4MpU6bg5MmT6Nu3L/bt22c0qxcLCwv069cP/fr1g0qlgkwmg0wmw/Xr12FjYwM3Nze4u7u3KZ/41q1bmDZtGqZOnYq1a9d2ivijvpoUStdAK4AUyj2CsSsko0aNwuOPP46hQ4di7Nix+OWXXzBo0CCsX7/eyGfec7CyssKsWbPw008/oaioCJ999hn27dsHhUKBK1eu4LXXXsOJEycMqrDGwMzMDH369EFYWBjGjx+Pfv36QaFQ4Ny5c0hISMD169dRVVXVoqVNUVERpk2bhvvvvx8bNmzotMof9dWkULoGWgGkULo5pqqQNEQgEGD48OG4du2acU68h1NXV4cvvvgCERER+Pnnn5GQkIC4uDg89dRT0Gq1mD59OmJiYjBhwgSYmZkZ7XHFYjE8PT3h6enJV3xlMhkuXLgAc3NzuLu7N8onlkqlmDZtGkaPHo0tW7Z0uiH1a6+9hnnz5mHYsGGIiIjAli1bGvlqFhQU4IcffgCgm/j9+uuv8dprr2HBggU4e/Ysvv32W4Pp3oULF2LcuHFYtWoVoqOjsX//fvz11184ffp0p14bhdJdoQKQQunm6FdIZs2axW8/evQooqOjm7xPREQEDhw4YLCtYYWkIYQQSCQSBAcHG+/kezApKSnw9vbGTz/9BDMzM0RGRiIyMhIbNmzAP//8gz179uCll15CbW0tpk2bhpkzZ2LixIlGHeYQiUTw8PCAh4cHtFotH0mXlJSEK1euICkpCVOmTMGqVasQEhKC7777rkvSSObMmYOysjJ89NFHKCoqQlBQEA4ePAgvLy8Auuqk/sS7t7c3Dh48iMWLF2PDhg3w9PTEunXrDAacRo8ejV27dmHp0qV4//334ePjg927d2PkyJGdfn0USneE+gBSKPcAu3fvxrx587Bp0ya+QrJ161akp6fDy8urUYXk5s2bCAoKwvPPP89XSF544QXs3LmT/5Bcvnw5Ro0aBV9fXygUCqxbtw4//vgjzpw5gxEjRnTl5fYYtFotXxncu3cvKisrMWXKFERHRyMyMhJWVlYmeVyWZXHmzBmsX78eJ06cgEajwfz58/Hf//4X48ePh0hEawMUyr8dKgAplHuE2NhYrF69mq+QrFmzBuPGjQMAzJ8/Hzk5OThx4gS//8mTJ7F48WLeCPrtt982MIJevHgx4uPjUVxcDHt7e4SGhmLZsmWIiIjo7EujQCfKLl68iD179mDv3r0oLi7GpEmTEBMTgylTpsDW1taoj1dZWYkZM2bAw8MDr776Kvbv34+9e/eCYRjk5OQYdVmaQqF0P6gApFAozdKW9JGioiK8/vrrSExMxLVr1/Dqq6/yPoT6xMXF4f3330d2djZ8fHzwySefGCxtU3RiUCKR8GIwJycHEydORHR0NKZOnQp7e/sO2ZkoFArExMTAwcEB+/bt45edWZZFZmYmAgMDjXUpFAqlm0KngCkUSpO0NX1EqVTC1dUV7733HoYOHdrkPmfPnsWcOXMwb948pKSkYN68eZg9ezbOnz9vyku55xAIBAgLC8OKFSuQkZGBixcvIjw8HOvWrYO3tzceeugh/PDDDygrK2txsrcpqqur8fDDD8Pa2hp79+416DkUCARU/FEoPQRaAaRQKE3S1nxWfSZMmICQkJBGFUCaz9oxCCG4evUq4uLiEBcXh8uXL2PcuHGIjo7GjBkz4Obm1mJlsLa2Fg8//DAIIfjjjz9gY2PTiWdPoVC6E7QCSKFQGtGe9JHWQPNZOwbDMPDz88O7776LS5cu4cqVK5g8eTJ+/vlnDBo0CFFRUdi4cSMKCwsbVQbr6+vx6KOPQqVS4cCBA50m/ioqKjBv3jzY29vD3t4e8+bNQ2VlZYv3IYRg2bJl8PT0hKWlJSZMmID09HSDfSZMmACGYQx+HnnkERNeCYXy74IKQAqF0oj2pI+0BprPajwYhoGPjw/eeustnD17FtnZ2Zg1axb279+PgIAATJo0CevWrUNeXh6USiUef/xxyOVyHDx4EHZ2dp12nnPnzoVEIsGhQ4dw6NAhSCQSzJs3r8X7rF69Gl9++SW+/vprXLx4ER4eHpg0aRKqqqoM9luwYAGKior4n82bN5vyUiiUfxVUAFIolGYxRZYq+h1jbQAAC+FJREFUzWc1PgzDoF+/fli8eDFOnjyJnJwczJ07F0eOHEFQUBAGDBiA7OxsHDp0CA4ODp12XpmZmTh06BC++eYbREREICIiAlu3bsXvv/+OrKysJu9DCMHatWvx3nvv4cEHH0RQUBC+//571NbW4ueffzbY18rKivc59PDwgL29fWdcFoXyr4AKQAqF0oj2pI+0BprPanoYhkHv3r3x8ssv49ixYygsLERMTAzi4uLg5OTUqedy9uxZ2NvbG5gvjxo1Cvb29s0u+9+8eRPFxcUGrQLm5uYYP358o/vs2LEDLi4uCAwMxBtvvNGoQkihUJqHCkAKhdKI9uSztgaaz9q5MAwDNzc3bNu2DUFBQZ3++MXFxXBzc2u03c3Nrdllf2773VoFHnvsMezcuRMnTpzA+++/j7i4ODz44INGPHsK5d8NtXunUChN0tZ8VgCQSCQAdFYjJSUlkEgkMDMzw+DBgwHQfNZ/C8uWLcPy5ctb3OfixYsAGi/5A61b9r9bq8CCBQv4/w8KCoKvry+GDRuGpKQkhIWF3fUaKJSeDq0AUiiUJpkzZw7Wrl2Ljz76CCEhITh16lSL+awAEBoaitDQUCQmJuLnn39GaGgopk6dyt/O5bNu27YNQ4YMwfbt25vMZ42NjYW3tzcsLCwQHh6Of/75p9nzLCoqwty5c+Hn5weBQIBFixY12mf79u2NJkYZhkF9fX0HnqGey8svv4zMzMwWf4KCguDh4QGpVNro/iUlJc0u+3t4eABAm1sFwsLCIBaLce3atQ5cGYXSc6AVQAqF0iwvvvgiXnzxxSZv2759e6NtrbEVffjhh/Hwww83eztnQB0bG4sxY8Zg8+bNiIqKQkZGBvr169dof30D6jVr1jR7XDs7u0aDB/omyJTW4+LiAhcXl7vuFxERAblcjgsXLvD50ufPn4dcLm922d/b2xseHh44evQoQkNDAehsiU6ePIlVq1Y1+1jp6elQq9Xo1atXO66IQul5UCNoCoXSrTCFAfX27duxaNGiu/rPUYxPVFQUCgsLeYuW5557Dl5eXjhw4AC/j7+/P1auXMlHAq5atQorV67Etm3b4OvrixUrVuDEiRPIysqCra0tsrOzsWPHDkydOhUuLi7IyMjA66+/DktLS1y8eBFCobBLrpVCuZegS8AUCqXbYCoDakDXl+jl5YU+ffpg+vTpSE5O7tDxKK1jx44dCA4ORmRkJCIjIzFkyBD8+OOPBvtkZWVBLpfzv7/11ltYtGgRXnzxRQwbNgwFBQU4cuQIbG1tAeiGlI4dO4bJkyfDz88Pr776KiIjI/HXX39R8UehtBK6BEyhULoNpjKg9vf3x/bt2xEcHAyFQoGvvvoKY8aMQUpKCnx9fTt62pQWcHJywk8//dTiPg0XohiGwbJly7Bs2bIm9+/bty9OnjxprFOkUHokVABSKJRuh7HNokeNGoVRo0bxv48ZMwZhYWFYv3491q1b1+7jUigUyr0KXQKmUCjdBlMZUDdEIBBg+PDhdGKUQqH0WKgApFAo3QZTGVA3hBACiURCJ0YpFEqPhS4BUyiUboUpDKiXL1+OUaNGwdfXFwqFAuvWrYNEIsGGDRs6/fooFAqlO0ArgBQKpVthCgPqyspKPPfccwgICEBkZCQKCgpw6tQp3puOcncqKiowb9482Nvbw97eHvPmzburrU58fDwmT54MFxcXMAzDC3V9lEolXnnlFbi4uMDa2hozZ85Efn6+aS6CQqHwUAFIoVC6HS+++CJycnKgVCqRmJiIcePG8bdt374dJ06cMNifENLoJycnh799zZo1yM3NhVKphEwmw+HDhxEREWFwjLakj8THx2PSpElwdXWFnZ0dIiIicPjw4Ub7xcXFYfDgwTA3N8fgwYOxd+/e9j0h3YC5c+dCIpHg0KFDOHToECQSCebNm9fifWpqajBmzBh8+umnze6zaNEi7N27F7t27cLp06dRXV2N6dOnQ6vVGvsSKBSKPoRCoVB6OLt27SJisZhs3bqVZGRkkIULFxJra2uSm5vb5P4LFy4kq1atIhcuXCBXr14lS5YsIWKxmCQlJfH7JCQkEKFQSFasWEEyMzPJihUriEgkIufOneusyzIaGRkZBIDBuZ89e5YAIFeuXLnr/W/evEkAkOTkZIPtlZWVRCwWk127dvHbCgoKiEAgIIcOHTLa+VMolMbQJBAKhdLj6Uj6CEdgYCDmzJmDDz74AIBuKVuhUODPP//k95kyZQocHR2xc+dO416Aifnuu+/w2muvNVrydXBwwJo1a/DUU0+1eP+cnBx4e3sjOTkZISEh/Pbjx4/jgQceQHl5ORwdHfntQ4cORUxMDJYvX27My6BQKHrQJWAKhdKjMUb6CMuyqKqqgpOTE7/t7NmzjY45efLkDieadAXFxcVwc3NrtN3Nza1DBt3FxcUwMzMzEH9Ax42/KRTK3aECkEKh9GiMkT7yxRdfoKamBrNnz+a3FRcXGz3RxNgsW7YMDMO0+HPp0iUAjc25gY4bdDeHqY5LoVDuQG1gKBQKBe1PH9m5cyeWLVuG/fv3N6qSGTvRxNi8/PLLeOSRR1rcp3///rh8+TKkUmmj20pKSjpk0O3h4QGVSoWKigqDKqBMJjOq7yOFQmkMFYAUCqVH05H0kd27d+OZZ57Br7/+iokTJxrc5uHhYfJEk47i4uICFxeXu+4XEREBuVyOCxcu8NY558+fh1wu75BQCw8Ph1gsxtGjR/nqaVFREdLS0rB69ep2H5dCodwdugRMoVB6NO1NH9m5cyfmz5+Pn3/+GdOmTWt0e0RERKNjHjly5J6sbAUEBGDKlClYsGABzp07h3PnzmHBggWYPn06/Pz8+P38/f0NrG7Ky8shkUiQkZEBAMjKyoJEIuGFsb29PZ555hm8/vrrOHbsGJKTk/H4448jODi4kaCmUChGpitHkCkUCqU7wNnAfPvttyQjI4MsWrSIWFtbk5ycHEIIIe+88w6ZN28ev//PP/9MRCIR2bBhAykqKuJ/Kisr+X3OnDlDhEIh+fTTT0lmZib59NNP71kbGEIIKSsrI4899hixtbUltra25LHHHiMVFRUG+wAg27Zt43/ftm0bAdDo58MPP+T3qaurIy+//DJxcnIilpaWZPr06SQvL69zLopC6cFQGxgKhUKBzgh69erVKCoqQlBQENasWcMbUM+fPx85OTm8AfWECRNw8uTJRsd48sknsX37dv73PXv2YOnSpbhx4wZ8fHzwySef4MEHH+yMy6FQKJQWoQKQQqFQKBQKpYdBewApFAqFQqFQehhUAFIoFAqFQqH0MKgApFAoFAqFQulhUAFIoVAoFAqF0sOgApBCoVAoFAqlh0EFIIVCoVAoFEoPgwpACoVCoVAolB4GFYAUCoVCoVAoPQwqACkUCoVCoVB6GFQAUigUCoVCofQwqACkUCgUCoVC6WFQAUihUCgUCoXSw6ACkEKhUCgUCqWHQQUghUKhUCgUSg+DCkAKhUKhUCiUHgYVgBQKhUKhUCg9DCoAKRQKhUKhUHoYVABSKBQKhUKh9DCoAKRQKBQKhULpYVABSKFQKBQKhdLDoAKQQqFQKBQKpYdBBSCFQqFQKBRKD4MKQAqFQqFQKJQeBhWAFAqFQqFQKD0MKgApFAqFQqFQehhUAFIoFAqFQqH0MKgApFAoFAqFQulhUAFIoVAoFAqF0sOgApBCoVAoFAqlh0EFIIVCoVAoFEoPgwpACoVCoVAolB4GFYAUCoVCoVAoPQwqACkUCoVCoVB6GFQAUigUCoVCofQwqACkUCgUCoVC6WFQAUihUCgUCoXSw6ACkEKhUCgUCqWHQQUghUKhUCgUSg+DCkAKhUKhUCiUHgYVgBQKhUKhUCg9DCoAKRQKhUKhUHoYVABSKBQKhUKh9DCoAKRQKBQKhULpYVABSKFQKBQKhdLDoAKQQqFQKBQKpYdBBSCFQqFQKBRKD4MKQAqFQqFQKJQeBhWAFAqFQqFQKD0MKgApFAqFQqFQehhUAFIoFAqFQqH0MKgApFAoFAqFQulhUAFIoVAoFAqF0sP4f3AVLntFOJ/nAAAAAElFTkSuQmCC' width=640.0/>\n",
       "            </div>\n",
       "        "
      ],
      "text/plain": [
       "Canvas(toolbar=Toolbar(toolitems=[('Home', 'Reset original view', 'home', 'home'), ('Back', 'Back to previous …"
      ]
     },
     "metadata": {},
     "output_type": "display_data"
    }
   ],
   "source": [
    "%matplotlib ipympl\n",
    "from mpl_toolkits.mplot3d import Axes3D\n",
    "import matplotlib.pyplot as plt\n",
    "\n",
    "\n",
    "\n",
    "\n",
    "fig = plt.figure()\n",
    "ax = fig.add_subplot(111,projection='3d')\n",
    "\n",
    "x=rec_coords_df[0]\n",
    "y=rec_coords_df[1]\n",
    "z=rec_coords_df[2]\n",
    "\n",
    "ax.scatter(x, y, z, c='r', marker='o')"
   ]
  },
  {
   "cell_type": "code",
   "execution_count": 33,
   "metadata": {},
   "outputs": [
    {
     "data": {
      "text/plain": [
       "['PUBG: BATTLEGROUNDS',\n",
       " 'Requiem: Desiderium Mortis',\n",
       " 'A Plague Tale: Innocence',\n",
       " 'Dishonored®: Death of the Outsider™',\n",
       " 'Katana ZERO',\n",
       " 'The Bridge Curse Road to Salvation',\n",
       " 'Detroit: Become Human',\n",
       " 'Borderlands 3',\n",
       " 'NARAKA: BLADEPOINT',\n",
       " 'DEATHLOOP',\n",
       " 'Bayonetta']"
      ]
     },
     "execution_count": 33,
     "metadata": {},
     "output_type": "execute_result"
    }
   ],
   "source": [
    "recommend_games(\"PUBG: BATTLEGROUNDS\",11)"
   ]
  },
  {
   "cell_type": "code",
   "execution_count": null,
   "metadata": {},
   "outputs": [],
   "source": []
  }
 ],
 "metadata": {
  "kernelspec": {
   "display_name": "Python 3 (unsupervised)",
   "language": "python",
   "name": "unsupervised"
  },
  "language_info": {
   "codemirror_mode": {
    "name": "ipython",
    "version": 3
   },
   "file_extension": ".py",
   "mimetype": "text/x-python",
   "name": "python",
   "nbconvert_exporter": "python",
   "pygments_lexer": "ipython3",
   "version": "3.9.12"
  }
 },
 "nbformat": 4,
 "nbformat_minor": 2
}
